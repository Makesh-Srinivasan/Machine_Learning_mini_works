{
 "cells": [
  {
   "cell_type": "markdown",
   "id": "3d7bd9a3",
   "metadata": {},
   "source": [
    "# Lab FAT: ML\n",
    "__Name: Makesh Srinivasan<br>\n",
    "Registration number: 19BCE1717<br>\n",
    "Course code: CSE4020<br>\n",
    "Faculty: Dr. Abdul Quadir<br>\n",
    "Slot: L31 + L32<br>\n",
    "Date: 22-November-2021 Monday__"
   ]
  },
  {
   "cell_type": "markdown",
   "id": "83f46080",
   "metadata": {},
   "source": [
    "Question:<br>"
   ]
  },
  {
   "cell_type": "markdown",
   "id": "5d3b90ef",
   "metadata": {},
   "source": [
    "<strong>AIM: </strong>Create a program to address the class imbalance problem for a synthetic binary classification dataset. The dataset must have at least 4 features\n",
    "<br><hr>"
   ]
  },
  {
   "cell_type": "markdown",
   "id": "71a8c4b7",
   "metadata": {},
   "source": [
    "L31 + L32 MACHINE LEARNING FAT LAB EXAM QUESTIONS\n",
    "\n",
    "\n",
    "\n",
    "L31 + L32 MACHINE LEARNING FAT LAB EXAM QUESTIONS\n",
    "\n",
    "Use of intelligence is highly appreciated.\n",
    "You have to create an ipy notebook and conduct all the experiments.\n",
    "Mention the question  in the text cell and next ’code cell’ shall contain the code related to the respective\n",
    "question.\n",
    "All your inferences shall be put in the text cell with the respective question number.\n",
    "You are requested to convert interactive python note book (ipynb) into a pdf file (single file) and upload in Moodle and vtop\n",
    "Upload the html file and jpynb file in respective links\n",
    "Create a report after completing your experiment having the following details in the separate cell:\n",
    "\n",
    "a)      Objective of the experiment \n",
    "\n",
    "b)     Inference from the experiment.\n",
    "\n",
    "=================================================\n",
    "\n",
    "Reg no and Name in the cell\n",
    "\n",
    "Question No and Question in the cell\n",
    "\n",
    "Aim \n",
    "\n",
    "Code with every step output\n",
    "\n",
    "split x and y\n",
    "\n",
    "correlation \n",
    "\n",
    "graphs plot\n",
    "\n",
    "accuracy\n",
    "\n",
    "etc etc\n",
    "\n",
    "Inference in the last cell\n",
    "\n",
    "=============================================\n",
    "\n",
    "Methodology\t         Comparitive analysis\t             Output \n",
    "\n",
    "\n",
    "        10\t                           10\t                                        20"
   ]
  },
  {
   "cell_type": "markdown",
   "id": "8c6c75da",
   "metadata": {},
   "source": [
    "QUESTION 5\n",
    "\n",
    "\n",
    "\n",
    "Create a program to address the class imbalance problem for a synthetic binary classification dataset. The dataset must have at least 4 features\n",
    "\n",
    "a.The dataset should have 10,000 samples. Variate the class distribution of the samples to handle the implementation using different methods. \n",
    "\n",
    "b. Change the sampling strategy by altering the class distribution to see if there is any lift in performance \n",
    "\n",
    "c. Observe the change by calculating the accuracy. Also, display and plot the transformed dataset."
   ]
  },
  {
   "cell_type": "markdown",
   "id": "3add83c9",
   "metadata": {},
   "source": [
    "<h2><center>Part a</center></h2>"
   ]
  },
  {
   "cell_type": "markdown",
   "id": "d2a060bf",
   "metadata": {},
   "source": [
    "### Dataset generation:"
   ]
  },
  {
   "cell_type": "markdown",
   "id": "b0aa5421",
   "metadata": {},
   "source": [
    "The dataset should have 10,000 samples. Variate the class distribution of the samples to handle the implementation using different methods. "
   ]
  },
  {
   "cell_type": "code",
   "execution_count": 3,
   "id": "c504604c",
   "metadata": {},
   "outputs": [
    {
     "data": {
      "text/html": [
       "        <script type=\"text/javascript\">\n",
       "        window.PlotlyConfig = {MathJaxConfig: 'local'};\n",
       "        if (window.MathJax) {MathJax.Hub.Config({SVG: {font: \"STIX-Web\"}});}\n",
       "        if (typeof require !== 'undefined') {\n",
       "        require.undef(\"plotly\");\n",
       "        requirejs.config({\n",
       "            paths: {\n",
       "                'plotly': ['https://cdn.plot.ly/plotly-2.2.0.min']\n",
       "            }\n",
       "        });\n",
       "        require(['plotly'], function(Plotly) {\n",
       "            window._Plotly = Plotly;\n",
       "        });\n",
       "        }\n",
       "        </script>\n",
       "        "
      ]
     },
     "metadata": {},
     "output_type": "display_data"
    }
   ],
   "source": [
    "import numpy as np\n",
    "import pandas as pd\n",
    "import matplotlib.pyplot as plt\n",
    "%matplotlib inline\n",
    "import plotly.express as px\n",
    "import plotly.graph_objs as go\n",
    "from numpy.random import seed\n",
    "from numpy.random import randint\n",
    "import plotly\n",
    "import plotly.io as pio\n",
    "import plotly.offline as pyo\n",
    "pio.renderers.default='notebook'\n",
    "pyo.init_notebook_mode(connected=True)"
   ]
  },
  {
   "cell_type": "markdown",
   "id": "4a56daf2",
   "metadata": {},
   "source": [
    "The seed function makes sure that the creation of the dataset is same for all runs. The question says minimum four features, hence, there are 4 as shown below. The qustion also says to variate the class distribution of the label (binary classification - only two classes) so I made a difference in the distribution with the ration of class1 to class2 as 1:3"
   ]
  },
  {
   "cell_type": "code",
   "execution_count": 38,
   "id": "62ce7320",
   "metadata": {},
   "outputs": [],
   "source": [
    "seed(1)\n",
    "feature_1 = randint(0, 10, 10000)\n",
    "feature_2 = randint(0, 20, 10000)\n",
    "feature_3 = randint(0, 30, 10000)\n",
    "feature_4 = randint(0, 40, 10000)\n",
    "label_c1 = randint(1, 2, 7500)\n",
    "label_c2 = randint(0, 1, 2500)\n",
    "label = np.array(list(label_c1) + list(label_c2))"
   ]
  },
  {
   "cell_type": "code",
   "execution_count": 39,
   "id": "a1caf3b4",
   "metadata": {},
   "outputs": [
    {
     "data": {
      "text/html": [
       "<div>\n",
       "<style scoped>\n",
       "    .dataframe tbody tr th:only-of-type {\n",
       "        vertical-align: middle;\n",
       "    }\n",
       "\n",
       "    .dataframe tbody tr th {\n",
       "        vertical-align: top;\n",
       "    }\n",
       "\n",
       "    .dataframe thead th {\n",
       "        text-align: right;\n",
       "    }\n",
       "</style>\n",
       "<table border=\"1\" class=\"dataframe\">\n",
       "  <thead>\n",
       "    <tr style=\"text-align: right;\">\n",
       "      <th></th>\n",
       "      <th>feature_1</th>\n",
       "      <th>feature_2</th>\n",
       "      <th>feature_3</th>\n",
       "      <th>feature_4</th>\n",
       "      <th>label</th>\n",
       "    </tr>\n",
       "  </thead>\n",
       "  <tbody>\n",
       "    <tr>\n",
       "      <th>0</th>\n",
       "      <td>5</td>\n",
       "      <td>15</td>\n",
       "      <td>1</td>\n",
       "      <td>3</td>\n",
       "      <td>1</td>\n",
       "    </tr>\n",
       "    <tr>\n",
       "      <th>1</th>\n",
       "      <td>8</td>\n",
       "      <td>0</td>\n",
       "      <td>20</td>\n",
       "      <td>12</td>\n",
       "      <td>1</td>\n",
       "    </tr>\n",
       "    <tr>\n",
       "      <th>2</th>\n",
       "      <td>9</td>\n",
       "      <td>0</td>\n",
       "      <td>26</td>\n",
       "      <td>17</td>\n",
       "      <td>1</td>\n",
       "    </tr>\n",
       "    <tr>\n",
       "      <th>3</th>\n",
       "      <td>5</td>\n",
       "      <td>8</td>\n",
       "      <td>13</td>\n",
       "      <td>30</td>\n",
       "      <td>1</td>\n",
       "    </tr>\n",
       "    <tr>\n",
       "      <th>4</th>\n",
       "      <td>0</td>\n",
       "      <td>2</td>\n",
       "      <td>2</td>\n",
       "      <td>27</td>\n",
       "      <td>1</td>\n",
       "    </tr>\n",
       "    <tr>\n",
       "      <th>...</th>\n",
       "      <td>...</td>\n",
       "      <td>...</td>\n",
       "      <td>...</td>\n",
       "      <td>...</td>\n",
       "      <td>...</td>\n",
       "    </tr>\n",
       "    <tr>\n",
       "      <th>9995</th>\n",
       "      <td>9</td>\n",
       "      <td>18</td>\n",
       "      <td>16</td>\n",
       "      <td>18</td>\n",
       "      <td>0</td>\n",
       "    </tr>\n",
       "    <tr>\n",
       "      <th>9996</th>\n",
       "      <td>4</td>\n",
       "      <td>9</td>\n",
       "      <td>7</td>\n",
       "      <td>11</td>\n",
       "      <td>0</td>\n",
       "    </tr>\n",
       "    <tr>\n",
       "      <th>9997</th>\n",
       "      <td>5</td>\n",
       "      <td>0</td>\n",
       "      <td>4</td>\n",
       "      <td>28</td>\n",
       "      <td>0</td>\n",
       "    </tr>\n",
       "    <tr>\n",
       "      <th>9998</th>\n",
       "      <td>3</td>\n",
       "      <td>8</td>\n",
       "      <td>5</td>\n",
       "      <td>9</td>\n",
       "      <td>0</td>\n",
       "    </tr>\n",
       "    <tr>\n",
       "      <th>9999</th>\n",
       "      <td>5</td>\n",
       "      <td>9</td>\n",
       "      <td>26</td>\n",
       "      <td>39</td>\n",
       "      <td>0</td>\n",
       "    </tr>\n",
       "  </tbody>\n",
       "</table>\n",
       "<p>10000 rows × 5 columns</p>\n",
       "</div>"
      ],
      "text/plain": [
       "      feature_1  feature_2  feature_3  feature_4  label\n",
       "0             5         15          1          3      1\n",
       "1             8          0         20         12      1\n",
       "2             9          0         26         17      1\n",
       "3             5          8         13         30      1\n",
       "4             0          2          2         27      1\n",
       "...         ...        ...        ...        ...    ...\n",
       "9995          9         18         16         18      0\n",
       "9996          4          9          7         11      0\n",
       "9997          5          0          4         28      0\n",
       "9998          3          8          5          9      0\n",
       "9999          5          9         26         39      0\n",
       "\n",
       "[10000 rows x 5 columns]"
      ]
     },
     "execution_count": 39,
     "metadata": {},
     "output_type": "execute_result"
    }
   ],
   "source": [
    "data = pd.DataFrame({'feature_1':feature_1, 'feature_2':feature_2,'feature_3':feature_3, 'feature_4':feature_4, 'label':label})\n",
    "data"
   ]
  },
  {
   "cell_type": "markdown",
   "id": "4677a001",
   "metadata": {},
   "source": [
    "<h2><center>Part B</center></h2>"
   ]
  },
  {
   "cell_type": "markdown",
   "id": "1bb95a6b",
   "metadata": {},
   "source": [
    "Change the sampling strategy by altering the class distribution to see if there is any lift in performance "
   ]
  },
  {
   "cell_type": "markdown",
   "id": "8751d670",
   "metadata": {},
   "source": [
    "__Values of the label - Outcome__"
   ]
  },
  {
   "cell_type": "code",
   "execution_count": 40,
   "id": "52afce48",
   "metadata": {},
   "outputs": [
    {
     "data": {
      "text/plain": [
       "1    7500\n",
       "0    2500\n",
       "Name: label, dtype: int64"
      ]
     },
     "execution_count": 40,
     "metadata": {},
     "output_type": "execute_result"
    }
   ],
   "source": [
    "data.label.value_counts()"
   ]
  },
  {
   "cell_type": "markdown",
   "id": "72510232",
   "metadata": {},
   "source": []
  },
  {
   "cell_type": "markdown",
   "id": "4569aade",
   "metadata": {},
   "source": [
    "__Splitting x and y:__"
   ]
  },
  {
   "cell_type": "code",
   "execution_count": 41,
   "id": "7ac16023",
   "metadata": {},
   "outputs": [
    {
     "data": {
      "text/html": [
       "<div>\n",
       "<style scoped>\n",
       "    .dataframe tbody tr th:only-of-type {\n",
       "        vertical-align: middle;\n",
       "    }\n",
       "\n",
       "    .dataframe tbody tr th {\n",
       "        vertical-align: top;\n",
       "    }\n",
       "\n",
       "    .dataframe thead th {\n",
       "        text-align: right;\n",
       "    }\n",
       "</style>\n",
       "<table border=\"1\" class=\"dataframe\">\n",
       "  <thead>\n",
       "    <tr style=\"text-align: right;\">\n",
       "      <th></th>\n",
       "      <th>feature_1</th>\n",
       "      <th>feature_2</th>\n",
       "      <th>feature_3</th>\n",
       "      <th>feature_4</th>\n",
       "    </tr>\n",
       "  </thead>\n",
       "  <tbody>\n",
       "    <tr>\n",
       "      <th>0</th>\n",
       "      <td>5</td>\n",
       "      <td>15</td>\n",
       "      <td>1</td>\n",
       "      <td>3</td>\n",
       "    </tr>\n",
       "    <tr>\n",
       "      <th>1</th>\n",
       "      <td>8</td>\n",
       "      <td>0</td>\n",
       "      <td>20</td>\n",
       "      <td>12</td>\n",
       "    </tr>\n",
       "    <tr>\n",
       "      <th>2</th>\n",
       "      <td>9</td>\n",
       "      <td>0</td>\n",
       "      <td>26</td>\n",
       "      <td>17</td>\n",
       "    </tr>\n",
       "    <tr>\n",
       "      <th>3</th>\n",
       "      <td>5</td>\n",
       "      <td>8</td>\n",
       "      <td>13</td>\n",
       "      <td>30</td>\n",
       "    </tr>\n",
       "    <tr>\n",
       "      <th>4</th>\n",
       "      <td>0</td>\n",
       "      <td>2</td>\n",
       "      <td>2</td>\n",
       "      <td>27</td>\n",
       "    </tr>\n",
       "  </tbody>\n",
       "</table>\n",
       "</div>"
      ],
      "text/plain": [
       "   feature_1  feature_2  feature_3  feature_4\n",
       "0          5         15          1          3\n",
       "1          8          0         20         12\n",
       "2          9          0         26         17\n",
       "3          5          8         13         30\n",
       "4          0          2          2         27"
      ]
     },
     "execution_count": 41,
     "metadata": {},
     "output_type": "execute_result"
    }
   ],
   "source": [
    "X = data.drop(['label'],axis=1)\n",
    "y = data['label']\n",
    "X.head()"
   ]
  },
  {
   "cell_type": "markdown",
   "id": "e74c1f27",
   "metadata": {},
   "source": [
    "Without any appliation of sampling strategy:"
   ]
  },
  {
   "cell_type": "code",
   "execution_count": 64,
   "id": "102c2ccd",
   "metadata": {},
   "outputs": [
    {
     "name": "stdout",
     "output_type": "stream",
     "text": [
      "Accuracy =  0.6845\n"
     ]
    },
    {
     "data": {
      "text/html": [
       "<div>\n",
       "<style scoped>\n",
       "    .dataframe tbody tr th:only-of-type {\n",
       "        vertical-align: middle;\n",
       "    }\n",
       "\n",
       "    .dataframe tbody tr th {\n",
       "        vertical-align: top;\n",
       "    }\n",
       "\n",
       "    .dataframe thead th {\n",
       "        text-align: right;\n",
       "    }\n",
       "</style>\n",
       "<table border=\"1\" class=\"dataframe\">\n",
       "  <thead>\n",
       "    <tr style=\"text-align: right;\">\n",
       "      <th>col_0</th>\n",
       "      <th>0</th>\n",
       "      <th>1</th>\n",
       "    </tr>\n",
       "    <tr>\n",
       "      <th>label</th>\n",
       "      <th></th>\n",
       "      <th></th>\n",
       "    </tr>\n",
       "  </thead>\n",
       "  <tbody>\n",
       "    <tr>\n",
       "      <th>0</th>\n",
       "      <td>57</td>\n",
       "      <td>465</td>\n",
       "    </tr>\n",
       "    <tr>\n",
       "      <th>1</th>\n",
       "      <td>166</td>\n",
       "      <td>1312</td>\n",
       "    </tr>\n",
       "  </tbody>\n",
       "</table>\n",
       "</div>"
      ],
      "text/plain": [
       "col_0    0     1\n",
       "label           \n",
       "0       57   465\n",
       "1      166  1312"
      ]
     },
     "execution_count": 64,
     "metadata": {},
     "output_type": "execute_result"
    }
   ],
   "source": [
    "from sklearn.model_selection import train_test_split\n",
    "from sklearn.neighbors import KNeighborsClassifier\n",
    "from sklearn.metrics import accuracy_score\n",
    "\n",
    "X_train, X_test, y_train, y_test = train_test_split(X, y, test_size = 0.2, random_state = 20)\n",
    "model = KNeighborsClassifier()\n",
    "model.fit(X_train, y_train)\n",
    "\n",
    "y_predict = model.predict(X_test)\n",
    "acc_n = accuracy_score(y_test, y_predict)\n",
    "print(\"Accuracy = \", acc_n)\n",
    "pd.crosstab(y_test, y_predict)"
   ]
  },
  {
   "cell_type": "code",
   "execution_count": null,
   "id": "7dfc80c6",
   "metadata": {},
   "outputs": [],
   "source": []
  },
  {
   "cell_type": "code",
   "execution_count": 43,
   "id": "92b8eac4",
   "metadata": {},
   "outputs": [],
   "source": [
    "from imblearn.over_sampling import RandomOverSampler\n",
    "from collections import Counter"
   ]
  },
  {
   "cell_type": "code",
   "execution_count": 44,
   "id": "8b119448",
   "metadata": {},
   "outputs": [],
   "source": [
    "over=RandomOverSampler()\n",
    "Over_X,Over_y=over.fit_resample(X,y)"
   ]
  },
  {
   "cell_type": "code",
   "execution_count": 45,
   "id": "b3fbecff",
   "metadata": {},
   "outputs": [
    {
     "name": "stdout",
     "output_type": "stream",
     "text": [
      "Counter({1: 7500, 0: 7500})\n"
     ]
    },
    {
     "data": {
      "text/plain": [
       "0        1\n",
       "1        1\n",
       "2        1\n",
       "3        1\n",
       "4        1\n",
       "        ..\n",
       "14995    0\n",
       "14996    0\n",
       "14997    0\n",
       "14998    0\n",
       "14999    0\n",
       "Name: label, Length: 15000, dtype: int64"
      ]
     },
     "execution_count": 45,
     "metadata": {},
     "output_type": "execute_result"
    }
   ],
   "source": [
    "print(Counter(Over_y))\n",
    "Over_y"
   ]
  },
  {
   "cell_type": "code",
   "execution_count": 56,
   "id": "6e3b7237",
   "metadata": {},
   "outputs": [
    {
     "name": "stdout",
     "output_type": "stream",
     "text": [
      "Accuracy =  0.638\n"
     ]
    },
    {
     "data": {
      "text/html": [
       "<div>\n",
       "<style scoped>\n",
       "    .dataframe tbody tr th:only-of-type {\n",
       "        vertical-align: middle;\n",
       "    }\n",
       "\n",
       "    .dataframe tbody tr th {\n",
       "        vertical-align: top;\n",
       "    }\n",
       "\n",
       "    .dataframe thead th {\n",
       "        text-align: right;\n",
       "    }\n",
       "</style>\n",
       "<table border=\"1\" class=\"dataframe\">\n",
       "  <thead>\n",
       "    <tr style=\"text-align: right;\">\n",
       "      <th>col_0</th>\n",
       "      <th>0</th>\n",
       "      <th>1</th>\n",
       "    </tr>\n",
       "    <tr>\n",
       "      <th>label</th>\n",
       "      <th></th>\n",
       "      <th></th>\n",
       "    </tr>\n",
       "  </thead>\n",
       "  <tbody>\n",
       "    <tr>\n",
       "      <th>0</th>\n",
       "      <td>1094</td>\n",
       "      <td>392</td>\n",
       "    </tr>\n",
       "    <tr>\n",
       "      <th>1</th>\n",
       "      <td>694</td>\n",
       "      <td>820</td>\n",
       "    </tr>\n",
       "  </tbody>\n",
       "</table>\n",
       "</div>"
      ],
      "text/plain": [
       "col_0     0    1\n",
       "label           \n",
       "0      1094  392\n",
       "1       694  820"
      ]
     },
     "execution_count": 56,
     "metadata": {},
     "output_type": "execute_result"
    }
   ],
   "source": [
    "train_x, test_x, train_y, test_y = train_test_split(Over_X,Over_y, test_size=0.2, random_state=10)\n",
    "model = KNeighborsClassifier()\n",
    "model.fit(train_x,train_y)\n",
    "y_predict = model.predict(test_x)\n",
    "over_acc = accuracy_score(test_y,y_predict)\n",
    "print(\"Accuracy = \", over_acc)\n",
    "pd.crosstab(test_y,y_predict)"
   ]
  },
  {
   "cell_type": "code",
   "execution_count": null,
   "id": "94f10b49",
   "metadata": {},
   "outputs": [],
   "source": []
  },
  {
   "cell_type": "code",
   "execution_count": 47,
   "id": "6477295a",
   "metadata": {},
   "outputs": [],
   "source": [
    "from imblearn.under_sampling import RandomUnderSampler"
   ]
  },
  {
   "cell_type": "code",
   "execution_count": 48,
   "id": "4684f7d9",
   "metadata": {},
   "outputs": [
    {
     "name": "stdout",
     "output_type": "stream",
     "text": [
      "Counter({0: 2500, 1: 2500})\n"
     ]
    }
   ],
   "source": [
    "under=RandomUnderSampler()\n",
    "Under_X,Under_y=under.fit_resample(X,y)\n",
    "print(Counter(Under_y))"
   ]
  },
  {
   "cell_type": "code",
   "execution_count": 49,
   "id": "c3f66aae",
   "metadata": {},
   "outputs": [
    {
     "data": {
      "text/plain": [
       "0       0\n",
       "1       0\n",
       "2       0\n",
       "3       0\n",
       "4       0\n",
       "       ..\n",
       "4995    1\n",
       "4996    1\n",
       "4997    1\n",
       "4998    1\n",
       "4999    1\n",
       "Name: label, Length: 5000, dtype: int64"
      ]
     },
     "execution_count": 49,
     "metadata": {},
     "output_type": "execute_result"
    }
   ],
   "source": [
    "Under_y"
   ]
  },
  {
   "cell_type": "code",
   "execution_count": 57,
   "id": "c7cbf760",
   "metadata": {},
   "outputs": [
    {
     "name": "stdout",
     "output_type": "stream",
     "text": [
      "Accuracy =  0.521\n"
     ]
    },
    {
     "data": {
      "text/html": [
       "<div>\n",
       "<style scoped>\n",
       "    .dataframe tbody tr th:only-of-type {\n",
       "        vertical-align: middle;\n",
       "    }\n",
       "\n",
       "    .dataframe tbody tr th {\n",
       "        vertical-align: top;\n",
       "    }\n",
       "\n",
       "    .dataframe thead th {\n",
       "        text-align: right;\n",
       "    }\n",
       "</style>\n",
       "<table border=\"1\" class=\"dataframe\">\n",
       "  <thead>\n",
       "    <tr style=\"text-align: right;\">\n",
       "      <th>col_0</th>\n",
       "      <th>0</th>\n",
       "      <th>1</th>\n",
       "    </tr>\n",
       "    <tr>\n",
       "      <th>label</th>\n",
       "      <th></th>\n",
       "      <th></th>\n",
       "    </tr>\n",
       "  </thead>\n",
       "  <tbody>\n",
       "    <tr>\n",
       "      <th>0</th>\n",
       "      <td>269</td>\n",
       "      <td>239</td>\n",
       "    </tr>\n",
       "    <tr>\n",
       "      <th>1</th>\n",
       "      <td>240</td>\n",
       "      <td>252</td>\n",
       "    </tr>\n",
       "  </tbody>\n",
       "</table>\n",
       "</div>"
      ],
      "text/plain": [
       "col_0    0    1\n",
       "label          \n",
       "0      269  239\n",
       "1      240  252"
      ]
     },
     "execution_count": 57,
     "metadata": {},
     "output_type": "execute_result"
    }
   ],
   "source": [
    "train_x, test_x, train_y, test_y = train_test_split(Under_X,Under_y, test_size=0.2, random_state=10)\n",
    "model = KNeighborsClassifier()\n",
    "model.fit(train_x,train_y)\n",
    "y_predict = model.predict(test_x)\n",
    "\n",
    "under_acc = accuracy_score(test_y,y_predict)\n",
    "print(\"Accuracy = \", under_acc)\n",
    "pd.crosstab(test_y,y_predict)"
   ]
  },
  {
   "cell_type": "code",
   "execution_count": null,
   "id": "e9252f75",
   "metadata": {},
   "outputs": [],
   "source": []
  },
  {
   "cell_type": "code",
   "execution_count": 51,
   "id": "090b5438",
   "metadata": {},
   "outputs": [],
   "source": [
    "from imblearn.over_sampling import SMOTE"
   ]
  },
  {
   "cell_type": "code",
   "execution_count": 52,
   "id": "e76a20e0",
   "metadata": {},
   "outputs": [
    {
     "name": "stdout",
     "output_type": "stream",
     "text": [
      "Counter({1: 7500, 0: 7500})\n"
     ]
    }
   ],
   "source": [
    "smote=SMOTE()\n",
    "SMOTE_X,SMOTE_y=smote.fit_resample(X,y)\n",
    "print(Counter(SMOTE_y))"
   ]
  },
  {
   "cell_type": "code",
   "execution_count": 53,
   "id": "fef9817d",
   "metadata": {},
   "outputs": [
    {
     "data": {
      "text/plain": [
       "0        1\n",
       "1        1\n",
       "2        1\n",
       "3        1\n",
       "4        1\n",
       "        ..\n",
       "14995    0\n",
       "14996    0\n",
       "14997    0\n",
       "14998    0\n",
       "14999    0\n",
       "Name: label, Length: 15000, dtype: int64"
      ]
     },
     "execution_count": 53,
     "metadata": {},
     "output_type": "execute_result"
    }
   ],
   "source": [
    "SMOTE_y"
   ]
  },
  {
   "cell_type": "code",
   "execution_count": 61,
   "id": "962028cb",
   "metadata": {},
   "outputs": [
    {
     "name": "stdout",
     "output_type": "stream",
     "text": [
      "Accuracy =  0.6793333333333333\n"
     ]
    },
    {
     "data": {
      "text/html": [
       "<div>\n",
       "<style scoped>\n",
       "    .dataframe tbody tr th:only-of-type {\n",
       "        vertical-align: middle;\n",
       "    }\n",
       "\n",
       "    .dataframe tbody tr th {\n",
       "        vertical-align: top;\n",
       "    }\n",
       "\n",
       "    .dataframe thead th {\n",
       "        text-align: right;\n",
       "    }\n",
       "</style>\n",
       "<table border=\"1\" class=\"dataframe\">\n",
       "  <thead>\n",
       "    <tr style=\"text-align: right;\">\n",
       "      <th>col_0</th>\n",
       "      <th>0</th>\n",
       "      <th>1</th>\n",
       "    </tr>\n",
       "    <tr>\n",
       "      <th>label</th>\n",
       "      <th></th>\n",
       "      <th></th>\n",
       "    </tr>\n",
       "  </thead>\n",
       "  <tbody>\n",
       "    <tr>\n",
       "      <th>0</th>\n",
       "      <td>1187</td>\n",
       "      <td>284</td>\n",
       "    </tr>\n",
       "    <tr>\n",
       "      <th>1</th>\n",
       "      <td>678</td>\n",
       "      <td>851</td>\n",
       "    </tr>\n",
       "  </tbody>\n",
       "</table>\n",
       "</div>"
      ],
      "text/plain": [
       "col_0     0    1\n",
       "label           \n",
       "0      1187  284\n",
       "1       678  851"
      ]
     },
     "execution_count": 61,
     "metadata": {},
     "output_type": "execute_result"
    }
   ],
   "source": [
    "train_x, test_x, train_y, test_y = train_test_split(SMOTE_X,SMOTE_y, test_size=0.2, random_state=20)\n",
    "model = KNeighborsClassifier()\n",
    "model.fit(train_x,train_y)\n",
    "y_predict = model.predict(test_x)\n",
    "\n",
    "smote_acc = accuracy_score(test_y,y_predict)\n",
    "print(\"Accuracy = \", smote_acc)\n",
    "pd.crosstab(test_y,y_predict)"
   ]
  },
  {
   "cell_type": "code",
   "execution_count": null,
   "id": "1df05ad4",
   "metadata": {},
   "outputs": [],
   "source": []
  },
  {
   "cell_type": "code",
   "execution_count": null,
   "id": "a67214b9",
   "metadata": {},
   "outputs": [],
   "source": []
  },
  {
   "cell_type": "markdown",
   "id": "77942309",
   "metadata": {},
   "source": [
    "<hr>"
   ]
  },
  {
   "cell_type": "markdown",
   "id": "9fbb309c",
   "metadata": {},
   "source": [
    "<div id=\"kmeans2\"><center><h3>Part C</h3></center></div>"
   ]
  },
  {
   "cell_type": "markdown",
   "id": "e8df8dc5",
   "metadata": {},
   "source": [
    "c. Observe the change by calculating the accuracy. Also, display and plot the transformed dataset."
   ]
  },
  {
   "cell_type": "code",
   "execution_count": null,
   "id": "f8013c7a",
   "metadata": {},
   "outputs": [],
   "source": []
  },
  {
   "cell_type": "code",
   "execution_count": null,
   "id": "6123f1d0",
   "metadata": {},
   "outputs": [],
   "source": []
  },
  {
   "cell_type": "code",
   "execution_count": null,
   "id": "f5ba07a9",
   "metadata": {},
   "outputs": [],
   "source": []
  },
  {
   "cell_type": "code",
   "execution_count": null,
   "id": "2297c4d7",
   "metadata": {},
   "outputs": [],
   "source": []
  },
  {
   "cell_type": "code",
   "execution_count": null,
   "id": "da2723f9",
   "metadata": {},
   "outputs": [],
   "source": []
  },
  {
   "cell_type": "code",
   "execution_count": null,
   "id": "7e1471a9",
   "metadata": {},
   "outputs": [],
   "source": []
  },
  {
   "cell_type": "code",
   "execution_count": null,
   "id": "a389eb86",
   "metadata": {},
   "outputs": [],
   "source": []
  },
  {
   "cell_type": "code",
   "execution_count": null,
   "id": "06ce242c",
   "metadata": {},
   "outputs": [],
   "source": []
  },
  {
   "cell_type": "code",
   "execution_count": null,
   "id": "f1c3e782",
   "metadata": {},
   "outputs": [],
   "source": []
  }
 ],
 "metadata": {
  "kernelspec": {
   "display_name": "Python 3",
   "language": "python",
   "name": "python3"
  },
  "language_info": {
   "codemirror_mode": {
    "name": "ipython",
    "version": 3
   },
   "file_extension": ".py",
   "mimetype": "text/x-python",
   "name": "python",
   "nbconvert_exporter": "python",
   "pygments_lexer": "ipython3",
   "version": "3.8.12"
  }
 },
 "nbformat": 4,
 "nbformat_minor": 5
}
