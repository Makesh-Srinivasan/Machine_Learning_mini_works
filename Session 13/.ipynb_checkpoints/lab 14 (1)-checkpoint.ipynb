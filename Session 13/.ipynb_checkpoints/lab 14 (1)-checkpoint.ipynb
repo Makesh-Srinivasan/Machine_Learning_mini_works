{
 "cells": [
  {
   "cell_type": "markdown",
   "id": "6e3908d8",
   "metadata": {},
   "source": [
    "# Lab session 14: K means and K Mode Clustering\n",
    "__Name: Anthra Devarajan<br>\n",
    "Registration number: 19BCE1681<br>\n",
    "Course code: CSE4020<br>\n",
    "Faculty: Dr. Abdul Quadir<br>\n",
    "Slot: L31 + L32<br>\n",
    "Date: 18-October-2021 Monday__<br><br>"
   ]
  },
  {
   "cell_type": "code",
   "execution_count": 1,
   "id": "1d508f80",
   "metadata": {},
   "outputs": [],
   "source": [
    "import numpy as np\n",
    "import pandas as pd\n",
    "import matplotlib.pyplot as plt\n",
    "%matplotlib inline\n",
    "import plotly.express as px\n",
    "import plotly.graph_objs as go\n",
    "import plotly\n",
    "import plotly.io as pio\n",
    "import plotly.offline as pyo"
   ]
  },
  {
   "cell_type": "markdown",
   "id": "e6352a91",
   "metadata": {},
   "source": [
    "#### Dataset generation:"
   ]
  },
  {
   "cell_type": "code",
   "execution_count": 6,
   "id": "c302f01a",
   "metadata": {},
   "outputs": [
    {
     "data": {
      "text/html": [
       "<div>\n",
       "<style scoped>\n",
       "    .dataframe tbody tr th:only-of-type {\n",
       "        vertical-align: middle;\n",
       "    }\n",
       "\n",
       "    .dataframe tbody tr th {\n",
       "        vertical-align: top;\n",
       "    }\n",
       "\n",
       "    .dataframe thead th {\n",
       "        text-align: right;\n",
       "    }\n",
       "</style>\n",
       "<table border=\"1\" class=\"dataframe\">\n",
       "  <thead>\n",
       "    <tr style=\"text-align: right;\">\n",
       "      <th></th>\n",
       "      <th>x</th>\n",
       "      <th>y</th>\n",
       "    </tr>\n",
       "  </thead>\n",
       "  <tbody>\n",
       "    <tr>\n",
       "      <th>0</th>\n",
       "      <td>2</td>\n",
       "      <td>4</td>\n",
       "    </tr>\n",
       "    <tr>\n",
       "      <th>1</th>\n",
       "      <td>2</td>\n",
       "      <td>6</td>\n",
       "    </tr>\n",
       "    <tr>\n",
       "      <th>2</th>\n",
       "      <td>5</td>\n",
       "      <td>6</td>\n",
       "    </tr>\n",
       "    <tr>\n",
       "      <th>3</th>\n",
       "      <td>4</td>\n",
       "      <td>7</td>\n",
       "    </tr>\n",
       "    <tr>\n",
       "      <th>4</th>\n",
       "      <td>8</td>\n",
       "      <td>3</td>\n",
       "    </tr>\n",
       "    <tr>\n",
       "      <th>5</th>\n",
       "      <td>6</td>\n",
       "      <td>6</td>\n",
       "    </tr>\n",
       "    <tr>\n",
       "      <th>6</th>\n",
       "      <td>5</td>\n",
       "      <td>2</td>\n",
       "    </tr>\n",
       "    <tr>\n",
       "      <th>7</th>\n",
       "      <td>5</td>\n",
       "      <td>7</td>\n",
       "    </tr>\n",
       "    <tr>\n",
       "      <th>8</th>\n",
       "      <td>6</td>\n",
       "      <td>3</td>\n",
       "    </tr>\n",
       "    <tr>\n",
       "      <th>9</th>\n",
       "      <td>4</td>\n",
       "      <td>4</td>\n",
       "    </tr>\n",
       "  </tbody>\n",
       "</table>\n",
       "</div>"
      ],
      "text/plain": [
       "   x  y\n",
       "0  2  4\n",
       "1  2  6\n",
       "2  5  6\n",
       "3  4  7\n",
       "4  8  3\n",
       "5  6  6\n",
       "6  5  2\n",
       "7  5  7\n",
       "8  6  3\n",
       "9  4  4"
      ]
     },
     "execution_count": 6,
     "metadata": {},
     "output_type": "execute_result"
    }
   ],
   "source": [
    "x = np.array([2,2,5,4,8,6,5,5,6,4])\n",
    "y = np.array([4,6,6,7,3,6,2,7,3,4])\n",
    "df = pd.DataFrame(data=x,columns=['x'])\n",
    "df['y'] = y.tolist()\n",
    "df"
   ]
  },
  {
   "cell_type": "markdown",
   "id": "1a413741",
   "metadata": {},
   "source": [
    "#### Visualise the dataset:"
   ]
  },
  {
   "cell_type": "code",
   "execution_count": 7,
   "id": "386827aa",
   "metadata": {},
   "outputs": [
    {
     "data": {
      "image/png": "[encoded data removed]",
      "text/plain": [
       "<Figure size 432x288 with 1 Axes>"
      ]
     },
     "metadata": {
      "needs_background": "light"
     },
     "output_type": "display_data"
    }
   ],
   "source": [
    "plt.scatter(df.x,df.y)\n",
    "plt.show()"
   ]
  },
  {
   "cell_type": "markdown",
   "id": "fadb52a6",
   "metadata": {},
   "source": [
    "#### 1) KMeans from scratch"
   ]
  },
  {
   "cell_type": "code",
   "execution_count": 8,
   "id": "dad14d39",
   "metadata": {},
   "outputs": [],
   "source": [
    "class K_means:\n",
    "    def __init__(self, k, data, clusters):\n",
    "        self.column_names = list(data.columns.values)\n",
    "        self.k = k\n",
    "        self.data = self.transform_to_matrix(data)\n",
    "        self.clusters = clusters\n",
    "        self.clustered_data = []\n",
    "        self.centroids = []\n",
    "        self.variance = 0\n",
    "        self.variance_clusterswise = []\n",
    "        self.kmeans()\n",
    "    \n",
    "    def kmeans(self):\n",
    "        clusters = 1\n",
    "        cluster_centroids = []\n",
    "        cluster_clustered_data = []\n",
    "        cluster_variance = []\n",
    "        for i in range(self.clusters):\n",
    "            print(f\"Clustering attempt {clusters}: \\n\\n\")\n",
    "            iteration = 1\n",
    "            self.centroids = self.initialise_centroids()\n",
    "            print(f\"Initialised centroids: {self.centroids.tolist()}\\n\")\n",
    "            while True:\n",
    "                print(f\"Iteration {iteration}:\")\n",
    "                if iteration != 1:\n",
    "                    print(f\"Centroids = {self.centroids}\\n\")\n",
    "                \n",
    "                new_cluster = self.cluster()\n",
    "                if self.clustered_data != new_cluster:\n",
    "                    self.clustered_data = new_cluster\n",
    "                    self.visualise_cluster()\n",
    "                    self.centroids = self.update_centroids()\n",
    "                else:\n",
    "                    cluster_centroids.append(self.centroids)\n",
    "                    cluster_clustered_data.append(self.clustered_data)\n",
    "                    self.visualise_cluster()\n",
    "                    print(\"No change in clustering as previous iteration. Terminating KMeans...\")\n",
    "                    break\n",
    "                iteration += 1\n",
    "            variance = self.get_variance()\n",
    "            print(f\"Variance = {variance}\")\n",
    "            cluster_variance.append(variance)\n",
    "            print(\"__\"*70)\n",
    "            clusters += 1\n",
    "        best_cluster_index = cluster_variance.index(min(cluster_variance))\n",
    "        print(f\"The best clustering attempt is Attempt = {best_cluster_index+1} with variance = {min(cluster_variance)}\")\n",
    "        self.centroids = cluster_centroids[best_cluster_index]\n",
    "        self.clustered_data = cluster_clustered_data[best_cluster_index]\n",
    "        self.variance = min(cluster_variance)\n",
    "        self.variance_clusterswise = cluster_variance\n",
    "        if self.clusters != 1:\n",
    "            self.plot_variance()\n",
    "        print(\"__\"*70)\n",
    "        \n",
    "    def transform_to_matrix(self, df):\n",
    "        df = df.values.tolist()\n",
    "        df = np.array(df)\n",
    "        return df\n",
    "\n",
    "    def plot_variance(self):\n",
    "        x = np.arange(1,self.clusters+1)\n",
    "        fig = plt.figure()\n",
    "        ax = fig.add_axes([0.1, 0.1, 0.8, 0.8]) # main axes\n",
    "        y = self.variance_clusterswise\n",
    "        ax.plot(x, y)\n",
    "        ax.set_xlabel(\"Cluster attempts\")\n",
    "        ax.set_title('Variance over cluster attempts')\n",
    "        ax.set_xticks(x)\n",
    "        plt.show()\n",
    "        \n",
    "    def get_variance(self):\n",
    "        total_variance = 0\n",
    "        category = 0\n",
    "        catwise = []\n",
    "        new_centroids = []\n",
    "        while category < self.k:\n",
    "            buffer = []\n",
    "            for i in range(len(self.clustered_data)):\n",
    "                if category == self.clustered_data[i][1]:\n",
    "                    buffer.append(self.clustered_data[i])\n",
    "            catwise.append(buffer)\n",
    "            category += 1\n",
    "        category = 0\n",
    "        while category < self.k:\n",
    "            variance = 0\n",
    "            buffer = catwise[category]\n",
    "            distances = []\n",
    "            for i in range(len(buffer)):\n",
    "                variance += self.euclidean_distance(self.centroids[buffer[i][1]], buffer[i][0])**2\n",
    "            variance = variance/len(buffer)\n",
    "            total_variance += variance\n",
    "            category += 1\n",
    "        return total_variance\n",
    "        \n",
    "    def initialise_centroids(self):\n",
    "        while True:\n",
    "            centroids = self.data[np.random.choice(self.data.shape[0], self.k, replace=False), :]\n",
    "            flag = 0\n",
    "            for i in range(len(centroids)):\n",
    "                for j in range(len(centroids)):\n",
    "                    if i != j:\n",
    "                        if str(centroids[i]) == str(centroids[j]):\n",
    "                            flag = 1\n",
    "            if flag == 0:\n",
    "                return centroids\n",
    "    \n",
    "    def euclidean_distance(self, c1, c2):\n",
    "        distance = 0\n",
    "        for i in range(len(c1)):\n",
    "            distance += (c1[i]-c2[i])**2\n",
    "        return np.sqrt(distance)\n",
    "    \n",
    "    def cluster(self):\n",
    "        clustered_data_local = []\n",
    "        for i in range(len(self.data)):\n",
    "            distances = [self.euclidean_distance(centroid, self.data[i]) for centroid in self.centroids]\n",
    "            minimum = distances[0]\n",
    "            cluster_name = 0\n",
    "            for j in range(len(distances)):\n",
    "                if minimum > distances[j]:\n",
    "                    minimum = distances[j]\n",
    "                    cluster_name = j\n",
    "            clustered_data_local.append([list(self.data[i]), cluster_name])\n",
    "        return clustered_data_local\n",
    "    \n",
    "    def update_centroids(self):\n",
    "        category = 0\n",
    "        catwise = []\n",
    "        new_centroids = []\n",
    "        while category < self.k:\n",
    "            buffer = []\n",
    "            for i in range(len(self.clustered_data)):\n",
    "                if category == self.clustered_data[i][1]:\n",
    "                    buffer.append(self.clustered_data[i])\n",
    "            catwise.append(buffer)\n",
    "            category += 1\n",
    "        category = 0\n",
    "        while category < self.k:\n",
    "            mean_coordinates = [0]*len(self.data[0])\n",
    "            buffer = catwise[category]\n",
    "            for i in range(len(self.data[0])):\n",
    "                for j in range(len(buffer)):\n",
    "                    mean_coordinates[i] += buffer[j][0][i]\n",
    "            for i in range(len(self.data[0])):\n",
    "                mean_coordinates[i] = mean_coordinates[i]/len(buffer)\n",
    "            new_centroids.append(mean_coordinates)\n",
    "            category += 1\n",
    "        return new_centroids\n",
    "    \n",
    "    def visualise_cluster(self):\n",
    "        local_df = []\n",
    "        for i in range(len(self.clustered_data)):\n",
    "            buffer = []\n",
    "            buffer.extend(self.clustered_data[i][0])\n",
    "            buffer.append(self.clustered_data[i][1])\n",
    "            local_df.append(buffer)\n",
    "        local_df = np.array(local_df)\n",
    "        dataset = pd.DataFrame(local_df)\n",
    "        c = []\n",
    "        symbols = [\"o\", \"x\", \"+\", \"d\"]\n",
    "        for i in range(self.k):\n",
    "            c.append(dataset[dataset.iloc[:,-1] == i])\n",
    "            name = \"cluster \" + str(i)\n",
    "            plt.scatter(np.array(c[i].iloc[:,0]), np.array(c[i].iloc[:,1]), marker=symbols[i], label=name, s=100)\n",
    "        x,y=[],[]\n",
    "        for i in range(len(self.centroids)):\n",
    "            x.append(self.centroids[i][0])\n",
    "            y.append(self.centroids[i][1])\n",
    "        plt.scatter(np.array(x), np.array(y), marker='*', label='Centroids', c=\"red\", s=100)\n",
    "        plt.xlabel('feature 1')\n",
    "        plt.ylabel('feature 2')\n",
    "        plt.legend()\n",
    "        plt.show()"
   ]
  },
  {
   "cell_type": "markdown",
   "id": "2374fe59",
   "metadata": {},
   "source": [
    "K = 2:"
   ]
  },
  {
   "cell_type": "code",
   "execution_count": 9,
   "id": "34b6c0c7",
   "metadata": {},
   "outputs": [
    {
     "name": "stdout",
     "output_type": "stream",
     "text": [
      "Clustering attempt 1: \n",
      "\n",
      "\n",
      "Initialised centroids: [[2, 6], [6, 6]]\n",
      "\n",
      "Iteration 1:\n"
     ]
    },
    {
     "data": {
      "image/png": "[encoded data removed]",
      "text/plain": [
       "<Figure size 432x288 with 1 Axes>"
      ]
     },
     "metadata": {
      "needs_background": "light"
     },
     "output_type": "display_data"
    },
    {
     "name": "stdout",
     "output_type": "stream",
     "text": [
      "Iteration 2:\n",
      "Centroids = [[3.0, 5.25], [5.833333333333333, 4.5]]\n",
      "\n"
     ]
    },
    {
     "data": {
      "image/png": "[encoded data removed]",
      "text/plain": [
       "<Figure size 432x288 with 1 Axes>"
      ]
     },
     "metadata": {
      "needs_background": "light"
     },
     "output_type": "display_data"
    },
    {
     "name": "stdout",
     "output_type": "stream",
     "text": [
      "No change in clustering as previous iteration. Terminating KMeans...\n",
      "Variance = 7.409722222222222\n",
      "____________________________________________________________________________________________________________________________________________\n",
      "The best clustering attempt is Attempt = 1 with variance = 7.409722222222222\n",
      "____________________________________________________________________________________________________________________________________________\n"
     ]
    }
   ],
   "source": [
    "kmeans_manual_2 = K_means(2, df, clusters = 1)"
   ]
  },
  {
   "cell_type": "markdown",
   "id": "13206544",
   "metadata": {},
   "source": [
    "The best clustering attempt is Attempt = 1 with variance = 8.131944444444445\n",
    "____________________________________________________________________________________________________________________________________________\n",
    "The clustering of K = 2 is shown above but only one cluster attempt is done to reduce the number of plots being displayed on the report"
   ]
  },
  {
   "cell_type": "markdown",
   "id": "b365146e",
   "metadata": {},
   "source": [
    "K = 3:"
   ]
  },
  {
   "cell_type": "code",
   "execution_count": 7,
   "id": "d0275012",
   "metadata": {},
   "outputs": [
    {
     "name": "stdout",
     "output_type": "stream",
     "text": [
      "Clustering attempt 1: \n",
      "\n",
      "\n",
      "Initialised centroids: [[2, 6], [5, 7], [6, 6]]\n",
      "\n",
      "Iteration 1:\n"
     ]
    },
    {
     "data": {
      "image/png": "[encoded data removed]",
      "text/plain": [
       "<Figure size 432x288 with 1 Axes>"
      ]
     },
     "metadata": {
      "needs_background": "light"
     },
     "output_type": "display_data"
    },
    {
     "name": "stdout",
     "output_type": "stream",
     "text": [
      "Iteration 2:\n",
      "Centroids = [[2.6666666666666665, 4.666666666666667], [4.666666666666667, 6.666666666666667], [6.25, 3.5]]\n",
      "\n"
     ]
    },
    {
     "data": {
      "image/png": "[encoded data removed]",
      "text/plain": [
       "<Figure size 432x288 with 1 Axes>"
      ]
     },
     "metadata": {
      "needs_background": "light"
     },
     "output_type": "display_data"
    },
    {
     "name": "stdout",
     "output_type": "stream",
     "text": [
      "Iteration 3:\n",
      "Centroids = [[2.6666666666666665, 4.666666666666667], [5.0, 6.5], [6.333333333333333, 2.6666666666666665]]\n",
      "\n"
     ]
    },
    {
     "data": {
      "image/png": "[encoded data removed]",
      "text/plain": [
       "<Figure size 432x288 with 1 Axes>"
      ]
     },
     "metadata": {
      "needs_background": "light"
     },
     "output_type": "display_data"
    },
    {
     "name": "stdout",
     "output_type": "stream",
     "text": [
      "No change in clustering as previous iteration. Terminating KMeans...\n",
      "Variance = 4.305555555555555\n",
      "____________________________________________________________________________________________________________________________________________\n",
      "The best clustering attempt is Attempt = 1 with variance = 4.305555555555555\n",
      "____________________________________________________________________________________________________________________________________________\n"
     ]
    }
   ],
   "source": [
    "kmeans_manual_3 = K_means(3, df, clusters = 1)"
   ]
  },
  {
   "cell_type": "markdown",
   "id": "8073cc21",
   "metadata": {},
   "source": [
    "The best clustering attempt is Attempt = 1 with variance = 7.623333333333333\n",
    "____________________________________________________________________________________________________________________________________________\n",
    "The clustering of K = 3 is shown above but only one cluster attempt is done to reduce the number of plots being displayed on the report"
   ]
  },
  {
   "cell_type": "markdown",
   "id": "4494950b",
   "metadata": {},
   "source": [
    "K = 4:"
   ]
  },
  {
   "cell_type": "code",
   "execution_count": 8,
   "id": "5becf48d",
   "metadata": {},
   "outputs": [
    {
     "name": "stdout",
     "output_type": "stream",
     "text": [
      "Clustering attempt 1: \n",
      "\n",
      "\n",
      "Initialised centroids: [[8, 3], [5, 6], [5, 2], [2, 6]]\n",
      "\n",
      "Iteration 1:\n"
     ]
    },
    {
     "data": {
      "image/png": "[encoded data removed]",
      "text/plain": [
       "<Figure size 432x288 with 1 Axes>"
      ]
     },
     "metadata": {
      "needs_background": "light"
     },
     "output_type": "display_data"
    },
    {
     "name": "stdout",
     "output_type": "stream",
     "text": [
      "Iteration 2:\n",
      "Centroids = [[8.0, 3.0], [4.8, 6.0], [5.5, 2.5], [2.0, 5.0]]\n",
      "\n"
     ]
    },
    {
     "data": {
      "image/png": "[encoded data removed]",
      "text/plain": [
       "<Figure size 432x288 with 1 Axes>"
      ]
     },
     "metadata": {
      "needs_background": "light"
     },
     "output_type": "display_data"
    },
    {
     "name": "stdout",
     "output_type": "stream",
     "text": [
      "Iteration 3:\n",
      "Centroids = [[8.0, 3.0], [5.0, 6.5], [5.0, 3.0], [2.0, 5.0]]\n",
      "\n"
     ]
    },
    {
     "data": {
      "image/png": "[encoded data removed]",
      "text/plain": [
       "<Figure size 432x288 with 1 Axes>"
      ]
     },
     "metadata": {
      "needs_background": "light"
     },
     "output_type": "display_data"
    },
    {
     "name": "stdout",
     "output_type": "stream",
     "text": [
      "No change in clustering as previous iteration. Terminating KMeans...\n",
      "Variance = 3.0833333333333335\n",
      "____________________________________________________________________________________________________________________________________________\n",
      "The best clustering attempt is Attempt = 1 with variance = 3.0833333333333335\n",
      "____________________________________________________________________________________________________________________________________________\n"
     ]
    }
   ],
   "source": [
    "kmeans_manual_4 = K_means(4, df, clusters = 1)"
   ]
  },
  {
   "cell_type": "markdown",
   "id": "c86ce900",
   "metadata": {},
   "source": [
    "The best clustering attempt is Attempt = 1 with variance = 4.055555555555555\n",
    "____________________________________________________________________________________________________________________________________________\n",
    "The clustering of K = 4 is shown above but only one cluster attempt is done to reduce the number of plots being displayed on the report"
   ]
  },
  {
   "cell_type": "markdown",
   "id": "8fcdfcf8",
   "metadata": {},
   "source": [
    "#### 2) KMeans using Sklearn"
   ]
  },
  {
   "cell_type": "code",
   "execution_count": 11,
   "id": "f399c4bd",
   "metadata": {},
   "outputs": [],
   "source": [
    "from sklearn.cluster import KMeans"
   ]
  },
  {
   "cell_type": "code",
   "execution_count": 12,
   "id": "d4e4e0f4",
   "metadata": {},
   "outputs": [],
   "source": [
    "def plot_data_2d(colour):\n",
    "    fig = px.scatter(df, x=\"x\", y=\"y\", color=colour, symbol=colour)\n",
    "    fig.update_traces(marker_size=10)\n",
    "    fig.show()"
   ]
  },
  {
   "cell_type": "markdown",
   "id": "35153859",
   "metadata": {},
   "source": [
    "The clustering of K = 3 is shown below:"
   ]
  },
  {
   "cell_type": "code",
   "execution_count": 13,
   "id": "c140c803",
   "metadata": {},
   "outputs": [
    {
     "data": {
      "text/plain": [
       "array([2, 2, 1, 1, 0, 1, 0, 1, 0, 2])"
      ]
     },
     "execution_count": 13,
     "metadata": {},
     "output_type": "execute_result"
    }
   ],
   "source": [
    "df_X = np.array(df)\n",
    "kmeans = KMeans(n_clusters=3)\n",
    "kmeans.fit(df_X)\n",
    "kmeans_prediction = kmeans.predict(df_X)\n",
    "kmeans_prediction"
   ]
  },
  {
   "cell_type": "code",
   "execution_count": 14,
   "id": "4b19c87f",
   "metadata": {},
   "outputs": [
    {
     "data": {
      "application/vnd.plotly.v1+json": {
       "config": {
        "plotlyServerURL": "https://plot.ly"
       },
       "data": [
        {
         "hovertemplate": "symbol=2<br>x=%{x}<br>y=%{y}<br>color=%{marker.color}<extra></extra>",
         "legendgroup": "2",
         "marker": {
          "color": [
           2,
           2,
           2
          ],
          "coloraxis": "coloraxis",
          "size": 10,
          "symbol": "circle"
         },
         "mode": "markers",
         "name": "2",
         "orientation": "v",
         "showlegend": true,
         "type": "scatter",
         "x": [
          2,
          2,
          4
         ],
         "xaxis": "x",
         "y": [
          4,
          6,
          4
         ],
         "yaxis": "y"
        },
        {
         "hovertemplate": "symbol=1<br>x=%{x}<br>y=%{y}<br>color=%{marker.color}<extra></extra>",
         "legendgroup": "1",
         "marker": {
          "color": [
           1,
           1,
           1,
           1
          ],
          "coloraxis": "coloraxis",
          "size": 10,
          "symbol": "diamond"
         },
         "mode": "markers",
         "name": "1",
         "orientation": "v",
         "showlegend": true,
         "type": "scatter",
         "x": [
          5,
          4,
          6,
          5
         ],
         "xaxis": "x",
         "y": [
          6,
          7,
          6,
          7
         ],
         "yaxis": "y"
        },
        {
         "hovertemplate": "symbol=0<br>x=%{x}<br>y=%{y}<br>color=%{marker.color}<extra></extra>",
         "legendgroup": "0",
         "marker": {
          "color": [
           0,
           0,
           0
          ],
          "coloraxis": "coloraxis",
          "size": 10,
          "symbol": "square"
         },
         "mode": "markers",
         "name": "0",
         "orientation": "v",
         "showlegend": true,
         "type": "scatter",
         "x": [
          8,
          5,
          6
         ],
         "xaxis": "x",
         "y": [
          3,
          2,
          3
         ],
         "yaxis": "y"
        }
       ],
       "layout": {
        "coloraxis": {
         "colorbar": {
          "title": {
           "text": "color"
          }
         },
         "colorscale": [
          [
           0,
           "#0d0887"
          ],
          [
           0.1111111111111111,
           "#46039f"
          ],
          [
           0.2222222222222222,
           "#7201a8"
          ],
          [
           0.3333333333333333,
           "#9c179e"
          ],
          [
           0.4444444444444444,
           "#bd3786"
          ],
          [
           0.5555555555555556,
           "#d8576b"
          ],
          [
           0.6666666666666666,
           "#ed7953"
          ],
          [
           0.7777777777777778,
           "#fb9f3a"
          ],
          [
           0.8888888888888888,
           "#fdca26"
          ],
          [
           1,
           "#f0f921"
          ]
         ]
        },
        "legend": {
         "title": {
          "text": "symbol"
         },
         "tracegroupgap": 0
        },
        "margin": {
         "t": 60
        },
        "template": {
         "data": {
          "bar": [
           {
            "error_x": {
             "color": "#2a3f5f"
            },
            "error_y": {
             "color": "#2a3f5f"
            },
            "marker": {
             "line": {
              "color": "#E5ECF6",
              "width": 0.5
             },
             "pattern": {
              "fillmode": "overlay",
              "size": 10,
              "solidity": 0.2
             }
            },
            "type": "bar"
           }
          ],
          "barpolar": [
           {
            "marker": {
             "line": {
              "color": "#E5ECF6",
              "width": 0.5
             },
             "pattern": {
              "fillmode": "overlay",
              "size": 10,
              "solidity": 0.2
             }
            },
            "type": "barpolar"
           }
          ],
          "carpet": [
           {
            "aaxis": {
             "endlinecolor": "#2a3f5f",
             "gridcolor": "white",
             "linecolor": "white",
             "minorgridcolor": "white",
             "startlinecolor": "#2a3f5f"
            },
            "baxis": {
             "endlinecolor": "#2a3f5f",
             "gridcolor": "white",
             "linecolor": "white",
             "minorgridcolor": "white",
             "startlinecolor": "#2a3f5f"
            },
            "type": "carpet"
           }
          ],
          "choropleth": [
           {
            "colorbar": {
             "outlinewidth": 0,
             "ticks": ""
            },
            "type": "choropleth"
           }
          ],
          "contour": [
           {
            "colorbar": {
             "outlinewidth": 0,
             "ticks": ""
            },
            "colorscale": [
             [
              0,
              "#0d0887"
             ],
             [
              0.1111111111111111,
              "#46039f"
             ],
             [
              0.2222222222222222,
              "#7201a8"
             ],
             [
              0.3333333333333333,
              "#9c179e"
             ],
             [
              0.4444444444444444,
              "#bd3786"
             ],
             [
              0.5555555555555556,
              "#d8576b"
             ],
             [
              0.6666666666666666,
              "#ed7953"
             ],
             [
              0.7777777777777778,
              "#fb9f3a"
             ],
             [
              0.8888888888888888,
              "#fdca26"
             ],
             [
              1,
              "#f0f921"
             ]
            ],
            "type": "contour"
           }
          ],
          "contourcarpet": [
           {
            "colorbar": {
             "outlinewidth": 0,
             "ticks": ""
            },
            "type": "contourcarpet"
           }
          ],
          "heatmap": [
           {
            "colorbar": {
             "outlinewidth": 0,
             "ticks": ""
            },
            "colorscale": [
             [
              0,
              "#0d0887"
             ],
             [
              0.1111111111111111,
              "#46039f"
             ],
             [
              0.2222222222222222,
              "#7201a8"
             ],
             [
              0.3333333333333333,
              "#9c179e"
             ],
             [
              0.4444444444444444,
              "#bd3786"
             ],
             [
              0.5555555555555556,
              "#d8576b"
             ],
             [
              0.6666666666666666,
              "#ed7953"
             ],
             [
              0.7777777777777778,
              "#fb9f3a"
             ],
             [
              0.8888888888888888,
              "#fdca26"
             ],
             [
              1,
              "#f0f921"
             ]
            ],
            "type": "heatmap"
           }
          ],
          "heatmapgl": [
           {
            "colorbar": {
             "outlinewidth": 0,
             "ticks": ""
            },
            "colorscale": [
             [
              0,
              "#0d0887"
             ],
             [
              0.1111111111111111,
              "#46039f"
             ],
             [
              0.2222222222222222,
              "#7201a8"
             ],
             [
              0.3333333333333333,
              "#9c179e"
             ],
             [
              0.4444444444444444,
              "#bd3786"
             ],
             [
              0.5555555555555556,
              "#d8576b"
             ],
             [
              0.6666666666666666,
              "#ed7953"
             ],
             [
              0.7777777777777778,
              "#fb9f3a"
             ],
             [
              0.8888888888888888,
              "#fdca26"
             ],
             [
              1,
              "#f0f921"
             ]
            ],
            "type": "heatmapgl"
           }
          ],
          "histogram": [
           {
            "marker": {
             "pattern": {
              "fillmode": "overlay",
              "size": 10,
              "solidity": 0.2
             }
            },
            "type": "histogram"
           }
          ],
          "histogram2d": [
           {
            "colorbar": {
             "outlinewidth": 0,
             "ticks": ""
            },
            "colorscale": [
             [
              0,
              "#0d0887"
             ],
             [
              0.1111111111111111,
              "#46039f"
             ],
             [
              0.2222222222222222,
              "#7201a8"
             ],
             [
              0.3333333333333333,
              "#9c179e"
             ],
             [
              0.4444444444444444,
              "#bd3786"
             ],
             [
              0.5555555555555556,
              "#d8576b"
             ],
             [
              0.6666666666666666,
              "#ed7953"
             ],
             [
              0.7777777777777778,
              "#fb9f3a"
             ],
             [
              0.8888888888888888,
              "#fdca26"
             ],
             [
              1,
              "#f0f921"
             ]
            ],
            "type": "histogram2d"
           }
          ],
          "histogram2dcontour": [
           {
            "colorbar": {
             "outlinewidth": 0,
             "ticks": ""
            },
            "colorscale": [
             [
              0,
              "#0d0887"
             ],
             [
              0.1111111111111111,
              "#46039f"
             ],
             [
              0.2222222222222222,
              "#7201a8"
             ],
             [
              0.3333333333333333,
              "#9c179e"
             ],
             [
              0.4444444444444444,
              "#bd3786"
             ],
             [
              0.5555555555555556,
              "#d8576b"
             ],
             [
              0.6666666666666666,
              "#ed7953"
             ],
             [
              0.7777777777777778,
              "#fb9f3a"
             ],
             [
              0.8888888888888888,
              "#fdca26"
             ],
             [
              1,
              "#f0f921"
             ]
            ],
            "type": "histogram2dcontour"
           }
          ],
          "mesh3d": [
           {
            "colorbar": {
             "outlinewidth": 0,
             "ticks": ""
            },
            "type": "mesh3d"
           }
          ],
          "parcoords": [
           {
            "line": {
             "colorbar": {
              "outlinewidth": 0,
              "ticks": ""
             }
            },
            "type": "parcoords"
           }
          ],
          "pie": [
           {
            "automargin": true,
            "type": "pie"
           }
          ],
          "scatter": [
           {
            "marker": {
             "colorbar": {
              "outlinewidth": 0,
              "ticks": ""
             }
            },
            "type": "scatter"
           }
          ],
          "scatter3d": [
           {
            "line": {
             "colorbar": {
              "outlinewidth": 0,
              "ticks": ""
             }
            },
            "marker": {
             "colorbar": {
              "outlinewidth": 0,
              "ticks": ""
             }
            },
            "type": "scatter3d"
           }
          ],
          "scattercarpet": [
           {
            "marker": {
             "colorbar": {
              "outlinewidth": 0,
              "ticks": ""
             }
            },
            "type": "scattercarpet"
           }
          ],
          "scattergeo": [
           {
            "marker": {
             "colorbar": {
              "outlinewidth": 0,
              "ticks": ""
             }
            },
            "type": "scattergeo"
           }
          ],
          "scattergl": [
           {
            "marker": {
             "colorbar": {
              "outlinewidth": 0,
              "ticks": ""
             }
            },
            "type": "scattergl"
           }
          ],
          "scattermapbox": [
           {
            "marker": {
             "colorbar": {
              "outlinewidth": 0,
              "ticks": ""
             }
            },
            "type": "scattermapbox"
           }
          ],
          "scatterpolar": [
           {
            "marker": {
             "colorbar": {
              "outlinewidth": 0,
              "ticks": ""
             }
            },
            "type": "scatterpolar"
           }
          ],
          "scatterpolargl": [
           {
            "marker": {
             "colorbar": {
              "outlinewidth": 0,
              "ticks": ""
             }
            },
            "type": "scatterpolargl"
           }
          ],
          "scatterternary": [
           {
            "marker": {
             "colorbar": {
              "outlinewidth": 0,
              "ticks": ""
             }
            },
            "type": "scatterternary"
           }
          ],
          "surface": [
           {
            "colorbar": {
             "outlinewidth": 0,
             "ticks": ""
            },
            "colorscale": [
             [
              0,
              "#0d0887"
             ],
             [
              0.1111111111111111,
              "#46039f"
             ],
             [
              0.2222222222222222,
              "#7201a8"
             ],
             [
              0.3333333333333333,
              "#9c179e"
             ],
             [
              0.4444444444444444,
              "#bd3786"
             ],
             [
              0.5555555555555556,
              "#d8576b"
             ],
             [
              0.6666666666666666,
              "#ed7953"
             ],
             [
              0.7777777777777778,
              "#fb9f3a"
             ],
             [
              0.8888888888888888,
              "#fdca26"
             ],
             [
              1,
              "#f0f921"
             ]
            ],
            "type": "surface"
           }
          ],
          "table": [
           {
            "cells": {
             "fill": {
              "color": "#EBF0F8"
             },
             "line": {
              "color": "white"
             }
            },
            "header": {
             "fill": {
              "color": "#C8D4E3"
             },
             "line": {
              "color": "white"
             }
            },
            "type": "table"
           }
          ]
         },
         "layout": {
          "annotationdefaults": {
           "arrowcolor": "#2a3f5f",
           "arrowhead": 0,
           "arrowwidth": 1
          },
          "autotypenumbers": "strict",
          "coloraxis": {
           "colorbar": {
            "outlinewidth": 0,
            "ticks": ""
           }
          },
          "colorscale": {
           "diverging": [
            [
             0,
             "#8e0152"
            ],
            [
             0.1,
             "#c51b7d"
            ],
            [
             0.2,
             "#de77ae"
            ],
            [
             0.3,
             "#f1b6da"
            ],
            [
             0.4,
             "#fde0ef"
            ],
            [
             0.5,
             "#f7f7f7"
            ],
            [
             0.6,
             "#e6f5d0"
            ],
            [
             0.7,
             "#b8e186"
            ],
            [
             0.8,
             "#7fbc41"
            ],
            [
             0.9,
             "#4d9221"
            ],
            [
             1,
             "#276419"
            ]
           ],
           "sequential": [
            [
             0,
             "#0d0887"
            ],
            [
             0.1111111111111111,
             "#46039f"
            ],
            [
             0.2222222222222222,
             "#7201a8"
            ],
            [
             0.3333333333333333,
             "#9c179e"
            ],
            [
             0.4444444444444444,
             "#bd3786"
            ],
            [
             0.5555555555555556,
             "#d8576b"
            ],
            [
             0.6666666666666666,
             "#ed7953"
            ],
            [
             0.7777777777777778,
             "#fb9f3a"
            ],
            [
             0.8888888888888888,
             "#fdca26"
            ],
            [
             1,
             "#f0f921"
            ]
           ],
           "sequentialminus": [
            [
             0,
             "#0d0887"
            ],
            [
             0.1111111111111111,
             "#46039f"
            ],
            [
             0.2222222222222222,
             "#7201a8"
            ],
            [
             0.3333333333333333,
             "#9c179e"
            ],
            [
             0.4444444444444444,
             "#bd3786"
            ],
            [
             0.5555555555555556,
             "#d8576b"
            ],
            [
             0.6666666666666666,
             "#ed7953"
            ],
            [
             0.7777777777777778,
             "#fb9f3a"
            ],
            [
             0.8888888888888888,
             "#fdca26"
            ],
            [
             1,
             "#f0f921"
            ]
           ]
          },
          "colorway": [
           "#636efa",
           "#EF553B",
           "#00cc96",
           "#ab63fa",
           "#FFA15A",
           "#19d3f3",
           "#FF6692",
           "#B6E880",
           "#FF97FF",
           "#FECB52"
          ],
          "font": {
           "color": "#2a3f5f"
          },
          "geo": {
           "bgcolor": "white",
           "lakecolor": "white",
           "landcolor": "#E5ECF6",
           "showlakes": true,
           "showland": true,
           "subunitcolor": "white"
          },
          "hoverlabel": {
           "align": "left"
          },
          "hovermode": "closest",
          "mapbox": {
           "style": "light"
          },
          "paper_bgcolor": "white",
          "plot_bgcolor": "#E5ECF6",
          "polar": {
           "angularaxis": {
            "gridcolor": "white",
            "linecolor": "white",
            "ticks": ""
           },
           "bgcolor": "#E5ECF6",
           "radialaxis": {
            "gridcolor": "white",
            "linecolor": "white",
            "ticks": ""
           }
          },
          "scene": {
           "xaxis": {
            "backgroundcolor": "#E5ECF6",
            "gridcolor": "white",
            "gridwidth": 2,
            "linecolor": "white",
            "showbackground": true,
            "ticks": "",
            "zerolinecolor": "white"
           },
           "yaxis": {
            "backgroundcolor": "#E5ECF6",
            "gridcolor": "white",
            "gridwidth": 2,
            "linecolor": "white",
            "showbackground": true,
            "ticks": "",
            "zerolinecolor": "white"
           },
           "zaxis": {
            "backgroundcolor": "#E5ECF6",
            "gridcolor": "white",
            "gridwidth": 2,
            "linecolor": "white",
            "showbackground": true,
            "ticks": "",
            "zerolinecolor": "white"
           }
          },
          "shapedefaults": {
           "line": {
            "color": "#2a3f5f"
           }
          },
          "ternary": {
           "aaxis": {
            "gridcolor": "white",
            "linecolor": "white",
            "ticks": ""
           },
           "baxis": {
            "gridcolor": "white",
            "linecolor": "white",
            "ticks": ""
           },
           "bgcolor": "#E5ECF6",
           "caxis": {
            "gridcolor": "white",
            "linecolor": "white",
            "ticks": ""
           }
          },
          "title": {
           "x": 0.05
          },
          "xaxis": {
           "automargin": true,
           "gridcolor": "white",
           "linecolor": "white",
           "ticks": "",
           "title": {
            "standoff": 15
           },
           "zerolinecolor": "white",
           "zerolinewidth": 2
          },
          "yaxis": {
           "automargin": true,
           "gridcolor": "white",
           "linecolor": "white",
           "ticks": "",
           "title": {
            "standoff": 15
           },
           "zerolinecolor": "white",
           "zerolinewidth": 2
          }
         }
        },
        "xaxis": {
         "anchor": "y",
         "domain": [
          0,
          1
         ],
         "title": {
          "text": "x"
         }
        },
        "yaxis": {
         "anchor": "x",
         "domain": [
          0,
          1
         ],
         "title": {
          "text": "y"
         }
        }
       }
      },
      "text/html": [
       "<div>                            <div id=\"2889e308-6303-41c4-98d9-6f7006754bed\" class=\"plotly-graph-div\" style=\"height:525px; width:100%;\"></div>            <script type=\"text/javascript\">                require([\"plotly\"], function(Plotly) {                    window.PLOTLYENV=window.PLOTLYENV || {};                                    if (document.getElementById(\"2889e308-6303-41c4-98d9-6f7006754bed\")) {                    Plotly.newPlot(                        \"2889e308-6303-41c4-98d9-6f7006754bed\",                        [{\"hovertemplate\":\"symbol=2<br>x=%{x}<br>y=%{y}<br>color=%{marker.color}<extra></extra>\",\"legendgroup\":\"2\",\"marker\":{\"color\":[2,2,2],\"coloraxis\":\"coloraxis\",\"symbol\":\"circle\",\"size\":10},\"mode\":\"markers\",\"name\":\"2\",\"orientation\":\"v\",\"showlegend\":true,\"x\":[2,2,4],\"xaxis\":\"x\",\"y\":[4,6,4],\"yaxis\":\"y\",\"type\":\"scatter\"},{\"hovertemplate\":\"symbol=1<br>x=%{x}<br>y=%{y}<br>color=%{marker.color}<extra></extra>\",\"legendgroup\":\"1\",\"marker\":{\"color\":[1,1,1,1],\"coloraxis\":\"coloraxis\",\"symbol\":\"diamond\",\"size\":10},\"mode\":\"markers\",\"name\":\"1\",\"orientation\":\"v\",\"showlegend\":true,\"x\":[5,4,6,5],\"xaxis\":\"x\",\"y\":[6,7,6,7],\"yaxis\":\"y\",\"type\":\"scatter\"},{\"hovertemplate\":\"symbol=0<br>x=%{x}<br>y=%{y}<br>color=%{marker.color}<extra></extra>\",\"legendgroup\":\"0\",\"marker\":{\"color\":[0,0,0],\"coloraxis\":\"coloraxis\",\"symbol\":\"square\",\"size\":10},\"mode\":\"markers\",\"name\":\"0\",\"orientation\":\"v\",\"showlegend\":true,\"x\":[8,5,6],\"xaxis\":\"x\",\"y\":[3,2,3],\"yaxis\":\"y\",\"type\":\"scatter\"}],                        {\"template\":{\"data\":{\"bar\":[{\"error_x\":{\"color\":\"#2a3f5f\"},\"error_y\":{\"color\":\"#2a3f5f\"},\"marker\":{\"line\":{\"color\":\"#E5ECF6\",\"width\":0.5},\"pattern\":{\"fillmode\":\"overlay\",\"size\":10,\"solidity\":0.2}},\"type\":\"bar\"}],\"barpolar\":[{\"marker\":{\"line\":{\"color\":\"#E5ECF6\",\"width\":0.5},\"pattern\":{\"fillmode\":\"overlay\",\"size\":10,\"solidity\":0.2}},\"type\":\"barpolar\"}],\"carpet\":[{\"aaxis\":{\"endlinecolor\":\"#2a3f5f\",\"gridcolor\":\"white\",\"linecolor\":\"white\",\"minorgridcolor\":\"white\",\"startlinecolor\":\"#2a3f5f\"},\"baxis\":{\"endlinecolor\":\"#2a3f5f\",\"gridcolor\":\"white\",\"linecolor\":\"white\",\"minorgridcolor\":\"white\",\"startlinecolor\":\"#2a3f5f\"},\"type\":\"carpet\"}],\"choropleth\":[{\"colorbar\":{\"outlinewidth\":0,\"ticks\":\"\"},\"type\":\"choropleth\"}],\"contour\":[{\"colorbar\":{\"outlinewidth\":0,\"ticks\":\"\"},\"colorscale\":[[0.0,\"#0d0887\"],[0.1111111111111111,\"#46039f\"],[0.2222222222222222,\"#7201a8\"],[0.3333333333333333,\"#9c179e\"],[0.4444444444444444,\"#bd3786\"],[0.5555555555555556,\"#d8576b\"],[0.6666666666666666,\"#ed7953\"],[0.7777777777777778,\"#fb9f3a\"],[0.8888888888888888,\"#fdca26\"],[1.0,\"#f0f921\"]],\"type\":\"contour\"}],\"contourcarpet\":[{\"colorbar\":{\"outlinewidth\":0,\"ticks\":\"\"},\"type\":\"contourcarpet\"}],\"heatmap\":[{\"colorbar\":{\"outlinewidth\":0,\"ticks\":\"\"},\"colorscale\":[[0.0,\"#0d0887\"],[0.1111111111111111,\"#46039f\"],[0.2222222222222222,\"#7201a8\"],[0.3333333333333333,\"#9c179e\"],[0.4444444444444444,\"#bd3786\"],[0.5555555555555556,\"#d8576b\"],[0.6666666666666666,\"#ed7953\"],[0.7777777777777778,\"#fb9f3a\"],[0.8888888888888888,\"#fdca26\"],[1.0,\"#f0f921\"]],\"type\":\"heatmap\"}],\"heatmapgl\":[{\"colorbar\":{\"outlinewidth\":0,\"ticks\":\"\"},\"colorscale\":[[0.0,\"#0d0887\"],[0.1111111111111111,\"#46039f\"],[0.2222222222222222,\"#7201a8\"],[0.3333333333333333,\"#9c179e\"],[0.4444444444444444,\"#bd3786\"],[0.5555555555555556,\"#d8576b\"],[0.6666666666666666,\"#ed7953\"],[0.7777777777777778,\"#fb9f3a\"],[0.8888888888888888,\"#fdca26\"],[1.0,\"#f0f921\"]],\"type\":\"heatmapgl\"}],\"histogram\":[{\"marker\":{\"pattern\":{\"fillmode\":\"overlay\",\"size\":10,\"solidity\":0.2}},\"type\":\"histogram\"}],\"histogram2d\":[{\"colorbar\":{\"outlinewidth\":0,\"ticks\":\"\"},\"colorscale\":[[0.0,\"#0d0887\"],[0.1111111111111111,\"#46039f\"],[0.2222222222222222,\"#7201a8\"],[0.3333333333333333,\"#9c179e\"],[0.4444444444444444,\"#bd3786\"],[0.5555555555555556,\"#d8576b\"],[0.6666666666666666,\"#ed7953\"],[0.7777777777777778,\"#fb9f3a\"],[0.8888888888888888,\"#fdca26\"],[1.0,\"#f0f921\"]],\"type\":\"histogram2d\"}],\"histogram2dcontour\":[{\"colorbar\":{\"outlinewidth\":0,\"ticks\":\"\"},\"colorscale\":[[0.0,\"#0d0887\"],[0.1111111111111111,\"#46039f\"],[0.2222222222222222,\"#7201a8\"],[0.3333333333333333,\"#9c179e\"],[0.4444444444444444,\"#bd3786\"],[0.5555555555555556,\"#d8576b\"],[0.6666666666666666,\"#ed7953\"],[0.7777777777777778,\"#fb9f3a\"],[0.8888888888888888,\"#fdca26\"],[1.0,\"#f0f921\"]],\"type\":\"histogram2dcontour\"}],\"mesh3d\":[{\"colorbar\":{\"outlinewidth\":0,\"ticks\":\"\"},\"type\":\"mesh3d\"}],\"parcoords\":[{\"line\":{\"colorbar\":{\"outlinewidth\":0,\"ticks\":\"\"}},\"type\":\"parcoords\"}],\"pie\":[{\"automargin\":true,\"type\":\"pie\"}],\"scatter\":[{\"marker\":{\"colorbar\":{\"outlinewidth\":0,\"ticks\":\"\"}},\"type\":\"scatter\"}],\"scatter3d\":[{\"line\":{\"colorbar\":{\"outlinewidth\":0,\"ticks\":\"\"}},\"marker\":{\"colorbar\":{\"outlinewidth\":0,\"ticks\":\"\"}},\"type\":\"scatter3d\"}],\"scattercarpet\":[{\"marker\":{\"colorbar\":{\"outlinewidth\":0,\"ticks\":\"\"}},\"type\":\"scattercarpet\"}],\"scattergeo\":[{\"marker\":{\"colorbar\":{\"outlinewidth\":0,\"ticks\":\"\"}},\"type\":\"scattergeo\"}],\"scattergl\":[{\"marker\":{\"colorbar\":{\"outlinewidth\":0,\"ticks\":\"\"}},\"type\":\"scattergl\"}],\"scattermapbox\":[{\"marker\":{\"colorbar\":{\"outlinewidth\":0,\"ticks\":\"\"}},\"type\":\"scattermapbox\"}],\"scatterpolar\":[{\"marker\":{\"colorbar\":{\"outlinewidth\":0,\"ticks\":\"\"}},\"type\":\"scatterpolar\"}],\"scatterpolargl\":[{\"marker\":{\"colorbar\":{\"outlinewidth\":0,\"ticks\":\"\"}},\"type\":\"scatterpolargl\"}],\"scatterternary\":[{\"marker\":{\"colorbar\":{\"outlinewidth\":0,\"ticks\":\"\"}},\"type\":\"scatterternary\"}],\"surface\":[{\"colorbar\":{\"outlinewidth\":0,\"ticks\":\"\"},\"colorscale\":[[0.0,\"#0d0887\"],[0.1111111111111111,\"#46039f\"],[0.2222222222222222,\"#7201a8\"],[0.3333333333333333,\"#9c179e\"],[0.4444444444444444,\"#bd3786\"],[0.5555555555555556,\"#d8576b\"],[0.6666666666666666,\"#ed7953\"],[0.7777777777777778,\"#fb9f3a\"],[0.8888888888888888,\"#fdca26\"],[1.0,\"#f0f921\"]],\"type\":\"surface\"}],\"table\":[{\"cells\":{\"fill\":{\"color\":\"#EBF0F8\"},\"line\":{\"color\":\"white\"}},\"header\":{\"fill\":{\"color\":\"#C8D4E3\"},\"line\":{\"color\":\"white\"}},\"type\":\"table\"}]},\"layout\":{\"annotationdefaults\":{\"arrowcolor\":\"#2a3f5f\",\"arrowhead\":0,\"arrowwidth\":1},\"autotypenumbers\":\"strict\",\"coloraxis\":{\"colorbar\":{\"outlinewidth\":0,\"ticks\":\"\"}},\"colorscale\":{\"diverging\":[[0,\"#8e0152\"],[0.1,\"#c51b7d\"],[0.2,\"#de77ae\"],[0.3,\"#f1b6da\"],[0.4,\"#fde0ef\"],[0.5,\"#f7f7f7\"],[0.6,\"#e6f5d0\"],[0.7,\"#b8e186\"],[0.8,\"#7fbc41\"],[0.9,\"#4d9221\"],[1,\"#276419\"]],\"sequential\":[[0.0,\"#0d0887\"],[0.1111111111111111,\"#46039f\"],[0.2222222222222222,\"#7201a8\"],[0.3333333333333333,\"#9c179e\"],[0.4444444444444444,\"#bd3786\"],[0.5555555555555556,\"#d8576b\"],[0.6666666666666666,\"#ed7953\"],[0.7777777777777778,\"#fb9f3a\"],[0.8888888888888888,\"#fdca26\"],[1.0,\"#f0f921\"]],\"sequentialminus\":[[0.0,\"#0d0887\"],[0.1111111111111111,\"#46039f\"],[0.2222222222222222,\"#7201a8\"],[0.3333333333333333,\"#9c179e\"],[0.4444444444444444,\"#bd3786\"],[0.5555555555555556,\"#d8576b\"],[0.6666666666666666,\"#ed7953\"],[0.7777777777777778,\"#fb9f3a\"],[0.8888888888888888,\"#fdca26\"],[1.0,\"#f0f921\"]]},\"colorway\":[\"#636efa\",\"#EF553B\",\"#00cc96\",\"#ab63fa\",\"#FFA15A\",\"#19d3f3\",\"#FF6692\",\"#B6E880\",\"#FF97FF\",\"#FECB52\"],\"font\":{\"color\":\"#2a3f5f\"},\"geo\":{\"bgcolor\":\"white\",\"lakecolor\":\"white\",\"landcolor\":\"#E5ECF6\",\"showlakes\":true,\"showland\":true,\"subunitcolor\":\"white\"},\"hoverlabel\":{\"align\":\"left\"},\"hovermode\":\"closest\",\"mapbox\":{\"style\":\"light\"},\"paper_bgcolor\":\"white\",\"plot_bgcolor\":\"#E5ECF6\",\"polar\":{\"angularaxis\":{\"gridcolor\":\"white\",\"linecolor\":\"white\",\"ticks\":\"\"},\"bgcolor\":\"#E5ECF6\",\"radialaxis\":{\"gridcolor\":\"white\",\"linecolor\":\"white\",\"ticks\":\"\"}},\"scene\":{\"xaxis\":{\"backgroundcolor\":\"#E5ECF6\",\"gridcolor\":\"white\",\"gridwidth\":2,\"linecolor\":\"white\",\"showbackground\":true,\"ticks\":\"\",\"zerolinecolor\":\"white\"},\"yaxis\":{\"backgroundcolor\":\"#E5ECF6\",\"gridcolor\":\"white\",\"gridwidth\":2,\"linecolor\":\"white\",\"showbackground\":true,\"ticks\":\"\",\"zerolinecolor\":\"white\"},\"zaxis\":{\"backgroundcolor\":\"#E5ECF6\",\"gridcolor\":\"white\",\"gridwidth\":2,\"linecolor\":\"white\",\"showbackground\":true,\"ticks\":\"\",\"zerolinecolor\":\"white\"}},\"shapedefaults\":{\"line\":{\"color\":\"#2a3f5f\"}},\"ternary\":{\"aaxis\":{\"gridcolor\":\"white\",\"linecolor\":\"white\",\"ticks\":\"\"},\"baxis\":{\"gridcolor\":\"white\",\"linecolor\":\"white\",\"ticks\":\"\"},\"bgcolor\":\"#E5ECF6\",\"caxis\":{\"gridcolor\":\"white\",\"linecolor\":\"white\",\"ticks\":\"\"}},\"title\":{\"x\":0.05},\"xaxis\":{\"automargin\":true,\"gridcolor\":\"white\",\"linecolor\":\"white\",\"ticks\":\"\",\"title\":{\"standoff\":15},\"zerolinecolor\":\"white\",\"zerolinewidth\":2},\"yaxis\":{\"automargin\":true,\"gridcolor\":\"white\",\"linecolor\":\"white\",\"ticks\":\"\",\"title\":{\"standoff\":15},\"zerolinecolor\":\"white\",\"zerolinewidth\":2}}},\"xaxis\":{\"anchor\":\"y\",\"domain\":[0.0,1.0],\"title\":{\"text\":\"x\"}},\"yaxis\":{\"anchor\":\"x\",\"domain\":[0.0,1.0],\"title\":{\"text\":\"y\"}},\"coloraxis\":{\"colorbar\":{\"title\":{\"text\":\"color\"}},\"colorscale\":[[0.0,\"#0d0887\"],[0.1111111111111111,\"#46039f\"],[0.2222222222222222,\"#7201a8\"],[0.3333333333333333,\"#9c179e\"],[0.4444444444444444,\"#bd3786\"],[0.5555555555555556,\"#d8576b\"],[0.6666666666666666,\"#ed7953\"],[0.7777777777777778,\"#fb9f3a\"],[0.8888888888888888,\"#fdca26\"],[1.0,\"#f0f921\"]]},\"legend\":{\"title\":{\"text\":\"symbol\"},\"tracegroupgap\":0},\"margin\":{\"t\":60}},                        {\"responsive\": true}                    ).then(function(){\n",
       "                            \n",
       "var gd = document.getElementById('2889e308-6303-41c4-98d9-6f7006754bed');\n",
       "var x = new MutationObserver(function (mutations, observer) {{\n",
       "        var display = window.getComputedStyle(gd).display;\n",
       "        if (!display || display === 'none') {{\n",
       "            console.log([gd, 'removed!']);\n",
       "            Plotly.purge(gd);\n",
       "            observer.disconnect();\n",
       "        }}\n",
       "}});\n",
       "\n",
       "// Listen for the removal of the full notebook cells\n",
       "var notebookContainer = gd.closest('#notebook-container');\n",
       "if (notebookContainer) {{\n",
       "    x.observe(notebookContainer, {childList: true});\n",
       "}}\n",
       "\n",
       "// Listen for the clearing of the current output cell\n",
       "var outputEl = gd.closest('.output');\n",
       "if (outputEl) {{\n",
       "    x.observe(outputEl, {childList: true});\n",
       "}}\n",
       "\n",
       "                        })                };                });            </script>        </div>"
      ]
     },
     "metadata": {},
     "output_type": "display_data"
    }
   ],
   "source": [
    "plot_data_2d(kmeans_prediction)"
   ]
  },
  {
   "cell_type": "markdown",
   "id": "cc3b54bb",
   "metadata": {},
   "source": [
    "#### 3) KModes using Sklearn"
   ]
  },
  {
   "cell_type": "code",
   "execution_count": 1,
   "id": "c9cb5d00",
   "metadata": {},
   "outputs": [
    {
     "name": "stdout",
     "output_type": "stream",
     "text": [
      "^C\n"
     ]
    }
   ],
   "source": [
    "import sys\n",
    "!conda install -c conda-forge kmodes"
   ]
  },
  {
   "cell_type": "code",
   "execution_count": 2,
   "id": "9c83e11a",
   "metadata": {},
   "outputs": [
    {
     "name": "stdout",
     "output_type": "stream",
     "text": [
      "The history saving thread hit an unexpected error (OperationalError('database or disk is full')).History will not be written to the database.\n",
      "Collecting package metadata (current_repodata.json): ...working... done\n",
      "Solving environment: ...working... done\n"
     ]
    },
    {
     "name": "stderr",
     "output_type": "stream",
     "text": [
      "WARNING conda.gateways.disk.delete:unlink_or_rename_to_trash(143): Could not remove or rename C:\\Anaconda\\pkgs\\conda-4.11.0-py38haa244fe_0\\info\\test\\tests\\data\\repodata\\free_linux-64.json.  Please remove this file manually (you may need to reboot to free file handles)\n",
      "\n",
      "# >>>>>>>>>>>>>>>>>>>>>> ERROR REPORT <<<<<<<<<<<<<<<<<<<<<<\n",
      "\n",
      "    Traceback (most recent call last):\n",
      "      File \"C:\\Anaconda\\lib\\site-packages\\conda\\core\\package_cache_data.py\", line 318, in _make_single_record\n",
      "        raw_json_record = read_index_json(extracted_package_dir)\n",
      "      File \"C:\\Anaconda\\lib\\site-packages\\conda\\gateways\\disk\\read.py\", line 107, in read_index_json\n",
      "        return json.load(fi)\n",
      "      File \"C:\\Anaconda\\lib\\json\\__init__.py\", line 293, in load\n",
      "        return loads(fp.read(),\n",
      "      File \"C:\\Anaconda\\lib\\json\\__init__.py\", line 357, in loads\n",
      "        return _default_decoder.decode(s)\n",
      "      File \"C:\\Anaconda\\lib\\json\\decoder.py\", line 337, in decode\n",
      "        obj, end = self.raw_decode(s, idx=_w(s, 0).end())\n",
      "      File \"C:\\Anaconda\\lib\\json\\decoder.py\", line 355, in raw_decode\n",
      "        raise JSONDecodeError(\"Expecting value\", s, err.value) from None\n",
      "    json.decoder.JSONDecodeError: Expecting value: line 1 column 1 (char 0)\n",
      "    \n",
      "    During handling of the above exception, another exception occurred:\n",
      "    \n",
      "    Traceback (most recent call last):\n",
      "      File \"C:\\Anaconda\\lib\\site-packages\\conda_package_handling\\tarball.py\", line 146, in extract\n",
      "        _tar_xf(fn, dest_dir)\n",
      "      File \"C:\\Anaconda\\lib\\site-packages\\conda_package_handling\\tarball.py\", line 98, in _tar_xf\n",
      "        archive_utils.extract_file(tarball)\n",
      "      File \"C:\\Anaconda\\lib\\site-packages\\conda_package_handling\\archive_utils.py\", line 15, in extract_file\n",
      "        raise InvalidArchiveError(tarball, error_str.decode('utf-8'))\n",
      "    conda_package_handling.exceptions.InvalidArchiveError: Error with archive C:\\Anaconda\\pkgs\\conda-4.11.0-py38haa244fe_0.tar.bz2.  You probably need to delete and re-download or re-create this file.  Message from libarchive was:\n",
      "    \n",
      "    Could not unlink\n",
      "    \n",
      "    During handling of the above exception, another exception occurred:\n",
      "    \n",
      "    Traceback (most recent call last):\n",
      "      File \"C:\\Anaconda\\lib\\site-packages\\conda_package_handling\\tarball.py\", line 113, in _tar_xf_no_libarchive\n",
      "        tar_file.extractall(path=destination_directory)\n",
      "      File \"C:\\Anaconda\\lib\\tarfile.py\", line 2028, in extractall\n",
      "        self.extract(tarinfo, path, set_attrs=not tarinfo.isdir(),\n",
      "      File \"C:\\Anaconda\\lib\\tarfile.py\", line 2069, in extract\n",
      "        self._extract_member(tarinfo, os.path.join(path, tarinfo.name),\n",
      "      File \"C:\\Anaconda\\lib\\tarfile.py\", line 2141, in _extract_member\n",
      "        self.makefile(tarinfo, targetpath)\n",
      "      File \"C:\\Anaconda\\lib\\tarfile.py\", line 2190, in makefile\n",
      "        copyfileobj(source, target, tarinfo.size, ReadError, bufsize)\n",
      "    OSError: [Errno 28] No space left on device\n",
      "    \n",
      "    During handling of the above exception, another exception occurred:\n",
      "    \n",
      "    Traceback (most recent call last):\n",
      "      File \"C:\\Anaconda\\lib\\site-packages\\conda\\exceptions.py\", line 1079, in __call__\n",
      "        return func(*args, **kwargs)\n",
      "      File \"C:\\Anaconda\\lib\\site-packages\\conda\\cli\\main.py\", line 84, in _main\n",
      "        exit_code = do_call(args, p)\n",
      "      File \"C:\\Anaconda\\lib\\site-packages\\conda\\cli\\conda_argparse.py\", line 83, in do_call\n",
      "        return getattr(module, func_name)(args, parser)\n",
      "      File \"C:\\Anaconda\\lib\\site-packages\\conda\\cli\\main_install.py\", line 20, in execute\n",
      "        install(args, parser, 'install')\n",
      "      File \"C:\\Anaconda\\lib\\site-packages\\conda\\cli\\install.py\", line 317, in install\n",
      "        handle_txn(unlink_link_transaction, prefix, args, newenv)\n",
      "      File \"C:\\Anaconda\\lib\\site-packages\\conda\\cli\\install.py\", line 333, in handle_txn\n",
      "        unlink_link_transaction.print_transaction_summary()\n",
      "      File \"C:\\Anaconda\\lib\\site-packages\\conda\\core\\link.py\", line 921, in print_transaction_summary\n",
      "        legacy_action_groups = self._make_legacy_action_groups()\n",
      "      File \"C:\\Anaconda\\lib\\site-packages\\conda\\core\\link.py\", line 902, in _make_legacy_action_groups\n",
      "        self._pfe.prepare()\n",
      "      File \"C:\\Anaconda\\lib\\site-packages\\conda\\common\\io.py\", line 88, in decorated\n",
      "        return f(*args, **kwds)\n",
      "      File \"C:\\Anaconda\\lib\\site-packages\\conda\\core\\package_cache_data.py\", line 611, in prepare\n",
      "        self.paired_actions.update((prec, self.make_actions_for_record(prec))\n",
      "      File \"C:\\Anaconda\\lib\\site-packages\\conda\\core\\package_cache_data.py\", line 611, in <genexpr>\n",
      "        self.paired_actions.update((prec, self.make_actions_for_record(prec))\n",
      "      File \"C:\\Anaconda\\lib\\site-packages\\conda\\core\\package_cache_data.py\", line 499, in make_actions_for_record\n",
      "        extracted_pcrec = next((\n",
      "      File \"C:\\Anaconda\\lib\\site-packages\\conda\\core\\package_cache_data.py\", line 499, in <genexpr>\n",
      "        extracted_pcrec = next((\n",
      "      File \"C:\\Anaconda\\lib\\site-packages\\conda\\core\\package_cache_data.py\", line 500, in <genexpr>\n",
      "        pcrec for pcrec in concat(PackageCacheData(pkgs_dir).query(pref_or_spec)\n",
      "      File \"C:\\Anaconda\\lib\\site-packages\\conda\\core\\package_cache_data.py\", line 130, in query\n",
      "        return (pcrec for pcrec in itervalues(self._package_cache_records) if pcrec == param)\n",
      "      File \"C:\\Anaconda\\lib\\site-packages\\conda\\core\\package_cache_data.py\", line 244, in _package_cache_records\n",
      "        self.load()\n",
      "      File \"C:\\Anaconda\\lib\\site-packages\\conda\\core\\package_cache_data.py\", line 96, in load\n",
      "        package_cache_record = self._make_single_record(base_name)\n",
      "      File \"C:\\Anaconda\\lib\\site-packages\\conda\\core\\package_cache_data.py\", line 340, in _make_single_record\n",
      "        extract_tarball(package_tarball_full_path, extracted_package_dir)\n",
      "      File \"C:\\Anaconda\\lib\\site-packages\\conda\\gateways\\disk\\create.py\", line 219, in extract_tarball\n",
      "        conda_package_handling.api.extract(tarball_full_path, dest_dir=destination_directory)\n",
      "      File \"C:\\Anaconda\\lib\\site-packages\\conda_package_handling\\api.py\", line 58, in extract\n",
      "        SUPPORTED_EXTENSIONS[ext].extract(fn, dest_dir, components=components)\n",
      "      File \"C:\\Anaconda\\lib\\site-packages\\conda_package_handling\\tarball.py\", line 151, in extract\n",
      "        _tar_xf_no_libarchive(fn, dest_dir)\n",
      "      File \"C:\\Anaconda\\lib\\site-packages\\conda_package_handling\\tarball.py\", line 123, in _tar_xf_no_libarchive\n",
      "        \"failed with error: {}\" % str(e))\n",
      "    TypeError: not all arguments converted during string formatting\n",
      "\n",
      "`$ C:\\Anaconda\\Scripts\\conda-script.py install --yes --prefix C:\\Anaconda numpy`\n",
      "\n",
      "  environment variables:\n",
      "                 CIO_TEST=<not set>\n",
      "                CONDA_EXE=C:\\Anaconda\\condabin\\..\\Scripts\\conda.exe\n",
      "               CONDA_EXES=\"C:\\Anaconda\\condabin\\..\\Scripts\\conda.exe\"\n",
      "               CONDA_ROOT=C:\\Anaconda\n",
      "           CURL_CA_BUNDLE=<not set>\n",
      "                   GOPATH=C:\\Users\\Anthra Devarajan\\go\n",
      "                 HOMEPATH=\\Users\\Anthra Devarajan\n",
      "                     PATH=C:\\Anaconda;C:\\Anaconda\\Library\\mingw-w64\\bin;C:\\Anaconda\\Library\\usr\\\n",
      "                          bin;C:\\Anaconda\\Library\\bin;C:\\Anaconda\\Scripts;C:\\Anaconda\\bin;C:\\Pro\n",
      "                          gram Files\\AdoptOpenJDK\\jdk-15.0.2.7-hotspot\\bin;C:\\Python38\\Scripts\\;\n",
      "                          C:\\Python38\\;C:\\Windows\\system32;C:\\Windows;C:\\Windows\\System32\\Wbem;C\n",
      "                          :\\Windows\\System32\\WindowsPowerShell\\v1.0\\;C:\\Windows\\System32\\OpenSSH\n",
      "                          \\;C:\\Program Files (x86)\\NVIDIA Corporation\\PhysX\\Common;C:\\Program\n",
      "                          Files\\NVIDIA Corporation\\NVIDIA NvDLISR;C:\\Program\n",
      "                          Files\\nodejs\\;C:\\ProgramData\\chocolatey\\bin;C:\\Program Files\\gs\\gs9.53\n",
      "                          .3\\bin;C:\\WINDOWS\\system32;C:\\WINDOWS;C:\\WINDOWS\\System32\\Wbem;C:\\WIND\n",
      "                          OWS\\System32\\WindowsPowerShell\\v1.0\\;C:\\WINDOWS\\System32\\OpenSSH\\;C:\\U\n",
      "                          sers\\Anthra Devarajan\\Downloads\\apache-maven-3.8.1-bin\\apache-\n",
      "                          maven-3.8.1\\bin;C:\\Users\\Anthra Devarajan\\anaconda3\\Scripts;C:\\Program\n",
      "                          Files\\Go\\bin;C:\\Anaconda;C:\\Anaconda\\Library\\mingw-w64\\bin;C:\\Anaconda\n",
      "                          \\Library\\usr\\bin;C:\\Anaconda\\Library\\bin;C:\\Anaconda\\Scripts;C:\\Progra\n",
      "                          m Files\\MySQL\\MySQL Shell 8.0\\bin\\;C:\\Users\\Anthra\n",
      "                          Devarajan\\AppData\\Local\\Microsoft\\WindowsApps;C:\\Users\\Anthra\n",
      "                          Devarajan\\AppData\\Roaming\\npm;C:\\Users\\Anthra\n",
      "                          Devarajan\\AppData\\Local\\Programs\\Microsoft VS Code\\bin;C:\\Users\\Anthra\n",
      "                          Devarajan\\anaconda3\\Scripts;C:\\Users\\Anthra Devarajan\\go\\bin\n",
      "             PSMODULEPATH=C:\\Program Files\\WindowsPowerShell\\Modules;C:\\WINDOWS\\system32\\Windows\n",
      "                          PowerShell\\v1.0\\Modules\n",
      "       REQUESTS_CA_BUNDLE=<not set>\n",
      "            SSL_CERT_FILE=<not set>\n",
      "    VBOX_MSI_INSTALL_PATH=C:\\Program Files\\Oracle\\VirtualBox\\\n",
      "\n",
      "     active environment : None\n",
      "       user config file : C:\\Users\\Anthra Devarajan\\.condarc\n",
      " populated config files : C:\\Users\\Anthra Devarajan\\.condarc\n",
      "          conda version : 4.10.3\n",
      "    conda-build version : 3.21.4\n",
      "         python version : 3.8.8.final.0\n",
      "       virtual packages : __cuda=10.2=0\n",
      "                          __win=0=0\n",
      "                          __archspec=1=x86_64\n",
      "       base environment : C:\\Anaconda  (writable)\n",
      "      conda av data dir : C:\\Anaconda\\etc\\conda\n",
      "  conda av metadata url : None\n",
      "           channel URLs : https://repo.anaconda.com/pkgs/main/win-64\n",
      "                          https://repo.anaconda.com/pkgs/main/noarch\n",
      "                          https://repo.anaconda.com/pkgs/r/win-64\n",
      "                          https://repo.anaconda.com/pkgs/r/noarch\n",
      "                          https://repo.anaconda.com/pkgs/msys2/win-64\n",
      "                          https://repo.anaconda.com/pkgs/msys2/noarch\n",
      "          package cache : C:\\Anaconda\\pkgs\n",
      "                          C:\\Users\\Anthra Devarajan\\.conda\\pkgs\n",
      "                          C:\\Users\\Anthra Devarajan\\AppData\\Local\\conda\\conda\\pkgs\n",
      "       envs directories : C:\\Anaconda\\envs\n",
      "                          C:\\Users\\Anthra Devarajan\\.conda\\envs\n",
      "                          C:\\Users\\Anthra Devarajan\\AppData\\Local\\conda\\conda\\envs\n",
      "               platform : win-64\n",
      "             user-agent : conda/4.10.3 requests/2.26.0 CPython/3.8.8 Windows/10 Windows/10.0.19041\n",
      "          administrator : False\n",
      "             netrc file : None\n",
      "           offline mode : False\n",
      "\n",
      "\n",
      "An unexpected error has occurred. Conda has prepared the above report.\n",
      "\n",
      "Upload successful.\n"
     ]
    }
   ],
   "source": [
    "import sys\n",
    "!conda install --yes --prefix {sys.prefix} numpy"
   ]
  },
  {
   "cell_type": "code",
   "execution_count": null,
   "id": "49f012f5",
   "metadata": {},
   "outputs": [],
   "source": [
    "from kmodes.kmodes import KModes"
   ]
  },
  {
   "cell_type": "markdown",
   "id": "6779b207",
   "metadata": {},
   "source": [
    "Generate the dataset shown in class:"
   ]
  },
  {
   "cell_type": "code",
   "execution_count": null,
   "id": "a2a1b95c",
   "metadata": {},
   "outputs": [],
   "source": [
    "hair_colour = np.array([\"blonde\", \"brunette\", \"red\", \"black\", \"brunette\", \"black\", \"red\", \"black\"])\n",
    "eye_colour = np.array([\"amber\", \"grey\", \"green\", \"hazel\", \"amber\", \"grey\", \"green\", \"hazel\"])\n",
    "skin_colour = np.array([\"fair\", \"brown\", \"brown\", \"brown\", \"fair\", \"brown\", \"fair\", \"fair\"])\n",
    "df = pd.DataFrame(data=hair_colour,columns=['hair_colour'])\n",
    "df['eye_colour'] = eye_colour.tolist()\n",
    "df['skin_colour'] = skin_colour.tolist()\n",
    "df"
   ]
  },
  {
   "cell_type": "markdown",
   "id": "42574ebf",
   "metadata": {},
   "source": [
    "The clustering of K = 2 using K-Modes is shown below:"
   ]
  },
  {
   "cell_type": "code",
   "execution_count": null,
   "id": "3d46d772",
   "metadata": {},
   "outputs": [],
   "source": [
    "kmode = KModes(n_clusters=2)\n",
    "kmode_prediction = kmode.fit_predict(df)\n",
    "kmode_prediction"
   ]
  },
  {
   "cell_type": "code",
   "execution_count": null,
   "id": "e0f55d40",
   "metadata": {},
   "outputs": [],
   "source": [
    "plot_data(kmode_prediction, df)"
   ]
  },
  {
   "cell_type": "markdown",
   "id": "85b13a4d",
   "metadata": {},
   "source": [
    "Conclusion:\n",
    "The dataset from class and the Iris dataset are clustered using Kmeans (manual and sklearn package) and Kmodes are performed"
   ]
  },
  {
   "cell_type": "code",
   "execution_count": null,
   "id": "225371fa",
   "metadata": {},
   "outputs": [],
   "source": []
  }
 ],
 "metadata": {
  "kernelspec": {
   "display_name": "Python 3",
   "language": "python",
   "name": "python3"
  },
  "language_info": {
   "codemirror_mode": {
    "name": "ipython",
    "version": 3
   },
   "file_extension": ".py",
   "mimetype": "text/x-python",
   "name": "python",
   "nbconvert_exporter": "python",
   "pygments_lexer": "ipython3",
   "version": "3.8.12"
  }
 },
 "nbformat": 4,
 "nbformat_minor": 5
}
