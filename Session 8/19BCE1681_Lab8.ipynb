{
 "cells": [
  {
   "cell_type": "markdown",
   "id": "8f8e0c25",
   "metadata": {},
   "source": [
    "# Lab session 8: Perceptron (single layer) \n",
    "__Name: Anthra Devarajan<br>\n",
    "Registration number: 19BCE1681<br>\n",
    "Course code: CSE4020<br>\n",
    "Faculty: Dr. Abdul Quadir<br>\n",
    "Slot: L31 + L32<br>\n",
    "Date: 4-October-2021 Monday__<br><br>\n",
    "    \n",
    "Instructions:<br>\n",
    "Make a single layer perceptron from scratch and use the Iris dataset to train a model. Verify the model's results and compare the performance using the buil-in single layer percepton from Sklearn package"
   ]
  },
  {
   "cell_type": "markdown",
   "id": "84c79f33",
   "metadata": {},
   "source": [
    "## I) Single layer Perceptron (built from scratch)"
   ]
  },
  {
   "cell_type": "markdown",
   "id": "58e5a761",
   "metadata": {},
   "source": [
    "__1) Import Libraries__"
   ]
  },
  {
   "cell_type": "markdown",
   "id": "c83e8198",
   "metadata": {},
   "source": [
    "Import the necessary packages"
   ]
  },
  {
   "cell_type": "code",
   "execution_count": 2,
   "id": "812736bf",
   "metadata": {},
   "outputs": [],
   "source": [
    "import numpy as np\n",
    "import pandas as pd\n",
    "import matplotlib.pyplot as plt\n",
    "import seaborn as sb\n",
    "%matplotlib inline\n",
    "from sklearn.metrics import confusion_matrix"
   ]
  },
  {
   "cell_type": "markdown",
   "id": "4ba11bf3",
   "metadata": {},
   "source": [
    "__2) Dataset__"
   ]
  },
  {
   "cell_type": "markdown",
   "id": "59886345",
   "metadata": {},
   "source": [
    "Load the Iris dataset using the URL 'https://archive.ics.uci.edu/ml/machine-learning-databases/iris/iris.data'"
   ]
  },
  {
   "cell_type": "code",
   "execution_count": 3,
   "id": "ca16be56",
   "metadata": {},
   "outputs": [],
   "source": [
    "data = pd.read_csv('https://archive.ics.uci.edu/ml/machine-learning-databases/iris/iris.data', header = None)\n",
    "data = data[:100] \n",
    "# The dataset contains three species of Iris flowers, but with single layer perceptron we can do binary classification\n",
    "# I am implementing the perceptron for two species and thus, only the first 100 entries consisting of Iris setosa and Iris versicolor \n",
    "data[4] = np.where(data.iloc[:, -1]=='Iris-setosa', 0, 1)\n",
    "data = np.asmatrix(data, dtype = 'float64')"
   ]
  },
  {
   "cell_type": "markdown",
   "id": "65310332",
   "metadata": {},
   "source": [
    "__3) Visualisation__"
   ]
  },
  {
   "cell_type": "markdown",
   "id": "833d59e7",
   "metadata": {},
   "source": [
    "Sepal length vs petal length"
   ]
  },
  {
   "cell_type": "code",
   "execution_count": 4,
   "id": "d0240166",
   "metadata": {},
   "outputs": [
    {
     "data": {
      "image/png": "[encoded data removed]",
      "text/plain": [
       "<Figure size 432x288 with 1 Axes>"
      ]
     },
     "metadata": {
      "needs_background": "light"
     },
     "output_type": "display_data"
    }
   ],
   "source": [
    "plt.scatter(np.array(data[:50,0]), np.array(data[:50,2]), marker='o', label='setosa')\n",
    "plt.scatter(np.array(data[50:,0]), np.array(data[50:,2]), marker='x', label='versicolor')\n",
    "plt.xlabel('petal length')\n",
    "plt.ylabel('sepal length')\n",
    "plt.legend()\n",
    "plt.show()"
   ]
  },
  {
   "cell_type": "markdown",
   "id": "fffcfaff",
   "metadata": {},
   "source": [
    "__4) Build a function - single layer perceptron__"
   ]
  },
  {
   "cell_type": "code",
   "execution_count": 5,
   "id": "efe71c95",
   "metadata": {},
   "outputs": [],
   "source": [
    "def accuracy(a, p):\n",
    "    correct=0\n",
    "    for i in range(len(y)):\n",
    "        if(a[i]==p[i]):\n",
    "            crct+=1\n",
    "    return correct/len(a)"
   ]
  },
  {
   "cell_type": "code",
   "execution_count": 6,
   "id": "b80f78fd",
   "metadata": {},
   "outputs": [],
   "source": [
    "def perceptron(data, num_iter):\n",
    "    misclassified_ = [] \n",
    "    features = data[:, :-1]\n",
    "    labels = data[:, -1]\n",
    "    w = np.zeros(shape=(1, features.shape[1]+1))\n",
    "    predicted = []\n",
    "  \n",
    "    for epoch in range(num_iter):\n",
    "        misclassified = 0\n",
    "        predicted_epoch = []\n",
    "        for x, label in zip(features, labels):\n",
    "            x = np.insert(x,0,1)\n",
    "            y = np.dot(w, x.transpose())\n",
    "            if (y > 0):\n",
    "                target = 1.0 \n",
    "            else:\n",
    "                target = 0.0\n",
    "            \n",
    "            delta = (label.item(0,0) - target)\n",
    "            predicted_epoch.append(target)\n",
    "            if(delta):\n",
    "                misclassified += 1\n",
    "                w += (delta * x)\n",
    "        \n",
    "        misclassified_.append(misclassified)\n",
    "        predicted.append(predicted_epoch)\n",
    "    return (w, misclassified_, predicted)"
   ]
  },
  {
   "cell_type": "markdown",
   "id": "e3ba6cfb",
   "metadata": {},
   "source": [
    "invoke the function to get weights, correct classifications, incorrect classifications for a total of 10 epochs"
   ]
  },
  {
   "cell_type": "code",
   "execution_count": 7,
   "id": "ad2e2908",
   "metadata": {},
   "outputs": [],
   "source": [
    "max_iterations = 10 \n",
    "w, misclassified_, prediction = perceptron(data, max_iterations)"
   ]
  },
  {
   "cell_type": "markdown",
   "id": "aada1d55",
   "metadata": {},
   "source": [
    "__5) Visualise the performace of the model at each epoch__"
   ]
  },
  {
   "cell_type": "code",
   "execution_count": 35,
   "id": "5b7e45a5",
   "metadata": {},
   "outputs": [
    {
     "data": {
      "image/png": "[encoded data removed]",
      "text/plain": [
       "<Figure size 432x288 with 1 Axes>"
      ]
     },
     "metadata": {
      "needs_background": "light"
     },
     "output_type": "display_data"
    }
   ],
   "source": [
    "epochs = np.arange(1, max_iterations+1)\n",
    "plt.plot(epochs, misclassified_)\n",
    "plt.xlabel('Iteration')\n",
    "plt.ylabel('Misclassified')\n",
    "plt.show()"
   ]
  },
  {
   "cell_type": "markdown",
   "id": "4fe2ab0a",
   "metadata": {},
   "source": [
    "By the 4th epoch, the model did not miscassify any species of flower and therefore the curve is saturated (flat)"
   ]
  },
  {
   "cell_type": "markdown",
   "id": "eaebf0b4",
   "metadata": {},
   "source": [
    "__6) The model weights - coefficients:__"
   ]
  },
  {
   "cell_type": "code",
   "execution_count": 36,
   "id": "a2622421",
   "metadata": {},
   "outputs": [
    {
     "name": "stdout",
     "output_type": "stream",
     "text": [
      "The weights are :\n",
      "Coefficient 0 = -1.0\n",
      "Coefficient 1 = -1.0999999999999996\n",
      "Coefficient 2 = -3.5999999999999996\n",
      "Coefficient 3 = 5.200000000000001\n",
      "Coefficient 4 = 2.1999999999999997\n"
     ]
    }
   ],
   "source": [
    "print(\"The weights are :\")\n",
    "for i in range(len(w[0])):\n",
    "    print(\"Coefficient \" + str(i) + \" = \" + str(w[0][i]))"
   ]
  },
  {
   "cell_type": "markdown",
   "id": "acc19857",
   "metadata": {},
   "source": [
    "__7) Performace__"
   ]
  },
  {
   "cell_type": "markdown",
   "id": "9d291742",
   "metadata": {},
   "source": [
    "Using a confusion matrix show the performance of the results of the best epochs - from 3"
   ]
  },
  {
   "cell_type": "code",
   "execution_count": 46,
   "id": "55d7ac4b",
   "metadata": {},
   "outputs": [],
   "source": [
    "expected_d = data[:, -1]\n",
    "expected = []\n",
    "for i in range(len(expected_d)):\n",
    "    expected.append(int(expected_d[i]))"
   ]
  },
  {
   "cell_type": "code",
   "execution_count": 47,
   "id": "566fc59a",
   "metadata": {},
   "outputs": [],
   "source": [
    "def confusion_matrix(predicted, actual):\n",
    "    confusion = [[0,0],[0,0]]\n",
    "    for i in range(len(predicted)):\n",
    "        if predicted[i] == actual[i]:\n",
    "            if predicted[i] == 0:\n",
    "                confusion[1][1]+=1\n",
    "            else:\n",
    "                confusion[0][0]+=1\n",
    "        else:\n",
    "            if predicted[i] == 0:\n",
    "                confusion[0][1]+=1\n",
    "            else:\n",
    "                confusion[1][0]+=1\n",
    "    return confusion"
   ]
  },
  {
   "cell_type": "markdown",
   "id": "4fcdf02d",
   "metadata": {},
   "source": [
    "Confusion matrix (epoch wise): "
   ]
  },
  {
   "cell_type": "code",
   "execution_count": 50,
   "id": "c5ae574f",
   "metadata": {},
   "outputs": [
    {
     "name": "stdout",
     "output_type": "stream",
     "text": [
      "Epoch 1) Confusion matrix:\n",
      "[[49, 1], [0, 50]]\n",
      "\n",
      "\n",
      "Epoch 2) Confusion matrix:\n",
      "[[49, 1], [2, 48]]\n",
      "\n",
      "\n",
      "Epoch 3) Confusion matrix:\n",
      "[[50, 0], [1, 49]]\n",
      "\n",
      "\n",
      "Epoch 4) Confusion matrix:\n",
      "[[50, 0], [0, 50]]\n",
      "\n",
      "\n",
      "Epoch 5) Confusion matrix:\n",
      "[[50, 0], [0, 50]]\n",
      "\n",
      "\n",
      "Epoch 6) Confusion matrix:\n",
      "[[50, 0], [0, 50]]\n",
      "\n",
      "\n",
      "Epoch 7) Confusion matrix:\n",
      "[[50, 0], [0, 50]]\n",
      "\n",
      "\n",
      "Epoch 8) Confusion matrix:\n",
      "[[50, 0], [0, 50]]\n",
      "\n",
      "\n",
      "Epoch 9) Confusion matrix:\n",
      "[[50, 0], [0, 50]]\n",
      "\n",
      "\n",
      "Epoch 10) Confusion matrix:\n",
      "[[50, 0], [0, 50]]\n",
      "\n",
      "\n"
     ]
    },
    {
     "data": {
      "image/png": "[encoded data removed]",
      "text/plain": [
       "<Figure size 432x288 with 2 Axes>"
      ]
     },
     "metadata": {
      "needs_background": "light"
     },
     "output_type": "display_data"
    },
    {
     "data": {
      "image/png": "[encoded data removed]",
      "text/plain": [
       "<Figure size 432x288 with 2 Axes>"
      ]
     },
     "metadata": {
      "needs_background": "light"
     },
     "output_type": "display_data"
    },
    {
     "data": {
      "image/png": "[encoded data removed]",
      "text/plain": [
       "<Figure size 432x288 with 2 Axes>"
      ]
     },
     "metadata": {
      "needs_background": "light"
     },
     "output_type": "display_data"
    },
    {
     "data": {
      "image/png": "[encoded data removed]",
      "text/plain": [
       "<Figure size 432x288 with 2 Axes>"
      ]
     },
     "metadata": {
      "needs_background": "light"
     },
     "output_type": "display_data"
    },
    {
     "data": {
      "image/png": "[encoded data removed]",
      "text/plain": [
       "<Figure size 432x288 with 2 Axes>"
      ]
     },
     "metadata": {
      "needs_background": "light"
     },
     "output_type": "display_data"
    },
    {
     "data": {
      "image/png": "[encoded data removed]",
      "text/plain": [
       "<Figure size 432x288 with 2 Axes>"
      ]
     },
     "metadata": {
      "needs_background": "light"
     },
     "output_type": "display_data"
    },
    {
     "data": {
      "image/png": "[encoded data removed]",
      "text/plain": [
       "<Figure size 432x288 with 2 Axes>"
      ]
     },
     "metadata": {
      "needs_background": "light"
     },
     "output_type": "display_data"
    },
    {
     "data": {
      "image/png": "[encoded data removed]",
      "text/plain": [
       "<Figure size 432x288 with 2 Axes>"
      ]
     },
     "metadata": {
      "needs_background": "light"
     },
     "output_type": "display_data"
    },
    {
     "data": {
      "image/png": "[encoded data removed]",
      "text/plain": [
       "<Figure size 432x288 with 2 Axes>"
      ]
     },
     "metadata": {
      "needs_background": "light"
     },
     "output_type": "display_data"
    },
    {
     "data": {
      "image/png": "[encoded data removed]",
      "text/plain": [
       "<Figure size 432x288 with 2 Axes>"
      ]
     },
     "metadata": {
      "needs_background": "light"
     },
     "output_type": "display_data"
    }
   ],
   "source": [
    "for i in range(max_iterations):\n",
    "    epoch_wise_predicted = prediction[i]\n",
    "    confusion = confusion_matrix(list(epoch_wise_predicted), list(expected))\n",
    "    print(\"Epoch \" + str(i + 1) + \") Confusion matrix:\")\n",
    "    print(confusion, end=\"\\n\")\n",
    "    class_names=[\"Iris-setosa\",\"Iris-versicolor\"] # name  of classes\n",
    "    fig, ax = plt.subplots()\n",
    "    tick_marks = np.arange(len(class_names))\n",
    "    plt.xticks(tick_marks, class_names)\n",
    "    plt.yticks(tick_marks, class_names)\n",
    "    \n",
    "    # create heatmap\n",
    "    sb.heatmap(pd.DataFrame(np.array(confusion)), annot=True, cmap=\"YlGnBu\" ,fmt='g')\n",
    "    ax.xaxis.set_label_position(\"top\")\n",
    "    plt.tight_layout()\n",
    "    plt.title('Confusion matrix', y=1.1)\n",
    "    plt.ylabel('Actual label')\n",
    "    plt.xlabel('Predicted label')\n",
    "    print(\"\\n\")"
   ]
  },
  {
   "cell_type": "markdown",
   "id": "0e72339c",
   "metadata": {},
   "source": [
    "Accuracy:"
   ]
  },
  {
   "cell_type": "code",
   "execution_count": 49,
   "id": "5ed975cd",
   "metadata": {},
   "outputs": [
    {
     "name": "stdout",
     "output_type": "stream",
     "text": [
      "Epoch 1    Accuracy = 0.99\n",
      "Epoch 2    Accuracy = 0.97\n",
      "Epoch 3    Accuracy = 0.99\n",
      "Epoch 4    Accuracy = 1.0\n",
      "Epoch 5    Accuracy = 1.0\n",
      "Epoch 6    Accuracy = 1.0\n",
      "Epoch 7    Accuracy = 1.0\n",
      "Epoch 8    Accuracy = 1.0\n",
      "Epoch 9    Accuracy = 1.0\n",
      "Epoch 10    Accuracy = 1.0\n"
     ]
    }
   ],
   "source": [
    "for i in range(max_iterations):\n",
    "    predicted = prediction[i]\n",
    "    print(\"Epoch \" + str(i+1)+ \"    Accuracy = \" + str(accuracy(predicted, expected)))"
   ]
  },
  {
   "cell_type": "markdown",
   "id": "715903d4",
   "metadata": {},
   "source": [
    "<hr>"
   ]
  },
  {
   "cell_type": "markdown",
   "id": "c0c4322d",
   "metadata": {},
   "source": [
    "## II) Perceptron using sklearn"
   ]
  },
  {
   "cell_type": "markdown",
   "id": "0da685f6",
   "metadata": {},
   "source": [
    "__1) Libraries__"
   ]
  },
  {
   "cell_type": "code",
   "execution_count": 41,
   "id": "ffdc70eb",
   "metadata": {},
   "outputs": [],
   "source": [
    "from sklearn.linear_model import Perceptron"
   ]
  },
  {
   "cell_type": "markdown",
   "id": "7fcc7aaf",
   "metadata": {},
   "source": [
    "__2) Training the model__"
   ]
  },
  {
   "cell_type": "code",
   "execution_count": 42,
   "id": "842e9949",
   "metadata": {},
   "outputs": [
    {
     "name": "stderr",
     "output_type": "stream",
     "text": [
      "/Users/srinivasanperumal/anaconda3/lib/python3.8/site-packages/sklearn/utils/validation.py:63: DataConversionWarning: A column-vector y was passed when a 1d array was expected. Please change the shape of y to (n_samples, ), for example using ravel().\n",
      "  return f(*args, **kwargs)\n"
     ]
    },
    {
     "data": {
      "text/plain": [
       "Perceptron(random_state=1)"
      ]
     },
     "execution_count": 42,
     "metadata": {},
     "output_type": "execute_result"
    }
   ],
   "source": [
    "X = data[:, :-1]\n",
    "y = data[:, -1]\n",
    "model = Perceptron(random_state=1)\n",
    "model.fit(X, np.array(y))"
   ]
  },
  {
   "cell_type": "markdown",
   "id": "956c3ffc",
   "metadata": {},
   "source": [
    "__3) Prediction__"
   ]
  },
  {
   "cell_type": "code",
   "execution_count": 43,
   "id": "fedbbedb",
   "metadata": {},
   "outputs": [],
   "source": [
    "predicted = model.predict(X)"
   ]
  },
  {
   "cell_type": "markdown",
   "id": "1d07eaea",
   "metadata": {},
   "source": [
    "__4) Performance__"
   ]
  },
  {
   "cell_type": "code",
   "execution_count": 44,
   "id": "238c7c90",
   "metadata": {},
   "outputs": [
    {
     "name": "stdout",
     "output_type": "stream",
     "text": [
      "[[50  0]\n",
      " [ 0 50]]\n"
     ]
    }
   ],
   "source": [
    "results = confusion_matrix(y, predicted)\n",
    "expected = []\n",
    "for i in range(len(y)):\n",
    "    expected.append(int(y[i]))\n",
    "print(results)"
   ]
  },
  {
   "cell_type": "code",
   "execution_count": 45,
   "id": "0e10f545",
   "metadata": {},
   "outputs": [
    {
     "name": "stdout",
     "output_type": "stream",
     "text": [
      "Accuracy = 1.0\n"
     ]
    }
   ],
   "source": [
    "print(\"Accuracy = \" + str(accuracy(predicted, expected)))"
   ]
  },
  {
   "cell_type": "markdown",
   "id": "82c287a2",
   "metadata": {},
   "source": [
    "<hr>"
   ]
  }
 ],
 "metadata": {
  "kernelspec": {
   "display_name": "Python 3",
   "language": "python",
   "name": "python3"
  },
  "language_info": {
   "codemirror_mode": {
    "name": "ipython",
    "version": 3
   },
   "file_extension": ".py",
   "mimetype": "text/x-python",
   "name": "python",
   "nbconvert_exporter": "python",
   "pygments_lexer": "ipython3",
   "version": "3.8.2"
  }
 },
 "nbformat": 4,
 "nbformat_minor": 5
}
