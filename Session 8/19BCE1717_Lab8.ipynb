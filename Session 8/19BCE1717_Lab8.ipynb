{
 "cells": [
  {
   "cell_type": "markdown",
   "id": "8f8e0c25",
   "metadata": {},
   "source": [
    "# Lab session 8: Perceptron (single layer) \n",
    "__Name: Makesh Srinivasan<br>\n",
    "Registration number: 19BCE1717<br>\n",
    "Course code: CSE4020<br>\n",
    "Faculty: Dr. Abdul Quadir<br>\n",
    "Slot: L31 + L32<br>\n",
    "Date: 4-October-2021 Monday__<br><br>\n",
    "    \n",
    "Instructions:<br>\n",
    "Build a single layer perceptron from scratch and test the model with the Iris dataset, and check the same using sklearn package"
   ]
  },
  {
   "cell_type": "markdown",
   "id": "84c79f33",
   "metadata": {},
   "source": [
    "## I) Single layer Perceptron (built from scratch)"
   ]
  },
  {
   "cell_type": "markdown",
   "id": "58e5a761",
   "metadata": {},
   "source": [
    "__1) Import Libraries__"
   ]
  },
  {
   "cell_type": "markdown",
   "id": "c83e8198",
   "metadata": {},
   "source": [
    "Import the libraries required for data processing and visualisation "
   ]
  },
  {
   "cell_type": "code",
   "execution_count": 1,
   "id": "812736bf",
   "metadata": {},
   "outputs": [],
   "source": [
    "import numpy as np\n",
    "import pandas as pd\n",
    "import matplotlib.pyplot as plt"
   ]
  },
  {
   "cell_type": "markdown",
   "id": "4ba11bf3",
   "metadata": {},
   "source": [
    "__2) Dataset__"
   ]
  },
  {
   "cell_type": "markdown",
   "id": "59886345",
   "metadata": {},
   "source": [
    "Load the Iris dataset using the URL 'https://archive.ics.uci.edu/ml/machine-learning-databases/iris/iris.data'. <br>\n",
    "The single layer perceptron is a binary classification algorithm; the Iris dataset consists of 3 classes each with fifty instances and thus, only the first 100 containing 2 classes of species will be used in this prediction model"
   ]
  },
  {
   "cell_type": "code",
   "execution_count": 2,
   "id": "ca16be56",
   "metadata": {},
   "outputs": [
    {
     "name": "stdout",
     "output_type": "stream",
     "text": [
      "Data loaded...\n"
     ]
    }
   ],
   "source": [
    "def load(URL_):\n",
    "    data = pd.read_csv(URL_, header = None)\n",
    "    data = data[:100]\n",
    "    # the first 100 rows contains 2 Iris species\n",
    "    data[4] = np.where(data.iloc[:, -1]=='Iris-setosa', 0, 1)\n",
    "    data = np.asmatrix(data, dtype = 'float64')\n",
    "    print(\"Data loaded...\")\n",
    "    return data\n",
    "data = load('https://archive.ics.uci.edu/ml/machine-learning-databases/iris/iris.data')"
   ]
  },
  {
   "cell_type": "markdown",
   "id": "65310332",
   "metadata": {},
   "source": [
    "__3) Visualisation__"
   ]
  },
  {
   "cell_type": "markdown",
   "id": "833d59e7",
   "metadata": {},
   "source": [
    "Display the plot between sepal length and petal length for the two classes of flowers"
   ]
  },
  {
   "cell_type": "code",
   "execution_count": 3,
   "id": "d0240166",
   "metadata": {},
   "outputs": [
    {
     "data": {
      "image/png": "[encoded data removed]",
      "text/plain": [
       "<Figure size 640x480 with 1 Axes>"
      ]
     },
     "metadata": {},
     "output_type": "display_data"
    }
   ],
   "source": [
    "plt.scatter(np.array(data[:50,0]), np.array(data[:50,2]), marker='o', label='setosa')\n",
    "plt.scatter(np.array(data[50:,0]), np.array(data[50:,2]), marker='x', label='versicolor')\n",
    "plt.xlabel('petal length')\n",
    "plt.ylabel('sepal length')\n",
    "plt.legend()\n",
    "plt.show()"
   ]
  },
  {
   "cell_type": "markdown",
   "id": "fffcfaff",
   "metadata": {},
   "source": [
    "__4) Build a function - single layer perceptron__"
   ]
  },
  {
   "cell_type": "code",
   "execution_count": 4,
   "id": "efe71c95",
   "metadata": {},
   "outputs": [],
   "source": [
    "def accuracy(p,y):\n",
    "    if(len(p)!=len(y)):\n",
    "        print(\"Number of X records and y targets are not equal!\")\n",
    "        return\n",
    "    crct=0\n",
    "    for i in range(len(y)):\n",
    "        if(y[i]==p[i]):\n",
    "            crct+=1\n",
    "    return crct/len(y)"
   ]
  },
  {
   "cell_type": "code",
   "execution_count": 5,
   "id": "b80f78fd",
   "metadata": {},
   "outputs": [],
   "source": [
    "def perceptron(data, num_iter):\n",
    "    misclassified_list = [] \n",
    "    correct_classified_list = []\n",
    "    features = data[:, :-1]\n",
    "    labels = data[:, -1]\n",
    "    w = np.zeros(shape=(1, features.shape[1]+1))\n",
    "    predicted = []\n",
    "  \n",
    "    for epoch in range(num_iter):\n",
    "        misclassified = 0\n",
    "        correct_classified = 0\n",
    "        predicted_epoch = []\n",
    "        for x, label in zip(features, labels):\n",
    "            x = np.insert(x,0,1)\n",
    "            y = np.dot(w, x.transpose())\n",
    "            if (y > 0):\n",
    "                target = 1.0 \n",
    "            else:\n",
    "                target = 0.0\n",
    "            \n",
    "            delta = (label.item(0,0) - target)\n",
    "            predicted_epoch.append(target)\n",
    "            if(delta):\n",
    "                misclassified += 1\n",
    "                w += (delta * x)\n",
    "            else:\n",
    "                correct_classified += 1\n",
    "        \n",
    "        misclassified_list.append(misclassified)\n",
    "        correct_classified_list.append(correct_classified)\n",
    "        predicted.append(predicted_epoch)\n",
    "        if misclassified == 0:\n",
    "            print(\"Epoch \" + str(epoch + 1) + \" Accuracy = \" + str(correct_classified/len(data)))\n",
    "            print(\"The maximum accuracy of 1.00 is reached at epoch \" + str(epoch+1) + \"! Terminating perceptron training and the next epochs...\")\n",
    "            return (w, misclassified_list, correct_classified_list, predicted, epoch+1)\n",
    "        else:\n",
    "            print(\"Epoch \" + str(epoch+1) + \" Accuracy = \" + str(correct_classified/len(data)))\n",
    "    return (w, misclassified_list, correct_classified_list, predicted, num_iter)"
   ]
  },
  {
   "cell_type": "markdown",
   "id": "e3ba6cfb",
   "metadata": {},
   "source": [
    "Call the function and store the values of the weigths, number of misclassified and correctly classified species for each epoch in an array"
   ]
  },
  {
   "cell_type": "code",
   "execution_count": 6,
   "id": "ad2e2908",
   "metadata": {},
   "outputs": [
    {
     "name": "stdout",
     "output_type": "stream",
     "text": [
      "Epoch 1 Accuracy = 0.99\n",
      "Epoch 2 Accuracy = 0.97\n",
      "Epoch 3 Accuracy = 0.99\n",
      "Epoch 4 Accuracy = 1.0\n",
      "The maximum accuracy of 1.00 is reached at epoch 4! Terminating perceptron training and the next epochs...\n"
     ]
    }
   ],
   "source": [
    "max_iterations = 10 # Set the maximum number of epochs to run = 10 to avoid infinite loop\n",
    "w, misclassified_list, correct_classified_list, prediction, iterations = perceptron(data, max_iterations)"
   ]
  },
  {
   "cell_type": "markdown",
   "id": "aada1d55",
   "metadata": {},
   "source": [
    "__5) Visualise the performace of the model at each epoch__"
   ]
  },
  {
   "cell_type": "code",
   "execution_count": 7,
   "id": "5b7e45a5",
   "metadata": {},
   "outputs": [
    {
     "data": {
      "image/png": "[encoded data removed]",
      "text/plain": [
       "<Figure size 640x480 with 1 Axes>"
      ]
     },
     "metadata": {},
     "output_type": "display_data"
    }
   ],
   "source": [
    "epochs = np.arange(1, iterations+1)\n",
    "plt.plot(epochs, misclassified_list)\n",
    "plt.xlabel('Epoch')\n",
    "plt.ylabel('Number of entries misclassified')\n",
    "plt.show()"
   ]
  },
  {
   "cell_type": "markdown",
   "id": "4fe2ab0a",
   "metadata": {},
   "source": [
    "The number of misclassified results initially increased and reached a maximum at the second epoch. By the 4th epoch, the model did not miscassify any species of flower and therefore the curve will be saturated and flat from this epoch. Hence, the training is stopped as this is the best model that was trained using this dataset so far"
   ]
  },
  {
   "cell_type": "markdown",
   "id": "6a1c847b",
   "metadata": {},
   "source": [
    "<br> \n",
    "The epoch wise correct classifications:"
   ]
  },
  {
   "cell_type": "code",
   "execution_count": 8,
   "id": "efea54b1",
   "metadata": {},
   "outputs": [
    {
     "name": "stdout",
     "output_type": "stream",
     "text": [
      "Epoch 1 -> number of correct predictions: 99\n",
      "Epoch 2 -> number of correct predictions: 97\n",
      "Epoch 3 -> number of correct predictions: 99\n",
      "Epoch 4 -> number of correct predictions: 100\n"
     ]
    }
   ],
   "source": [
    "for i in range(len(correct_classified_list)):\n",
    "    print(\"Epoch \" + str(i+1) + \" -> number of correct predictions: \" + str(correct_classified_list[i]))"
   ]
  },
  {
   "cell_type": "markdown",
   "id": "eaebf0b4",
   "metadata": {},
   "source": [
    "__6) The model weights - coefficients:__"
   ]
  },
  {
   "cell_type": "code",
   "execution_count": 9,
   "id": "a2622421",
   "metadata": {},
   "outputs": [
    {
     "name": "stdout",
     "output_type": "stream",
     "text": [
      "The weights are :\n",
      "Coefficient 0 = -1.0\n",
      "Coefficient 1 = -1.0999999999999996\n",
      "Coefficient 2 = -3.5999999999999996\n",
      "Coefficient 3 = 5.200000000000001\n",
      "Coefficient 4 = 2.1999999999999997\n"
     ]
    }
   ],
   "source": [
    "print(\"The weights are :\")\n",
    "for i in range(len(w[0])):\n",
    "    print(\"Coefficient \" + str(i) + \" = \" + str(w[0][i]))"
   ]
  },
  {
   "cell_type": "markdown",
   "id": "acc19857",
   "metadata": {},
   "source": [
    "__7) Performace__"
   ]
  },
  {
   "cell_type": "markdown",
   "id": "9d291742",
   "metadata": {},
   "source": [
    "Using a confusion matrix show the performance of the results of the best epochs - from 3"
   ]
  },
  {
   "cell_type": "code",
   "execution_count": 10,
   "id": "55d7ac4b",
   "metadata": {},
   "outputs": [],
   "source": [
    "expected_d = data[:, -1]\n",
    "expected = []\n",
    "for i in range(len(expected_d)):\n",
    "    expected.append(int(expected_d[i]))"
   ]
  },
  {
   "cell_type": "code",
   "execution_count": 11,
   "id": "566fc59a",
   "metadata": {},
   "outputs": [],
   "source": [
    "def manual_confusion_matrix(predicted, actual):\n",
    "    tt = 0 #11\n",
    "    ff = 0 #00\n",
    "    tf = 0 #10\n",
    "    ft = 0 #01\n",
    "    for i in range(len(predicted)):\n",
    "        if predicted[i] == actual[i]:\n",
    "            if predicted[i] == 0:\n",
    "                ff+=1\n",
    "            else:\n",
    "                tt+=1\n",
    "        else:\n",
    "            if predicted[i] == 0:\n",
    "                tf+=1\n",
    "            else:\n",
    "                ft+=1\n",
    "    return (tt, tf, ft, ff)"
   ]
  },
  {
   "cell_type": "markdown",
   "id": "4fcdf02d",
   "metadata": {},
   "source": [
    "Confusion matrix (epoch wise): "
   ]
  },
  {
   "cell_type": "code",
   "execution_count": 12,
   "id": "c5ae574f",
   "metadata": {},
   "outputs": [
    {
     "name": "stdout",
     "output_type": "stream",
     "text": [
      "Epoch 1) Confusion matrix:\n",
      "[[50, 0], [1, 49]]\n",
      "True-True: 49\n",
      "True-False: 1\n",
      "False-True: 0\n",
      "False-False: 50\n",
      "\n",
      "\n",
      "Epoch 2) Confusion matrix:\n",
      "[[48, 2], [1, 49]]\n",
      "True-True: 49\n",
      "True-False: 1\n",
      "False-True: 2\n",
      "False-False: 48\n",
      "\n",
      "\n",
      "Epoch 3) Confusion matrix:\n",
      "[[49, 1], [0, 50]]\n",
      "True-True: 50\n",
      "True-False: 0\n",
      "False-True: 1\n",
      "False-False: 49\n",
      "\n",
      "\n",
      "Epoch 4) Confusion matrix:\n",
      "[[50, 0], [0, 50]]\n",
      "True-True: 50\n",
      "True-False: 0\n",
      "False-True: 0\n",
      "False-False: 50\n",
      "\n",
      "\n"
     ]
    },
    {
     "data": {
      "image/png": "[encoded data removed]",
      "text/plain": [
       "<Figure size 432x288 with 2 Axes>"
      ]
     },
     "metadata": {
      "needs_background": "light"
     },
     "output_type": "display_data"
    },
    {
     "data": {
      "image/png": "[encoded data removed]",
      "text/plain": [
       "<Figure size 432x288 with 2 Axes>"
      ]
     },
     "metadata": {
      "needs_background": "light"
     },
     "output_type": "display_data"
    },
    {
     "data": {
      "image/png": "[encoded data removed]",
      "text/plain": [
       "<Figure size 432x288 with 2 Axes>"
      ]
     },
     "metadata": {
      "needs_background": "light"
     },
     "output_type": "display_data"
    },
    {
     "data": {
      "image/png": "[encoded data removed]",
      "text/plain": [
       "<Figure size 432x288 with 2 Axes>"
      ]
     },
     "metadata": {
      "needs_background": "light"
     },
     "output_type": "display_data"
    }
   ],
   "source": [
    "import seaborn as sb\n",
    "%matplotlib inline\n",
    "for i in range(iterations):\n",
    "    epoch_wise_predicted = prediction[i]\n",
    "    tt,tf,ft,ff = manual_confusion_matrix(list(epoch_wise_predicted), list(expected))\n",
    "    matrix = [[ff,ft],[tf,tt]]\n",
    "    print(\"Epoch \" + str(i + 1) + \") Confusion matrix:\")\n",
    "    print(matrix, end=\"\\n\")\n",
    "    print(\"True-True: \" + str(tt))\n",
    "    print(\"True-False: \" + str(tf))\n",
    "    print(\"False-True: \" + str(ft))\n",
    "    print(\"False-False: \" + str(ff))\n",
    "    \n",
    "    class_names=[\"Iris-setosa\",\"Iris-versicolor\"] # name  of classes\n",
    "    fig, ax = plt.subplots()\n",
    "    tick_marks = np.arange(len(class_names))\n",
    "    plt.xticks(tick_marks, class_names)\n",
    "    plt.yticks(tick_marks, class_names)\n",
    "    \n",
    "    # create heatmap\n",
    "    sb.heatmap(pd.DataFrame(np.array(matrix)), annot=True, cmap=\"YlGnBu\" ,fmt='g')\n",
    "    ax.xaxis.set_label_position(\"top\")\n",
    "    plt.tight_layout()\n",
    "    plt.title('Confusion matrix', y=1.1)\n",
    "    plt.ylabel('Actual label')\n",
    "    plt.xlabel('Predicted label')\n",
    "    print(\"\\n\")"
   ]
  },
  {
   "cell_type": "markdown",
   "id": "0e72339c",
   "metadata": {},
   "source": [
    "Accuracy:"
   ]
  },
  {
   "cell_type": "code",
   "execution_count": 13,
   "id": "5ed975cd",
   "metadata": {},
   "outputs": [
    {
     "name": "stdout",
     "output_type": "stream",
     "text": [
      "Epoch 1    Accuracy = 0.99\n",
      "Epoch 2    Accuracy = 0.97\n",
      "Epoch 3    Accuracy = 0.99\n",
      "Epoch 4    Accuracy = 1.0\n"
     ]
    }
   ],
   "source": [
    "for i in range(iterations):\n",
    "    predicted = prediction[i]\n",
    "    print(\"Epoch \" + str(i+1)+ \"    Accuracy = \" + str(accuracy(predicted, expected)))"
   ]
  },
  {
   "cell_type": "markdown",
   "id": "715903d4",
   "metadata": {},
   "source": [
    "<hr>"
   ]
  },
  {
   "cell_type": "markdown",
   "id": "c0c4322d",
   "metadata": {},
   "source": [
    "## II) Perceptron using sklearn"
   ]
  },
  {
   "cell_type": "markdown",
   "id": "0da685f6",
   "metadata": {},
   "source": [
    "__1) Libraries__"
   ]
  },
  {
   "cell_type": "code",
   "execution_count": 41,
   "id": "ffdc70eb",
   "metadata": {},
   "outputs": [],
   "source": [
    "from sklearn.linear_model import Perceptron"
   ]
  },
  {
   "cell_type": "markdown",
   "id": "7fcc7aaf",
   "metadata": {},
   "source": [
    "__2) Training the model__"
   ]
  },
  {
   "cell_type": "code",
   "execution_count": 42,
   "id": "842e9949",
   "metadata": {},
   "outputs": [
    {
     "data": {
      "text/plain": [
       "Perceptron(random_state=1)"
      ]
     },
     "execution_count": 42,
     "metadata": {},
     "output_type": "execute_result"
    }
   ],
   "source": [
    "X = data[:, :-1]\n",
    "y = data[:, -1]\n",
    "y = np.ravel(y)\n",
    "model = Perceptron(random_state=1)\n",
    "model.fit(X, y)"
   ]
  },
  {
   "cell_type": "markdown",
   "id": "956c3ffc",
   "metadata": {},
   "source": [
    "__3) Prediction__"
   ]
  },
  {
   "cell_type": "code",
   "execution_count": 43,
   "id": "fedbbedb",
   "metadata": {},
   "outputs": [],
   "source": [
    "predicted = model.predict(X)"
   ]
  },
  {
   "cell_type": "markdown",
   "id": "1d07eaea",
   "metadata": {},
   "source": [
    "__4) Performance__"
   ]
  },
  {
   "cell_type": "code",
   "execution_count": 44,
   "id": "238c7c90",
   "metadata": {},
   "outputs": [
    {
     "name": "stdout",
     "output_type": "stream",
     "text": [
      "[[50  0]\n",
      " [ 0 50]]\n"
     ]
    }
   ],
   "source": [
    "from sklearn.metrics import confusion_matrix\n",
    "results = confusion_matrix(y, predicted)\n",
    "expected = []\n",
    "for i in range(len(y)):\n",
    "    expected.append(int(y[i]))\n",
    "print(results)"
   ]
  },
  {
   "cell_type": "code",
   "execution_count": 45,
   "id": "0e10f545",
   "metadata": {},
   "outputs": [
    {
     "name": "stdout",
     "output_type": "stream",
     "text": [
      "Accuracy = 1.0\n"
     ]
    }
   ],
   "source": [
    "print(\"Accuracy = \" + str(accuracy(predicted, expected)))"
   ]
  },
  {
   "cell_type": "markdown",
   "id": "82c287a2",
   "metadata": {},
   "source": [
    "<hr>"
   ]
  },
  {
   "cell_type": "markdown",
   "id": "fd51ef52",
   "metadata": {},
   "source": [
    "## Conclusion"
   ]
  },
  {
   "cell_type": "markdown",
   "id": "b5e6706c",
   "metadata": {},
   "source": [
    "The confusion matrix correctly predicted the true positives and false negatives as shown in the confusion matrix of sklearn perceptron and the single layer perceptron that I built. The predictions were correct in case of the self-built perceptron as it is shown to be the same as the predictions made using the sklearn perceptron. The accuracy of 1.00 (maximum accuracy) is reached in both cases."
   ]
  },
  {
   "cell_type": "markdown",
   "id": "2c857666",
   "metadata": {},
   "source": [
    "<hr>"
   ]
  }
 ],
 "metadata": {
  "kernelspec": {
   "display_name": "Python 3",
   "language": "python",
   "name": "python3"
  },
  "language_info": {
   "codemirror_mode": {
    "name": "ipython",
    "version": 3
   },
   "file_extension": ".py",
   "mimetype": "text/x-python",
   "name": "python",
   "nbconvert_exporter": "python",
   "pygments_lexer": "ipython3",
   "version": "3.8.12"
  }
 },
 "nbformat": 4,
 "nbformat_minor": 5
}
