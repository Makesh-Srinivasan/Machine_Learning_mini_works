{
 "cells": [
  {
   "cell_type": "markdown",
   "id": "deaea9e7",
   "metadata": {},
   "source": [
    "# Lab session 7: Regression and decision tree test \n",
    "__Name: Chandhru K<br>\n",
    "Registration number: 19BCE1449<br>\n",
    "Course code: CSE4020<br>\n",
    "Faculty: Dr. Abdul Quadir<br>\n",
    "Slot: L31 + L32<br>\n",
    "Date: 27-September-2021 Monday__<br><br>"
   ]
  },
  {
   "cell_type": "markdown",
   "id": "d57fa867",
   "metadata": {},
   "source": [
    "## ML Algorithms from scratch"
   ]
  },
  {
   "cell_type": "code",
   "execution_count": 1,
   "id": "8c953cb4",
   "metadata": {},
   "outputs": [],
   "source": [
    "import numpy as np\n",
    "import pandas as pd"
   ]
  },
  {
   "cell_type": "code",
   "execution_count": 2,
   "id": "dbd694e1",
   "metadata": {},
   "outputs": [],
   "source": [
    "import math\n",
    "import operator\n",
    "import matplotlib.pyplot as plt\n",
    "import seaborn as sns\n",
    "%matplotlib inline"
   ]
  },
  {
   "cell_type": "markdown",
   "id": "6ccf8100",
   "metadata": {},
   "source": [
    "## Simple Linear Regression of the form y=mx+c"
   ]
  },
  {
   "cell_type": "markdown",
   "id": "303b0b3c",
   "metadata": {},
   "source": [
    "__Dataset__"
   ]
  },
  {
   "cell_type": "code",
   "execution_count": 3,
   "id": "3926d6e2",
   "metadata": {},
   "outputs": [],
   "source": [
    "X=np.array([i for i in range(0,500,5)])\n",
    "Y=np.array([2*i+2 for i in X])\n",
    "noise = np.random.normal(5, 100, Y.shape)\n",
    "Noisy_Y=Y+noise"
   ]
  },
  {
   "cell_type": "code",
   "execution_count": 4,
   "id": "e722f260",
   "metadata": {},
   "outputs": [
    {
     "data": {
      "image/png": "[encoded data removed]",
      "text/plain": [
       "<Figure size 432x288 with 1 Axes>"
      ]
     },
     "metadata": {
      "needs_background": "light"
     },
     "output_type": "display_data"
    }
   ],
   "source": [
    "plt.scatter(X,Noisy_Y)\n",
    "plt.show()"
   ]
  },
  {
   "cell_type": "code",
   "execution_count": 5,
   "id": "81d3406a",
   "metadata": {},
   "outputs": [],
   "source": [
    "Y=Noisy_Y"
   ]
  },
  {
   "cell_type": "markdown",
   "id": "36b44760",
   "metadata": {},
   "source": [
    "The x values were generated by taking values from 0 to 500, and the y values were generated using the linear function y = 2x+2 and noise were added"
   ]
  },
  {
   "cell_type": "code",
   "execution_count": 6,
   "id": "d90c379c",
   "metadata": {},
   "outputs": [],
   "source": [
    "mean_x = np.mean(X)\n",
    "mean_y = np.mean(Y)"
   ]
  },
  {
   "cell_type": "markdown",
   "id": "35496deb",
   "metadata": {},
   "source": [
    "__Regression coefficients__"
   ]
  },
  {
   "cell_type": "code",
   "execution_count": 7,
   "id": "d0514010",
   "metadata": {},
   "outputs": [
    {
     "name": "stdout",
     "output_type": "stream",
     "text": [
      "m = 1.9304627935562344 \n",
      "c = 24.69964735559546\n"
     ]
    }
   ],
   "source": [
    "m = len(X)\n",
    "numer = 0\n",
    "denom = 0\n",
    "for i in range(m):\n",
    "  numer += (X[i] - mean_x) * (Y[i] - mean_y)\n",
    "  denom += (X[i] - mean_x) ** 2\n",
    "m = numer / denom\n",
    "c = mean_y - (m * mean_x)\n",
    "\n",
    "print (f'm = {m} \\nc = {c}')"
   ]
  },
  {
   "cell_type": "markdown",
   "id": "d32bc7eb",
   "metadata": {},
   "source": [
    "__Visualisation__"
   ]
  },
  {
   "cell_type": "code",
   "execution_count": 8,
   "id": "8d331bff",
   "metadata": {},
   "outputs": [
    {
     "data": {
      "image/png": "[encoded data removed]",
      "text/plain": [
       "<Figure size 432x288 with 1 Axes>"
      ]
     },
     "metadata": {
      "needs_background": "light"
     },
     "output_type": "display_data"
    }
   ],
   "source": [
    "max_x, min_x = np.max(X) + 100,np.min(Y) - 100\n",
    "x = np.linspace (min_x, max_x, 100)\n",
    "y = c + m * x\n",
    "plt.plot(x, y,c=\"red\",label='Regression Line')\n",
    "plt.scatter(X, Y, label='data points')\n",
    "plt.xlabel('X values')\n",
    "plt.ylabel('Y values')\n",
    "plt.legend()\n",
    "plt.show()"
   ]
  },
  {
   "cell_type": "markdown",
   "id": "62ada882",
   "metadata": {},
   "source": [
    "__R squared value__"
   ]
  },
  {
   "cell_type": "code",
   "execution_count": 9,
   "id": "7ac37e11",
   "metadata": {},
   "outputs": [
    {
     "name": "stdout",
     "output_type": "stream",
     "text": [
      "R2 Score:\n",
      "0.8784820611690403\n"
     ]
    }
   ],
   "source": [
    "ss_t = 0\n",
    "ss_r = 0\n",
    "for i in range(int(len(X))):\n",
    "  y_pred = c + m * X[i]\n",
    "  ss_t += (Y[i] - mean_y) ** 2\n",
    "  ss_r += (Y[i] - y_pred) ** 2\n",
    "r2 = 1 - (ss_r/ss_t)\n",
    "print(\"R2 Score:\")\n",
    "print(r2)"
   ]
  },
  {
   "cell_type": "markdown",
   "id": "a9d8027f",
   "metadata": {},
   "source": [
    "<hr>"
   ]
  },
  {
   "cell_type": "markdown",
   "id": "6139e12e",
   "metadata": {},
   "source": [
    "## Multiple Linear Regression"
   ]
  },
  {
   "cell_type": "markdown",
   "id": "6e6669eb",
   "metadata": {},
   "source": [
    "__Dataset__"
   ]
  },
  {
   "cell_type": "code",
   "execution_count": 10,
   "id": "8d026479",
   "metadata": {},
   "outputs": [],
   "source": [
    "#Let's make a sample 3 feature dataset\n",
    "#Let the relationship be y=w0 + w1x1 + w2x2 + w3x3\n",
    "x = [[1,1,0],[0,2,0],[1,0,3],[1,4,0]]\n",
    "y = [3, 6, 9, 12]"
   ]
  },
  {
   "cell_type": "code",
   "execution_count": 11,
   "id": "6c25ddbd",
   "metadata": {},
   "outputs": [
    {
     "name": "stdout",
     "output_type": "stream",
     "text": [
      "Heat Map\n"
     ]
    },
    {
     "data": {
      "image/png": "[encoded data removed]",
      "text/plain": [
       "<Figure size 432x288 with 2 Axes>"
      ]
     },
     "metadata": {
      "needs_background": "light"
     },
     "output_type": "display_data"
    }
   ],
   "source": [
    "z=[x[i]+[y[i]] for i in range(len(x))]\n",
    "z=pd.DataFrame(z)\n",
    "corr = z.corr()\n",
    "print(\"Heat Map\")\n",
    "ax = sns.heatmap(\n",
    "    corr,\n",
    "    vmin=-1, vmax=1, center=0,\n",
    "    cmap=sns.diverging_palette(20, 220, n=200),\n",
    "    square=True)\n",
    "ax.set_xticklabels(ax.get_xticklabels(),rotation=45,horizontalalignment='right');"
   ]
  },
  {
   "cell_type": "markdown",
   "id": "e0432872",
   "metadata": {},
   "source": [
    "### Normal Equation method to build the model:"
   ]
  },
  {
   "cell_type": "markdown",
   "id": "0234a3a4",
   "metadata": {},
   "source": [
    "#### Lets build one of the form y=w0 + w1x1 + w2x2 + w3x3"
   ]
  },
  {
   "cell_type": "code",
   "execution_count": 12,
   "id": "8cc49baf",
   "metadata": {},
   "outputs": [],
   "source": [
    "class MultipleLinearRegression:\n",
    "    def __init__(self):pass\n",
    "    def __compute(self, x, y):self.__thetas = np.dot(np.dot(np.linalg.inv(np.dot(x.T,x)),x.T),y)\n",
    "    def fit(self, x, y):self.__compute(np.c_[np.ones(np.array(x).shape[0]),np.array(x)],np.array(y))\n",
    "    @property\n",
    "    def coef_(self):return self.__thetas[0]\n",
    "    @property\n",
    "    def intercept_(self):return self.__thetas[1:]\n",
    "    def predict(self, x): return np.dot(np.c_[np.ones(np.array(x).shape[0]),np.array(x)],self.__thetas)      "
   ]
  },
  {
   "cell_type": "markdown",
   "id": "2fe84d77",
   "metadata": {},
   "source": [
    "__Coefficients__"
   ]
  },
  {
   "cell_type": "code",
   "execution_count": 13,
   "id": "e57a6b85",
   "metadata": {},
   "outputs": [
    {
     "name": "stdout",
     "output_type": "stream",
     "text": [
      "Coefficients:\n",
      "-8.881784197001252e-15 [8.8817842e-15 3.0000000e+00 3.0000000e+00]\n",
      "Predicted values: [ 3.  6.  9. 12.]\n",
      "Actual Values: [3, 6, 9, 12]\n"
     ]
    }
   ],
   "source": [
    "model = MultipleLinearRegression()\n",
    "model.fit(x,y)\n",
    "print(\"Coefficients:\")\n",
    "print(model.coef_,model.intercept_)\n",
    "print(\"Predicted values:\",model.predict(x))\n",
    "print(\"Actual Values:\",y)"
   ]
  },
  {
   "cell_type": "markdown",
   "id": "df0231e0",
   "metadata": {},
   "source": [
    "__Mean squared error__"
   ]
  },
  {
   "cell_type": "code",
   "execution_count": 14,
   "id": "bb8357f2",
   "metadata": {},
   "outputs": [
    {
     "name": "stdout",
     "output_type": "stream",
     "text": [
      "Error:\n",
      " 2.9434372526059003e-29\n"
     ]
    }
   ],
   "source": [
    "#MSE for this sample\n",
    "print(\"Error:\\n\",np.square(np.subtract(model.predict(x),y)).mean())"
   ]
  },
  {
   "cell_type": "markdown",
   "id": "e194214e",
   "metadata": {},
   "source": [
    "<hr>"
   ]
  },
  {
   "cell_type": "markdown",
   "id": "d0606478",
   "metadata": {},
   "source": [
    "## Decision Tree"
   ]
  },
  {
   "cell_type": "markdown",
   "id": "b7d44dad",
   "metadata": {},
   "source": [
    "__Entropy and information gain functions__"
   ]
  },
  {
   "cell_type": "code",
   "execution_count": 15,
   "id": "eb35ba15",
   "metadata": {},
   "outputs": [],
   "source": [
    "def entropy_finder(df_label):\n",
    "    val_class,c_count = np.unique(df_label,return_counts = True)\n",
    "    entropy_value = np.sum([(-c_count[i]/np.sum(c_count))*np.log2(c_count[i]/np.sum(c_count)) for i in range(len(val_class))])\n",
    "    return entropy_value"
   ]
  },
  {
   "cell_type": "code",
   "execution_count": 16,
   "id": "5cac659f",
   "metadata": {},
   "outputs": [],
   "source": [
    "def information_gain(dataset,feature,label): \n",
    "    dataset_entropy = entropy_finder(dataset[label])   \n",
    "    values,feat_counts= np.unique(dataset[feature],return_counts=True)\n",
    "    weighted_feature_entropy = np.sum([(feat_counts[i]/np.sum(feat_counts))*entropy_finder(dataset.where(dataset[feature]==values[i]).dropna()[label]) for i in range(len(values))])    \n",
    "    feature_info_gain = dataset_entropy - weighted_feature_entropy\n",
    "    return feature_info_gain"
   ]
  },
  {
   "cell_type": "markdown",
   "id": "75d8eeae",
   "metadata": {},
   "source": [
    "__Dataset__"
   ]
  },
  {
   "cell_type": "code",
   "execution_count": 17,
   "id": "32fa65e5",
   "metadata": {},
   "outputs": [
    {
     "data": {
      "text/html": [
       "<div>\n",
       "<style scoped>\n",
       "    .dataframe tbody tr th:only-of-type {\n",
       "        vertical-align: middle;\n",
       "    }\n",
       "\n",
       "    .dataframe tbody tr th {\n",
       "        vertical-align: top;\n",
       "    }\n",
       "\n",
       "    .dataframe thead th {\n",
       "        text-align: right;\n",
       "    }\n",
       "</style>\n",
       "<table border=\"1\" class=\"dataframe\">\n",
       "  <thead>\n",
       "    <tr style=\"text-align: right;\">\n",
       "      <th></th>\n",
       "      <th>age</th>\n",
       "      <th>sex</th>\n",
       "      <th>cp</th>\n",
       "      <th>trestbps</th>\n",
       "      <th>chol</th>\n",
       "      <th>fbs</th>\n",
       "      <th>restecg</th>\n",
       "      <th>thalach</th>\n",
       "      <th>exang</th>\n",
       "      <th>oldpeak</th>\n",
       "      <th>slope</th>\n",
       "      <th>ca</th>\n",
       "      <th>thal</th>\n",
       "      <th>target</th>\n",
       "    </tr>\n",
       "  </thead>\n",
       "  <tbody>\n",
       "    <tr>\n",
       "      <th>160</th>\n",
       "      <td>56</td>\n",
       "      <td>1</td>\n",
       "      <td>1</td>\n",
       "      <td>120</td>\n",
       "      <td>240</td>\n",
       "      <td>0</td>\n",
       "      <td>1</td>\n",
       "      <td>169</td>\n",
       "      <td>0</td>\n",
       "      <td>0.0</td>\n",
       "      <td>0</td>\n",
       "      <td>0</td>\n",
       "      <td>2</td>\n",
       "      <td>1</td>\n",
       "    </tr>\n",
       "    <tr>\n",
       "      <th>161</th>\n",
       "      <td>55</td>\n",
       "      <td>0</td>\n",
       "      <td>1</td>\n",
       "      <td>132</td>\n",
       "      <td>342</td>\n",
       "      <td>0</td>\n",
       "      <td>1</td>\n",
       "      <td>166</td>\n",
       "      <td>0</td>\n",
       "      <td>1.2</td>\n",
       "      <td>2</td>\n",
       "      <td>0</td>\n",
       "      <td>2</td>\n",
       "      <td>1</td>\n",
       "    </tr>\n",
       "    <tr>\n",
       "      <th>162</th>\n",
       "      <td>41</td>\n",
       "      <td>1</td>\n",
       "      <td>1</td>\n",
       "      <td>120</td>\n",
       "      <td>157</td>\n",
       "      <td>0</td>\n",
       "      <td>1</td>\n",
       "      <td>182</td>\n",
       "      <td>0</td>\n",
       "      <td>0.0</td>\n",
       "      <td>2</td>\n",
       "      <td>0</td>\n",
       "      <td>2</td>\n",
       "      <td>1</td>\n",
       "    </tr>\n",
       "    <tr>\n",
       "      <th>163</th>\n",
       "      <td>38</td>\n",
       "      <td>1</td>\n",
       "      <td>2</td>\n",
       "      <td>138</td>\n",
       "      <td>175</td>\n",
       "      <td>0</td>\n",
       "      <td>1</td>\n",
       "      <td>173</td>\n",
       "      <td>0</td>\n",
       "      <td>0.0</td>\n",
       "      <td>2</td>\n",
       "      <td>4</td>\n",
       "      <td>2</td>\n",
       "      <td>1</td>\n",
       "    </tr>\n",
       "    <tr>\n",
       "      <th>164</th>\n",
       "      <td>38</td>\n",
       "      <td>1</td>\n",
       "      <td>2</td>\n",
       "      <td>138</td>\n",
       "      <td>175</td>\n",
       "      <td>0</td>\n",
       "      <td>1</td>\n",
       "      <td>173</td>\n",
       "      <td>0</td>\n",
       "      <td>0.0</td>\n",
       "      <td>2</td>\n",
       "      <td>4</td>\n",
       "      <td>2</td>\n",
       "      <td>1</td>\n",
       "    </tr>\n",
       "    <tr>\n",
       "      <th>165</th>\n",
       "      <td>67</td>\n",
       "      <td>1</td>\n",
       "      <td>0</td>\n",
       "      <td>160</td>\n",
       "      <td>286</td>\n",
       "      <td>0</td>\n",
       "      <td>0</td>\n",
       "      <td>108</td>\n",
       "      <td>1</td>\n",
       "      <td>1.5</td>\n",
       "      <td>1</td>\n",
       "      <td>3</td>\n",
       "      <td>2</td>\n",
       "      <td>0</td>\n",
       "    </tr>\n",
       "    <tr>\n",
       "      <th>166</th>\n",
       "      <td>67</td>\n",
       "      <td>1</td>\n",
       "      <td>0</td>\n",
       "      <td>120</td>\n",
       "      <td>229</td>\n",
       "      <td>0</td>\n",
       "      <td>0</td>\n",
       "      <td>129</td>\n",
       "      <td>1</td>\n",
       "      <td>2.6</td>\n",
       "      <td>1</td>\n",
       "      <td>2</td>\n",
       "      <td>3</td>\n",
       "      <td>0</td>\n",
       "    </tr>\n",
       "    <tr>\n",
       "      <th>167</th>\n",
       "      <td>62</td>\n",
       "      <td>0</td>\n",
       "      <td>0</td>\n",
       "      <td>140</td>\n",
       "      <td>268</td>\n",
       "      <td>0</td>\n",
       "      <td>0</td>\n",
       "      <td>160</td>\n",
       "      <td>0</td>\n",
       "      <td>3.6</td>\n",
       "      <td>0</td>\n",
       "      <td>2</td>\n",
       "      <td>2</td>\n",
       "      <td>0</td>\n",
       "    </tr>\n",
       "    <tr>\n",
       "      <th>168</th>\n",
       "      <td>63</td>\n",
       "      <td>1</td>\n",
       "      <td>0</td>\n",
       "      <td>130</td>\n",
       "      <td>254</td>\n",
       "      <td>0</td>\n",
       "      <td>0</td>\n",
       "      <td>147</td>\n",
       "      <td>0</td>\n",
       "      <td>1.4</td>\n",
       "      <td>1</td>\n",
       "      <td>1</td>\n",
       "      <td>3</td>\n",
       "      <td>0</td>\n",
       "    </tr>\n",
       "    <tr>\n",
       "      <th>169</th>\n",
       "      <td>53</td>\n",
       "      <td>1</td>\n",
       "      <td>0</td>\n",
       "      <td>140</td>\n",
       "      <td>203</td>\n",
       "      <td>1</td>\n",
       "      <td>0</td>\n",
       "      <td>155</td>\n",
       "      <td>1</td>\n",
       "      <td>3.1</td>\n",
       "      <td>0</td>\n",
       "      <td>0</td>\n",
       "      <td>3</td>\n",
       "      <td>0</td>\n",
       "    </tr>\n",
       "  </tbody>\n",
       "</table>\n",
       "</div>"
      ],
      "text/plain": [
       "     age  sex  cp  trestbps  chol  fbs  restecg  thalach  exang  oldpeak  \\\n",
       "160   56    1   1       120   240    0        1      169      0      0.0   \n",
       "161   55    0   1       132   342    0        1      166      0      1.2   \n",
       "162   41    1   1       120   157    0        1      182      0      0.0   \n",
       "163   38    1   2       138   175    0        1      173      0      0.0   \n",
       "164   38    1   2       138   175    0        1      173      0      0.0   \n",
       "165   67    1   0       160   286    0        0      108      1      1.5   \n",
       "166   67    1   0       120   229    0        0      129      1      2.6   \n",
       "167   62    0   0       140   268    0        0      160      0      3.6   \n",
       "168   63    1   0       130   254    0        0      147      0      1.4   \n",
       "169   53    1   0       140   203    1        0      155      1      3.1   \n",
       "\n",
       "     slope  ca  thal  target  \n",
       "160      0   0     2       1  \n",
       "161      2   0     2       1  \n",
       "162      2   0     2       1  \n",
       "163      2   4     2       1  \n",
       "164      2   4     2       1  \n",
       "165      1   3     2       0  \n",
       "166      1   2     3       0  \n",
       "167      0   2     2       0  \n",
       "168      1   1     3       0  \n",
       "169      0   0     3       0  "
      ]
     },
     "execution_count": 17,
     "metadata": {},
     "output_type": "execute_result"
    }
   ],
   "source": [
    "df = pd.read_csv('heart.csv')\n",
    "df[160:170]"
   ]
  },
  {
   "cell_type": "markdown",
   "id": "9e328925",
   "metadata": {},
   "source": [
    "#### Let's slice out a sample on which we perform the Entropy and information gain calculations for root node of the decision tree"
   ]
  },
  {
   "cell_type": "code",
   "execution_count": 18,
   "id": "eff0acf7",
   "metadata": {},
   "outputs": [],
   "source": [
    "df1=df[['age','chol','target']]"
   ]
  },
  {
   "cell_type": "code",
   "execution_count": 19,
   "id": "4957f095",
   "metadata": {},
   "outputs": [],
   "source": [
    "df1=df1[160:170]"
   ]
  },
  {
   "cell_type": "code",
   "execution_count": 20,
   "id": "baf8d715",
   "metadata": {},
   "outputs": [
    {
     "data": {
      "text/html": [
       "<div>\n",
       "<style scoped>\n",
       "    .dataframe tbody tr th:only-of-type {\n",
       "        vertical-align: middle;\n",
       "    }\n",
       "\n",
       "    .dataframe tbody tr th {\n",
       "        vertical-align: top;\n",
       "    }\n",
       "\n",
       "    .dataframe thead th {\n",
       "        text-align: right;\n",
       "    }\n",
       "</style>\n",
       "<table border=\"1\" class=\"dataframe\">\n",
       "  <thead>\n",
       "    <tr style=\"text-align: right;\">\n",
       "      <th></th>\n",
       "      <th>age</th>\n",
       "      <th>chol</th>\n",
       "      <th>target</th>\n",
       "    </tr>\n",
       "  </thead>\n",
       "  <tbody>\n",
       "    <tr>\n",
       "      <th>160</th>\n",
       "      <td>56</td>\n",
       "      <td>240</td>\n",
       "      <td>1</td>\n",
       "    </tr>\n",
       "    <tr>\n",
       "      <th>161</th>\n",
       "      <td>55</td>\n",
       "      <td>342</td>\n",
       "      <td>1</td>\n",
       "    </tr>\n",
       "    <tr>\n",
       "      <th>162</th>\n",
       "      <td>41</td>\n",
       "      <td>157</td>\n",
       "      <td>1</td>\n",
       "    </tr>\n",
       "    <tr>\n",
       "      <th>163</th>\n",
       "      <td>38</td>\n",
       "      <td>175</td>\n",
       "      <td>1</td>\n",
       "    </tr>\n",
       "    <tr>\n",
       "      <th>164</th>\n",
       "      <td>38</td>\n",
       "      <td>175</td>\n",
       "      <td>1</td>\n",
       "    </tr>\n",
       "    <tr>\n",
       "      <th>165</th>\n",
       "      <td>67</td>\n",
       "      <td>286</td>\n",
       "      <td>0</td>\n",
       "    </tr>\n",
       "    <tr>\n",
       "      <th>166</th>\n",
       "      <td>67</td>\n",
       "      <td>229</td>\n",
       "      <td>0</td>\n",
       "    </tr>\n",
       "    <tr>\n",
       "      <th>167</th>\n",
       "      <td>62</td>\n",
       "      <td>268</td>\n",
       "      <td>0</td>\n",
       "    </tr>\n",
       "    <tr>\n",
       "      <th>168</th>\n",
       "      <td>63</td>\n",
       "      <td>254</td>\n",
       "      <td>0</td>\n",
       "    </tr>\n",
       "    <tr>\n",
       "      <th>169</th>\n",
       "      <td>53</td>\n",
       "      <td>203</td>\n",
       "      <td>0</td>\n",
       "    </tr>\n",
       "  </tbody>\n",
       "</table>\n",
       "</div>"
      ],
      "text/plain": [
       "     age  chol  target\n",
       "160   56   240       1\n",
       "161   55   342       1\n",
       "162   41   157       1\n",
       "163   38   175       1\n",
       "164   38   175       1\n",
       "165   67   286       0\n",
       "166   67   229       0\n",
       "167   62   268       0\n",
       "168   63   254       0\n",
       "169   53   203       0"
      ]
     },
     "execution_count": 20,
     "metadata": {},
     "output_type": "execute_result"
    }
   ],
   "source": [
    "df1"
   ]
  },
  {
   "cell_type": "code",
   "execution_count": 21,
   "id": "54c4ca3c",
   "metadata": {},
   "outputs": [
    {
     "data": {
      "text/plain": [
       "Index(['age', 'chol'], dtype='object')"
      ]
     },
     "execution_count": 21,
     "metadata": {},
     "output_type": "execute_result"
    }
   ],
   "source": [
    "features = df1.columns[:-1]\n",
    "label = 'target'\n",
    "parent=None\n",
    "features"
   ]
  },
  {
   "cell_type": "markdown",
   "id": "9b3d2d41",
   "metadata": {},
   "source": [
    "### Making the tree's parent node"
   ]
  },
  {
   "cell_type": "code",
   "execution_count": 22,
   "id": "59e495e3",
   "metadata": {},
   "outputs": [],
   "source": [
    "def tree(dataset,df,features,label,parent):\n",
    "    datum= np.unique(df[label],return_counts=True)\n",
    "    unique_data = np.unique(dataset[label])\n",
    "    if len(unique_data)<=1:return unique_data[0]\n",
    "    elif len(dataset)== 0:return unique_data[np.argmax(datum[1])]\n",
    "    elif len(features)==0:return parent\n",
    "    else:\n",
    "        print(\"Entropy for entire dataset at root node:\")\n",
    "        print(entropy_finder(dataset[label]))\n",
    "        parent = unique_data[np.argmax(datum[1])]\n",
    "        item_values = [information_gain(dataset,feature,label) for feature in features]\n",
    "    print(\"Information Gain:\")\n",
    "    for i in range(len(features)):\n",
    "        print(\"For feature:\"+features[i])\n",
    "        print(item_values[i])\n",
    "    print(\"Feature with max Information Gain:--\"+features[item_values.index(max(item_values))])\n",
    "    print(\"Hence this can be picked at the root node\")\n",
    "    return parent"
   ]
  },
  {
   "cell_type": "markdown",
   "id": "de8af8bc",
   "metadata": {},
   "source": [
    "### Output"
   ]
  },
  {
   "cell_type": "code",
   "execution_count": 23,
   "id": "c1b962c0",
   "metadata": {},
   "outputs": [
    {
     "name": "stdout",
     "output_type": "stream",
     "text": [
      "Entropy for entire dataset at root node:\n",
      "0.994264609261905\n",
      "Information Gain:\n",
      "For feature:age\n",
      "0.13530527911049584\n",
      "For feature:chol\n",
      "0.5597365268853722\n",
      "Feature with max Information Gain:--chol\n",
      "Hence this can be picked at the root node\n"
     ]
    }
   ],
   "source": [
    "decision_tree = tree(df,df,features,label,parent)"
   ]
  }
 ],
 "metadata": {
  "kernelspec": {
   "display_name": "Python 3",
   "language": "python",
   "name": "python3"
  },
  "language_info": {
   "codemirror_mode": {
    "name": "ipython",
    "version": 3
   },
   "file_extension": ".py",
   "mimetype": "text/x-python",
   "name": "python",
   "nbconvert_exporter": "python",
   "pygments_lexer": "ipython3",
   "version": "3.8.2"
  }
 },
 "nbformat": 4,
 "nbformat_minor": 5
}
