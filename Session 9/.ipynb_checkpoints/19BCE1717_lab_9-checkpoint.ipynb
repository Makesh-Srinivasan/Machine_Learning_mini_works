{
 "cells": [
  {
   "cell_type": "markdown",
   "id": "ac0a4851",
   "metadata": {},
   "source": [
    "# Lab session 9: Imbalanced dataset\n",
    "__Name: Makesh Srinivasan<br>\n",
    "Registration number: 19BCE1717<br>\n",
    "Course code: CSE4020<br>\n",
    "Faculty: Dr. Abdul Quadir<br>\n",
    "Slot: L31 + L32<br>\n",
    "Date: 12-October-2021 Monday__<br><br>\n",
    "    \n",
    "Instructions:<br>\n",
    "Imbalanced dataset - perform classification on the car_evaluation dataset, then perform the same on over-sampled and under-sampled dataset"
   ]
  },
  {
   "cell_type": "markdown",
   "id": "2eff612e",
   "metadata": {},
   "source": [
    "# Imbalanced dataset"
   ]
  },
  {
   "cell_type": "markdown",
   "id": "b3ef6fff",
   "metadata": {},
   "source": [
    "__Libraries and packages__"
   ]
  },
  {
   "cell_type": "code",
   "execution_count": 1,
   "id": "e04b7b1c",
   "metadata": {},
   "outputs": [],
   "source": [
    "import numpy as np\n",
    "import pandas as pd\n",
    "import matplotlib.pyplot as plt"
   ]
  },
  {
   "cell_type": "markdown",
   "id": "ccbcd1ca",
   "metadata": {},
   "source": [
    "__Load the dataset__"
   ]
  },
  {
   "cell_type": "markdown",
   "id": "1a77cc33",
   "metadata": {},
   "source": [
    "The dataset car_evaluation is imported from the UCI repository as shown below. There are six features and one label (outcome). The column names are added to provide description of the attribute as shown below"
   ]
  },
  {
   "cell_type": "code",
   "execution_count": 2,
   "id": "5333a5c4",
   "metadata": {},
   "outputs": [
    {
     "name": "stdout",
     "output_type": "stream",
     "text": [
      "Data loaded...\n"
     ]
    },
    {
     "data": {
      "text/html": [
       "<div>\n",
       "<style scoped>\n",
       "    .dataframe tbody tr th:only-of-type {\n",
       "        vertical-align: middle;\n",
       "    }\n",
       "\n",
       "    .dataframe tbody tr th {\n",
       "        vertical-align: top;\n",
       "    }\n",
       "\n",
       "    .dataframe thead th {\n",
       "        text-align: right;\n",
       "    }\n",
       "</style>\n",
       "<table border=\"1\" class=\"dataframe\">\n",
       "  <thead>\n",
       "    <tr style=\"text-align: right;\">\n",
       "      <th></th>\n",
       "      <th>buying</th>\n",
       "      <th>maint</th>\n",
       "      <th>doors</th>\n",
       "      <th>persons</th>\n",
       "      <th>lug_boot</th>\n",
       "      <th>safety</th>\n",
       "      <th>outcome</th>\n",
       "    </tr>\n",
       "  </thead>\n",
       "  <tbody>\n",
       "    <tr>\n",
       "      <th>1723</th>\n",
       "      <td>low</td>\n",
       "      <td>low</td>\n",
       "      <td>5more</td>\n",
       "      <td>more</td>\n",
       "      <td>med</td>\n",
       "      <td>med</td>\n",
       "      <td>good</td>\n",
       "    </tr>\n",
       "    <tr>\n",
       "      <th>1724</th>\n",
       "      <td>low</td>\n",
       "      <td>low</td>\n",
       "      <td>5more</td>\n",
       "      <td>more</td>\n",
       "      <td>med</td>\n",
       "      <td>high</td>\n",
       "      <td>vgood</td>\n",
       "    </tr>\n",
       "    <tr>\n",
       "      <th>1725</th>\n",
       "      <td>low</td>\n",
       "      <td>low</td>\n",
       "      <td>5more</td>\n",
       "      <td>more</td>\n",
       "      <td>big</td>\n",
       "      <td>low</td>\n",
       "      <td>unacc</td>\n",
       "    </tr>\n",
       "    <tr>\n",
       "      <th>1726</th>\n",
       "      <td>low</td>\n",
       "      <td>low</td>\n",
       "      <td>5more</td>\n",
       "      <td>more</td>\n",
       "      <td>big</td>\n",
       "      <td>med</td>\n",
       "      <td>good</td>\n",
       "    </tr>\n",
       "    <tr>\n",
       "      <th>1727</th>\n",
       "      <td>low</td>\n",
       "      <td>low</td>\n",
       "      <td>5more</td>\n",
       "      <td>more</td>\n",
       "      <td>big</td>\n",
       "      <td>high</td>\n",
       "      <td>vgood</td>\n",
       "    </tr>\n",
       "  </tbody>\n",
       "</table>\n",
       "</div>"
      ],
      "text/plain": [
       "     buying maint  doors persons lug_boot safety outcome\n",
       "1723    low   low  5more    more      med    med    good\n",
       "1724    low   low  5more    more      med   high   vgood\n",
       "1725    low   low  5more    more      big    low   unacc\n",
       "1726    low   low  5more    more      big    med    good\n",
       "1727    low   low  5more    more      big   high   vgood"
      ]
     },
     "execution_count": 2,
     "metadata": {},
     "output_type": "execute_result"
    }
   ],
   "source": [
    "def load(URL_):\n",
    "    data = pd.read_csv(URL_, header = None)\n",
    "    data.columns = ['buying', 'maint', 'doors', 'persons', 'lug_boot', 'safety', 'outcome']\n",
    "    print(\"Data loaded...\")\n",
    "    return data\n",
    "data = load('https://archive.ics.uci.edu/ml/machine-learning-databases/car/car.data')\n",
    "data.tail()"
   ]
  },
  {
   "cell_type": "markdown",
   "id": "1d00f67c",
   "metadata": {},
   "source": [
    "__Values of the label - Outcome__"
   ]
  },
  {
   "cell_type": "code",
   "execution_count": 3,
   "id": "a53286ea",
   "metadata": {},
   "outputs": [
    {
     "data": {
      "text/plain": [
       "unacc    1210\n",
       "acc       384\n",
       "good       69\n",
       "vgood      65\n",
       "Name: outcome, dtype: int64"
      ]
     },
     "execution_count": 3,
     "metadata": {},
     "output_type": "execute_result"
    }
   ],
   "source": [
    "data.outcome.value_counts()"
   ]
  },
  {
   "cell_type": "markdown",
   "id": "f2cd1a42",
   "metadata": {},
   "source": [
    "__Splitting__"
   ]
  },
  {
   "cell_type": "code",
   "execution_count": 4,
   "id": "41e4027a",
   "metadata": {},
   "outputs": [
    {
     "data": {
      "text/html": [
       "<div>\n",
       "<style scoped>\n",
       "    .dataframe tbody tr th:only-of-type {\n",
       "        vertical-align: middle;\n",
       "    }\n",
       "\n",
       "    .dataframe tbody tr th {\n",
       "        vertical-align: top;\n",
       "    }\n",
       "\n",
       "    .dataframe thead th {\n",
       "        text-align: right;\n",
       "    }\n",
       "</style>\n",
       "<table border=\"1\" class=\"dataframe\">\n",
       "  <thead>\n",
       "    <tr style=\"text-align: right;\">\n",
       "      <th></th>\n",
       "      <th>buying</th>\n",
       "      <th>maint</th>\n",
       "      <th>doors</th>\n",
       "      <th>persons</th>\n",
       "      <th>lug_boot</th>\n",
       "      <th>safety</th>\n",
       "    </tr>\n",
       "  </thead>\n",
       "  <tbody>\n",
       "    <tr>\n",
       "      <th>0</th>\n",
       "      <td>vhigh</td>\n",
       "      <td>vhigh</td>\n",
       "      <td>2</td>\n",
       "      <td>2</td>\n",
       "      <td>small</td>\n",
       "      <td>low</td>\n",
       "    </tr>\n",
       "    <tr>\n",
       "      <th>1</th>\n",
       "      <td>vhigh</td>\n",
       "      <td>vhigh</td>\n",
       "      <td>2</td>\n",
       "      <td>2</td>\n",
       "      <td>small</td>\n",
       "      <td>med</td>\n",
       "    </tr>\n",
       "    <tr>\n",
       "      <th>2</th>\n",
       "      <td>vhigh</td>\n",
       "      <td>vhigh</td>\n",
       "      <td>2</td>\n",
       "      <td>2</td>\n",
       "      <td>small</td>\n",
       "      <td>high</td>\n",
       "    </tr>\n",
       "    <tr>\n",
       "      <th>3</th>\n",
       "      <td>vhigh</td>\n",
       "      <td>vhigh</td>\n",
       "      <td>2</td>\n",
       "      <td>2</td>\n",
       "      <td>med</td>\n",
       "      <td>low</td>\n",
       "    </tr>\n",
       "    <tr>\n",
       "      <th>4</th>\n",
       "      <td>vhigh</td>\n",
       "      <td>vhigh</td>\n",
       "      <td>2</td>\n",
       "      <td>2</td>\n",
       "      <td>med</td>\n",
       "      <td>med</td>\n",
       "    </tr>\n",
       "  </tbody>\n",
       "</table>\n",
       "</div>"
      ],
      "text/plain": [
       "  buying  maint doors persons lug_boot safety\n",
       "0  vhigh  vhigh     2       2    small    low\n",
       "1  vhigh  vhigh     2       2    small    med\n",
       "2  vhigh  vhigh     2       2    small   high\n",
       "3  vhigh  vhigh     2       2      med    low\n",
       "4  vhigh  vhigh     2       2      med    med"
      ]
     },
     "execution_count": 4,
     "metadata": {},
     "output_type": "execute_result"
    }
   ],
   "source": [
    "X = data.drop(['outcome'],axis=1)\n",
    "y = data['outcome']\n",
    "X.head()"
   ]
  },
  {
   "cell_type": "markdown",
   "id": "b9b2d22b",
   "metadata": {},
   "source": [
    "__Encode the data__"
   ]
  },
  {
   "cell_type": "markdown",
   "id": "4c41f576",
   "metadata": {},
   "source": [
    "Encode all the string datatype to integer values"
   ]
  },
  {
   "cell_type": "code",
   "execution_count": 5,
   "id": "9a8d2df9",
   "metadata": {},
   "outputs": [],
   "source": [
    "from sklearn.preprocessing import LabelEncoder"
   ]
  },
  {
   "cell_type": "code",
   "execution_count": 6,
   "id": "36ea3fff",
   "metadata": {},
   "outputs": [
    {
     "data": {
      "text/html": [
       "<div>\n",
       "<style scoped>\n",
       "    .dataframe tbody tr th:only-of-type {\n",
       "        vertical-align: middle;\n",
       "    }\n",
       "\n",
       "    .dataframe tbody tr th {\n",
       "        vertical-align: top;\n",
       "    }\n",
       "\n",
       "    .dataframe thead th {\n",
       "        text-align: right;\n",
       "    }\n",
       "</style>\n",
       "<table border=\"1\" class=\"dataframe\">\n",
       "  <thead>\n",
       "    <tr style=\"text-align: right;\">\n",
       "      <th></th>\n",
       "      <th>buying</th>\n",
       "      <th>maint</th>\n",
       "      <th>doors</th>\n",
       "      <th>persons</th>\n",
       "      <th>lug_boot</th>\n",
       "      <th>safety</th>\n",
       "    </tr>\n",
       "  </thead>\n",
       "  <tbody>\n",
       "    <tr>\n",
       "      <th>0</th>\n",
       "      <td>3</td>\n",
       "      <td>3</td>\n",
       "      <td>0</td>\n",
       "      <td>0</td>\n",
       "      <td>2</td>\n",
       "      <td>1</td>\n",
       "    </tr>\n",
       "    <tr>\n",
       "      <th>1</th>\n",
       "      <td>3</td>\n",
       "      <td>3</td>\n",
       "      <td>0</td>\n",
       "      <td>0</td>\n",
       "      <td>2</td>\n",
       "      <td>2</td>\n",
       "    </tr>\n",
       "    <tr>\n",
       "      <th>2</th>\n",
       "      <td>3</td>\n",
       "      <td>3</td>\n",
       "      <td>0</td>\n",
       "      <td>0</td>\n",
       "      <td>2</td>\n",
       "      <td>0</td>\n",
       "    </tr>\n",
       "    <tr>\n",
       "      <th>3</th>\n",
       "      <td>3</td>\n",
       "      <td>3</td>\n",
       "      <td>0</td>\n",
       "      <td>0</td>\n",
       "      <td>1</td>\n",
       "      <td>1</td>\n",
       "    </tr>\n",
       "    <tr>\n",
       "      <th>4</th>\n",
       "      <td>3</td>\n",
       "      <td>3</td>\n",
       "      <td>0</td>\n",
       "      <td>0</td>\n",
       "      <td>1</td>\n",
       "      <td>2</td>\n",
       "    </tr>\n",
       "  </tbody>\n",
       "</table>\n",
       "</div>"
      ],
      "text/plain": [
       "  buying maint doors persons lug_boot safety\n",
       "0      3     3     0       0        2      1\n",
       "1      3     3     0       0        2      2\n",
       "2      3     3     0       0        2      0\n",
       "3      3     3     0       0        1      1\n",
       "4      3     3     0       0        1      2"
      ]
     },
     "execution_count": 6,
     "metadata": {},
     "output_type": "execute_result"
    }
   ],
   "source": [
    "enc = LabelEncoder()\n",
    "X.loc[:, ['buying', 'maint', 'doors', 'persons', 'lug_boot', 'safety']] = X.loc[:, ['buying', 'maint', 'doors', 'persons', 'lug_boot', 'safety']].apply(enc.fit_transform)\n",
    "X.head()"
   ]
  },
  {
   "cell_type": "markdown",
   "id": "4166f767",
   "metadata": {},
   "source": [
    "__KNN Classifier__"
   ]
  },
  {
   "cell_type": "code",
   "execution_count": 7,
   "id": "2acd5320",
   "metadata": {},
   "outputs": [
    {
     "name": "stdout",
     "output_type": "stream",
     "text": [
      "Accuracy =  0.9267822736030829\n"
     ]
    },
    {
     "data": {
      "text/html": [
       "<div>\n",
       "<style scoped>\n",
       "    .dataframe tbody tr th:only-of-type {\n",
       "        vertical-align: middle;\n",
       "    }\n",
       "\n",
       "    .dataframe tbody tr th {\n",
       "        vertical-align: top;\n",
       "    }\n",
       "\n",
       "    .dataframe thead th {\n",
       "        text-align: right;\n",
       "    }\n",
       "</style>\n",
       "<table border=\"1\" class=\"dataframe\">\n",
       "  <thead>\n",
       "    <tr style=\"text-align: right;\">\n",
       "      <th>col_0</th>\n",
       "      <th>acc</th>\n",
       "      <th>good</th>\n",
       "      <th>unacc</th>\n",
       "      <th>vgood</th>\n",
       "    </tr>\n",
       "    <tr>\n",
       "      <th>outcome</th>\n",
       "      <th></th>\n",
       "      <th></th>\n",
       "      <th></th>\n",
       "      <th></th>\n",
       "    </tr>\n",
       "  </thead>\n",
       "  <tbody>\n",
       "    <tr>\n",
       "      <th>acc</th>\n",
       "      <td>84</td>\n",
       "      <td>1</td>\n",
       "      <td>17</td>\n",
       "      <td>0</td>\n",
       "    </tr>\n",
       "    <tr>\n",
       "      <th>good</th>\n",
       "      <td>8</td>\n",
       "      <td>13</td>\n",
       "      <td>0</td>\n",
       "      <td>0</td>\n",
       "    </tr>\n",
       "    <tr>\n",
       "      <th>unacc</th>\n",
       "      <td>3</td>\n",
       "      <td>0</td>\n",
       "      <td>368</td>\n",
       "      <td>0</td>\n",
       "    </tr>\n",
       "    <tr>\n",
       "      <th>vgood</th>\n",
       "      <td>4</td>\n",
       "      <td>2</td>\n",
       "      <td>3</td>\n",
       "      <td>16</td>\n",
       "    </tr>\n",
       "  </tbody>\n",
       "</table>\n",
       "</div>"
      ],
      "text/plain": [
       "col_0    acc  good  unacc  vgood\n",
       "outcome                         \n",
       "acc       84     1     17      0\n",
       "good       8    13      0      0\n",
       "unacc      3     0    368      0\n",
       "vgood      4     2      3     16"
      ]
     },
     "execution_count": 7,
     "metadata": {},
     "output_type": "execute_result"
    }
   ],
   "source": [
    "from sklearn.model_selection import train_test_split\n",
    "from sklearn.neighbors import KNeighborsClassifier\n",
    "from sklearn.metrics import accuracy_score\n",
    "\n",
    "X_train, X_test, y_train, y_test = train_test_split(X, y, test_size = 0.3, random_state = 10)\n",
    "model = KNeighborsClassifier()\n",
    "model.fit(X_train, y_train)\n",
    "\n",
    "y_predict = model.predict(X_test)\n",
    "print(\"Accuracy = \", accuracy_score(y_test, y_predict))\n",
    "pd.crosstab(y_test, y_predict)"
   ]
  },
  {
   "cell_type": "markdown",
   "id": "f58ba81f",
   "metadata": {},
   "source": [
    "KNN classifier on an imbalanced dataset gave an accuracy of 0.926 and the following are the class-wise accuracy in prediction.\n",
    "1) acc: 84/102 -> 82% <br>\n",
    "2) good: 13/21 -> 61% <br>\n",
    "3) unacc: 368/371 -> 99% <br>\n",
    "4) vgood: 16/25 -> 64% <br>"
   ]
  },
  {
   "cell_type": "markdown",
   "id": "2a53b57b",
   "metadata": {},
   "source": [
    "<hr>"
   ]
  },
  {
   "cell_type": "markdown",
   "id": "b98de560",
   "metadata": {},
   "source": [
    "# SOLUTIONS: Sampling on imbalanced dataset"
   ]
  },
  {
   "cell_type": "markdown",
   "id": "256aea40",
   "metadata": {},
   "source": [
    "There are three ways to work on imbalanced dataset and they are as follows."
   ]
  },
  {
   "cell_type": "markdown",
   "id": "734b00fc",
   "metadata": {},
   "source": [
    "1) <a href=\"#oversample\">Over-sampling</a><br>\n",
    "2) <a href=\"#undersample\">Under-sampling</a><br>\n",
    "3) <a href=\"#smote\">SMOTE</a><br>"
   ]
  },
  {
   "cell_type": "markdown",
   "id": "bce3b03f",
   "metadata": {},
   "source": [
    "<hr>"
   ]
  },
  {
   "cell_type": "markdown",
   "id": "d723276e",
   "metadata": {},
   "source": [
    "## <div id=\"oversample\">1) Oversampling</div>"
   ]
  },
  {
   "cell_type": "markdown",
   "id": "8692d231",
   "metadata": {},
   "source": [
    "__Libraries__"
   ]
  },
  {
   "cell_type": "code",
   "execution_count": 8,
   "id": "89438cfb",
   "metadata": {},
   "outputs": [],
   "source": [
    "from imblearn.over_sampling import RandomOverSampler\n",
    "from collections import Counter"
   ]
  },
  {
   "cell_type": "markdown",
   "id": "5ffafa1f",
   "metadata": {},
   "source": [
    "__Overfitting the dataset__"
   ]
  },
  {
   "cell_type": "code",
   "execution_count": 9,
   "id": "2aef44db",
   "metadata": {},
   "outputs": [],
   "source": [
    "over=RandomOverSampler()\n",
    "Over_X,Over_y=over.fit_resample(X,y)"
   ]
  },
  {
   "cell_type": "code",
   "execution_count": 10,
   "id": "c9873a6b",
   "metadata": {},
   "outputs": [
    {
     "name": "stdout",
     "output_type": "stream",
     "text": [
      "Counter({'unacc': 1210, 'acc': 1210, 'vgood': 1210, 'good': 1210})\n"
     ]
    },
    {
     "data": {
      "text/plain": [
       "0       unacc\n",
       "1       unacc\n",
       "2       unacc\n",
       "3       unacc\n",
       "4       unacc\n",
       "        ...  \n",
       "4835    vgood\n",
       "4836    vgood\n",
       "4837    vgood\n",
       "4838    vgood\n",
       "4839    vgood\n",
       "Name: outcome, Length: 4840, dtype: object"
      ]
     },
     "execution_count": 10,
     "metadata": {},
     "output_type": "execute_result"
    }
   ],
   "source": [
    "print(Counter(Over_y))\n",
    "Over_y"
   ]
  },
  {
   "cell_type": "markdown",
   "id": "97692909",
   "metadata": {},
   "source": [
    "__KNN Classifier__"
   ]
  },
  {
   "cell_type": "code",
   "execution_count": 11,
   "id": "b5bf8813",
   "metadata": {},
   "outputs": [
    {
     "name": "stdout",
     "output_type": "stream",
     "text": [
      "Accuracy =  0.8836088154269972\n"
     ]
    },
    {
     "data": {
      "text/html": [
       "<div>\n",
       "<style scoped>\n",
       "    .dataframe tbody tr th:only-of-type {\n",
       "        vertical-align: middle;\n",
       "    }\n",
       "\n",
       "    .dataframe tbody tr th {\n",
       "        vertical-align: top;\n",
       "    }\n",
       "\n",
       "    .dataframe thead th {\n",
       "        text-align: right;\n",
       "    }\n",
       "</style>\n",
       "<table border=\"1\" class=\"dataframe\">\n",
       "  <thead>\n",
       "    <tr style=\"text-align: right;\">\n",
       "      <th>col_0</th>\n",
       "      <th>acc</th>\n",
       "      <th>good</th>\n",
       "      <th>unacc</th>\n",
       "      <th>vgood</th>\n",
       "    </tr>\n",
       "    <tr>\n",
       "      <th>outcome</th>\n",
       "      <th></th>\n",
       "      <th></th>\n",
       "      <th></th>\n",
       "      <th></th>\n",
       "    </tr>\n",
       "  </thead>\n",
       "  <tbody>\n",
       "    <tr>\n",
       "      <th>acc</th>\n",
       "      <td>310</td>\n",
       "      <td>32</td>\n",
       "      <td>0</td>\n",
       "      <td>21</td>\n",
       "    </tr>\n",
       "    <tr>\n",
       "      <th>good</th>\n",
       "      <td>0</td>\n",
       "      <td>348</td>\n",
       "      <td>0</td>\n",
       "      <td>0</td>\n",
       "    </tr>\n",
       "    <tr>\n",
       "      <th>unacc</th>\n",
       "      <td>76</td>\n",
       "      <td>21</td>\n",
       "      <td>259</td>\n",
       "      <td>19</td>\n",
       "    </tr>\n",
       "    <tr>\n",
       "      <th>vgood</th>\n",
       "      <td>0</td>\n",
       "      <td>0</td>\n",
       "      <td>0</td>\n",
       "      <td>366</td>\n",
       "    </tr>\n",
       "  </tbody>\n",
       "</table>\n",
       "</div>"
      ],
      "text/plain": [
       "col_0    acc  good  unacc  vgood\n",
       "outcome                         \n",
       "acc      310    32      0     21\n",
       "good       0   348      0      0\n",
       "unacc     76    21    259     19\n",
       "vgood      0     0      0    366"
      ]
     },
     "execution_count": 11,
     "metadata": {},
     "output_type": "execute_result"
    }
   ],
   "source": [
    "train_x, test_x, train_y, test_y = train_test_split(Over_X,Over_y, test_size=0.3, random_state=10)\n",
    "model = KNeighborsClassifier()\n",
    "model.fit(train_x,train_y)\n",
    "y_predict = model.predict(test_x)\n",
    "\n",
    "print(\"Accuracy = \", accuracy_score(test_y,y_predict))\n",
    "pd.crosstab(test_y,y_predict)"
   ]
  },
  {
   "cell_type": "markdown",
   "id": "9b60c3ba",
   "metadata": {},
   "source": [
    "The imbalanced dataset was augmented using oversampling and the KNN classifier produced an accuracy of 0.88 <br>\n",
    "As shown above in the table, the true positives are higher.\n",
    "1) acc: 310/363 -> 85%<br>\n",
    "2) good: 348/348 -> 100%<br>\n",
    "3) unacc: 259/375 -> 69%<br>\n",
    "4) vgood: 366/366 -> 100%<br>"
   ]
  },
  {
   "cell_type": "markdown",
   "id": "168085cc",
   "metadata": {},
   "source": [
    "<hr>"
   ]
  },
  {
   "cell_type": "markdown",
   "id": "a6b1a887",
   "metadata": {},
   "source": [
    "## <div id=\"undersample\">2) Undersampling</div>"
   ]
  },
  {
   "cell_type": "markdown",
   "id": "32b09c82",
   "metadata": {},
   "source": [
    "__Libraries__"
   ]
  },
  {
   "cell_type": "code",
   "execution_count": 12,
   "id": "978c91f9",
   "metadata": {},
   "outputs": [],
   "source": [
    "from imblearn.under_sampling import RandomUnderSampler"
   ]
  },
  {
   "cell_type": "markdown",
   "id": "b1abefe9",
   "metadata": {},
   "source": [
    "__Underfitting the dataset__"
   ]
  },
  {
   "cell_type": "code",
   "execution_count": 13,
   "id": "538101cd",
   "metadata": {},
   "outputs": [
    {
     "name": "stdout",
     "output_type": "stream",
     "text": [
      "Counter({'acc': 65, 'good': 65, 'unacc': 65, 'vgood': 65})\n"
     ]
    }
   ],
   "source": [
    "under=RandomUnderSampler()\n",
    "Under_X,Under_y=under.fit_resample(X,y)\n",
    "print(Counter(Under_y))"
   ]
  },
  {
   "cell_type": "code",
   "execution_count": 14,
   "id": "ba37fa12",
   "metadata": {},
   "outputs": [
    {
     "data": {
      "text/plain": [
       "0        acc\n",
       "1        acc\n",
       "2        acc\n",
       "3        acc\n",
       "4        acc\n",
       "       ...  \n",
       "255    vgood\n",
       "256    vgood\n",
       "257    vgood\n",
       "258    vgood\n",
       "259    vgood\n",
       "Name: outcome, Length: 260, dtype: object"
      ]
     },
     "execution_count": 14,
     "metadata": {},
     "output_type": "execute_result"
    }
   ],
   "source": [
    "Under_y"
   ]
  },
  {
   "cell_type": "markdown",
   "id": "62e34bba",
   "metadata": {},
   "source": [
    "__KNN Classifier__"
   ]
  },
  {
   "cell_type": "code",
   "execution_count": 15,
   "id": "4ad7e290",
   "metadata": {},
   "outputs": [
    {
     "name": "stdout",
     "output_type": "stream",
     "text": [
      "Accuracy =  0.7051282051282052\n"
     ]
    },
    {
     "data": {
      "text/html": [
       "<div>\n",
       "<style scoped>\n",
       "    .dataframe tbody tr th:only-of-type {\n",
       "        vertical-align: middle;\n",
       "    }\n",
       "\n",
       "    .dataframe tbody tr th {\n",
       "        vertical-align: top;\n",
       "    }\n",
       "\n",
       "    .dataframe thead th {\n",
       "        text-align: right;\n",
       "    }\n",
       "</style>\n",
       "<table border=\"1\" class=\"dataframe\">\n",
       "  <thead>\n",
       "    <tr style=\"text-align: right;\">\n",
       "      <th>col_0</th>\n",
       "      <th>acc</th>\n",
       "      <th>good</th>\n",
       "      <th>unacc</th>\n",
       "      <th>vgood</th>\n",
       "    </tr>\n",
       "    <tr>\n",
       "      <th>outcome</th>\n",
       "      <th></th>\n",
       "      <th></th>\n",
       "      <th></th>\n",
       "      <th></th>\n",
       "    </tr>\n",
       "  </thead>\n",
       "  <tbody>\n",
       "    <tr>\n",
       "      <th>acc</th>\n",
       "      <td>7</td>\n",
       "      <td>7</td>\n",
       "      <td>0</td>\n",
       "      <td>8</td>\n",
       "    </tr>\n",
       "    <tr>\n",
       "      <th>good</th>\n",
       "      <td>0</td>\n",
       "      <td>16</td>\n",
       "      <td>0</td>\n",
       "      <td>0</td>\n",
       "    </tr>\n",
       "    <tr>\n",
       "      <th>unacc</th>\n",
       "      <td>2</td>\n",
       "      <td>4</td>\n",
       "      <td>10</td>\n",
       "      <td>1</td>\n",
       "    </tr>\n",
       "    <tr>\n",
       "      <th>vgood</th>\n",
       "      <td>0</td>\n",
       "      <td>0</td>\n",
       "      <td>1</td>\n",
       "      <td>22</td>\n",
       "    </tr>\n",
       "  </tbody>\n",
       "</table>\n",
       "</div>"
      ],
      "text/plain": [
       "col_0    acc  good  unacc  vgood\n",
       "outcome                         \n",
       "acc        7     7      0      8\n",
       "good       0    16      0      0\n",
       "unacc      2     4     10      1\n",
       "vgood      0     0      1     22"
      ]
     },
     "execution_count": 15,
     "metadata": {},
     "output_type": "execute_result"
    }
   ],
   "source": [
    "train_x, test_x, train_y, test_y = train_test_split(Under_X,Under_y, test_size=0.3, random_state=10)\n",
    "model = KNeighborsClassifier()\n",
    "model.fit(train_x,train_y)\n",
    "y_predict = model.predict(test_x)\n",
    "\n",
    "print(\"Accuracy = \", accuracy_score(test_y,y_predict))\n",
    "pd.crosstab(test_y,y_predict)"
   ]
  },
  {
   "cell_type": "markdown",
   "id": "60116ff1",
   "metadata": {},
   "source": [
    "The imbalanced dataset was augmented using undersampling and the KNN classifier produced an accuracy of 0.70 <br>\n",
    "1) acc: 7/22 -> 32%<br>\n",
    "2) good: 16/16 -> 100%<br>\n",
    "3) unacc: 10/17 -> 58%<br>\n",
    "4) vgood: 22/23 -> 96%<br>"
   ]
  },
  {
   "cell_type": "markdown",
   "id": "edfbc3b2",
   "metadata": {},
   "source": [
    "<hr>"
   ]
  },
  {
   "cell_type": "markdown",
   "id": "e79f31c9",
   "metadata": {},
   "source": [
    "## <div id=\"smote\">3) SMOTE</div>"
   ]
  },
  {
   "cell_type": "markdown",
   "id": "81c55cee",
   "metadata": {},
   "source": [
    "__Libraries__"
   ]
  },
  {
   "cell_type": "code",
   "execution_count": 16,
   "id": "5b61a148",
   "metadata": {},
   "outputs": [],
   "source": [
    "from imblearn.over_sampling import SMOTE"
   ]
  },
  {
   "cell_type": "markdown",
   "id": "b40b54d7",
   "metadata": {},
   "source": [
    "__SMOTE__"
   ]
  },
  {
   "cell_type": "code",
   "execution_count": 17,
   "id": "68d2d8d3",
   "metadata": {},
   "outputs": [
    {
     "name": "stdout",
     "output_type": "stream",
     "text": [
      "Counter({'unacc': 1210, 'acc': 1210, 'vgood': 1210, 'good': 1210})\n"
     ]
    }
   ],
   "source": [
    "smote=SMOTE()\n",
    "SMOTE_X,SMOTE_y=smote.fit_resample(X,y)\n",
    "print(Counter(SMOTE_y))"
   ]
  },
  {
   "cell_type": "code",
   "execution_count": 18,
   "id": "60528820",
   "metadata": {},
   "outputs": [
    {
     "data": {
      "text/plain": [
       "0       unacc\n",
       "1       unacc\n",
       "2       unacc\n",
       "3       unacc\n",
       "4       unacc\n",
       "        ...  \n",
       "4835    vgood\n",
       "4836    vgood\n",
       "4837    vgood\n",
       "4838    vgood\n",
       "4839    vgood\n",
       "Name: outcome, Length: 4840, dtype: object"
      ]
     },
     "execution_count": 18,
     "metadata": {},
     "output_type": "execute_result"
    }
   ],
   "source": [
    "SMOTE_y"
   ]
  },
  {
   "cell_type": "markdown",
   "id": "a1319538",
   "metadata": {},
   "source": [
    "__KNN Classifier__"
   ]
  },
  {
   "cell_type": "code",
   "execution_count": 19,
   "id": "3e91ca1b",
   "metadata": {},
   "outputs": [
    {
     "name": "stdout",
     "output_type": "stream",
     "text": [
      "Accuracy =  0.981404958677686\n"
     ]
    },
    {
     "data": {
      "text/html": [
       "<div>\n",
       "<style scoped>\n",
       "    .dataframe tbody tr th:only-of-type {\n",
       "        vertical-align: middle;\n",
       "    }\n",
       "\n",
       "    .dataframe tbody tr th {\n",
       "        vertical-align: top;\n",
       "    }\n",
       "\n",
       "    .dataframe thead th {\n",
       "        text-align: right;\n",
       "    }\n",
       "</style>\n",
       "<table border=\"1\" class=\"dataframe\">\n",
       "  <thead>\n",
       "    <tr style=\"text-align: right;\">\n",
       "      <th>col_0</th>\n",
       "      <th>acc</th>\n",
       "      <th>good</th>\n",
       "      <th>unacc</th>\n",
       "      <th>vgood</th>\n",
       "    </tr>\n",
       "    <tr>\n",
       "      <th>outcome</th>\n",
       "      <th></th>\n",
       "      <th></th>\n",
       "      <th></th>\n",
       "      <th></th>\n",
       "    </tr>\n",
       "  </thead>\n",
       "  <tbody>\n",
       "    <tr>\n",
       "      <th>acc</th>\n",
       "      <td>353</td>\n",
       "      <td>4</td>\n",
       "      <td>2</td>\n",
       "      <td>4</td>\n",
       "    </tr>\n",
       "    <tr>\n",
       "      <th>good</th>\n",
       "      <td>0</td>\n",
       "      <td>348</td>\n",
       "      <td>0</td>\n",
       "      <td>0</td>\n",
       "    </tr>\n",
       "    <tr>\n",
       "      <th>unacc</th>\n",
       "      <td>17</td>\n",
       "      <td>0</td>\n",
       "      <td>358</td>\n",
       "      <td>0</td>\n",
       "    </tr>\n",
       "    <tr>\n",
       "      <th>vgood</th>\n",
       "      <td>0</td>\n",
       "      <td>0</td>\n",
       "      <td>0</td>\n",
       "      <td>366</td>\n",
       "    </tr>\n",
       "  </tbody>\n",
       "</table>\n",
       "</div>"
      ],
      "text/plain": [
       "col_0    acc  good  unacc  vgood\n",
       "outcome                         \n",
       "acc      353     4      2      4\n",
       "good       0   348      0      0\n",
       "unacc     17     0    358      0\n",
       "vgood      0     0      0    366"
      ]
     },
     "execution_count": 19,
     "metadata": {},
     "output_type": "execute_result"
    }
   ],
   "source": [
    "train_x, test_x, train_y, test_y = train_test_split(SMOTE_X,SMOTE_y, test_size=0.3, random_state=10)\n",
    "model = KNeighborsClassifier()\n",
    "model.fit(train_x,train_y)\n",
    "y_predict = model.predict(test_x)\n",
    "\n",
    "print(\"Accuracy = \", accuracy_score(test_y,y_predict))\n",
    "pd.crosstab(test_y,y_predict)"
   ]
  },
  {
   "cell_type": "markdown",
   "id": "25f0a7c8",
   "metadata": {},
   "source": [
    "### Using SMOTE the imbalanced dataset was augmented and the KNN classifier produced an accuracy of 0.98 <br>\n",
    "As shown above in the table, the true positives are higher.\n",
    "1) acc: 353/363 -> 96%<br>\n",
    "2) good: 348/348 -> 100%<br>\n",
    "3) unacc: 358/375 -> 96%<br>\n",
    "4) vgood: 366/366 -> 100%<br>"
   ]
  },
  {
   "cell_type": "markdown",
   "id": "609783ab",
   "metadata": {},
   "source": [
    "<hr>"
   ]
  }
 ],
 "metadata": {
  "kernelspec": {
   "display_name": "Python 3",
   "language": "python",
   "name": "python3"
  },
  "language_info": {
   "codemirror_mode": {
    "name": "ipython",
    "version": 3
   },
   "file_extension": ".py",
   "mimetype": "text/x-python",
   "name": "python",
   "nbconvert_exporter": "python",
   "pygments_lexer": "ipython3",
   "version": "3.8.2"
  }
 },
 "nbformat": 4,
 "nbformat_minor": 5
}
