{
 "cells": [
  {
   "cell_type": "markdown",
   "id": "a7bac8be",
   "metadata": {},
   "source": [
    "# Lab session 4: Linear and Multilinear Regression\n",
    "### Name: Makesh Srinivasan\n",
    "### Registration number: 19BCE1717\n",
    "### Course code: CSE4020\n",
    "### Faculty: Dr. Abdul Quadir\n",
    "### Slot: L31 + L32\n",
    "### Date: 30-August-2021 Monday"
   ]
  },
  {
   "cell_type": "code",
   "execution_count": 35,
   "id": "8e5d0aac",
   "metadata": {},
   "outputs": [],
   "source": [
    "# Import the libraries and modules\n",
    "import matplotlib.pyplot as plt\n",
    "import numpy as np\n",
    "import pandas as pd\n",
    "import seaborn as sb\n",
    "from sklearn import linear_model\n",
    "from sklearn import metrics\n",
    "%matplotlib inline"
   ]
  },
  {
   "cell_type": "markdown",
   "id": "9f59c371",
   "metadata": {},
   "source": [
    "# Forest fires (Part 1)"
   ]
  },
  {
   "cell_type": "code",
   "execution_count": 36,
   "id": "3e14d408",
   "metadata": {},
   "outputs": [
    {
     "name": "stdout",
     "output_type": "stream",
     "text": [
      "(517, 13)\n",
      "<class 'pandas.core.frame.DataFrame'>\n",
      "RangeIndex: 517 entries, 0 to 516\n",
      "Data columns (total 13 columns):\n",
      " #   Column  Non-Null Count  Dtype  \n",
      "---  ------  --------------  -----  \n",
      " 0   X       517 non-null    int64  \n",
      " 1   Y       517 non-null    int64  \n",
      " 2   month   517 non-null    object \n",
      " 3   day     517 non-null    object \n",
      " 4   FFMC    517 non-null    float64\n",
      " 5   DMC     517 non-null    float64\n",
      " 6   DC      517 non-null    float64\n",
      " 7   ISI     517 non-null    float64\n",
      " 8   temp    517 non-null    float64\n",
      " 9   RH      517 non-null    int64  \n",
      " 10  wind    517 non-null    float64\n",
      " 11  rain    517 non-null    float64\n",
      " 12  area    517 non-null    float64\n",
      "dtypes: float64(8), int64(3), object(2)\n",
      "memory usage: 52.6+ KB\n",
      "None\n"
     ]
    }
   ],
   "source": [
    "# import the dataset\n",
    "forest_fire = pd.read_csv(\"forestfires.csv\")\n",
    "\n",
    "# Get generic information on the dataset\n",
    "print(forest_fire.shape)\n",
    "print(forest_fire.info())"
   ]
  },
  {
   "cell_type": "code",
   "execution_count": 37,
   "id": "397422f0",
   "metadata": {},
   "outputs": [
    {
     "name": "stdout",
     "output_type": "stream",
     "text": [
      "0.0\n",
      "1090.84\n"
     ]
    },
    {
     "data": {
      "image/png": "[encoded data removed]",
      "text/plain": [
       "<Figure size 432x288 with 1 Axes>"
      ]
     },
     "metadata": {
      "needs_background": "light"
     },
     "output_type": "display_data"
    }
   ],
   "source": [
    "# We want to predict the value of the column \"Area\"\n",
    "# before we train a model and make predictions, we will get generic infomrmation about the attribute\n",
    "print(forest_fire['area'].min())\n",
    "print(forest_fire['area'].max())\n",
    "plt.hist(forest_fire['area'])\n",
    "plt.show()\n",
    "# the count vs the value of the area is shown below"
   ]
  },
  {
   "cell_type": "code",
   "execution_count": 38,
   "id": "26a4d38a",
   "metadata": {},
   "outputs": [
    {
     "data": {
      "text/html": [
       "<div>\n",
       "<style scoped>\n",
       "    .dataframe tbody tr th:only-of-type {\n",
       "        vertical-align: middle;\n",
       "    }\n",
       "\n",
       "    .dataframe tbody tr th {\n",
       "        vertical-align: top;\n",
       "    }\n",
       "\n",
       "    .dataframe thead th {\n",
       "        text-align: right;\n",
       "    }\n",
       "</style>\n",
       "<table border=\"1\" class=\"dataframe\">\n",
       "  <thead>\n",
       "    <tr style=\"text-align: right;\">\n",
       "      <th></th>\n",
       "      <th>X</th>\n",
       "      <th>Y</th>\n",
       "      <th>month</th>\n",
       "      <th>day</th>\n",
       "      <th>FFMC</th>\n",
       "      <th>DMC</th>\n",
       "      <th>DC</th>\n",
       "      <th>ISI</th>\n",
       "      <th>temp</th>\n",
       "      <th>RH</th>\n",
       "      <th>wind</th>\n",
       "      <th>rain</th>\n",
       "      <th>area</th>\n",
       "    </tr>\n",
       "  </thead>\n",
       "  <tbody>\n",
       "    <tr>\n",
       "      <th>0</th>\n",
       "      <td>7</td>\n",
       "      <td>5</td>\n",
       "      <td>3</td>\n",
       "      <td>5</td>\n",
       "      <td>86.2</td>\n",
       "      <td>26.2</td>\n",
       "      <td>94.3</td>\n",
       "      <td>5.1</td>\n",
       "      <td>8.2</td>\n",
       "      <td>51</td>\n",
       "      <td>6.7</td>\n",
       "      <td>0.0</td>\n",
       "      <td>0.0</td>\n",
       "    </tr>\n",
       "    <tr>\n",
       "      <th>1</th>\n",
       "      <td>7</td>\n",
       "      <td>4</td>\n",
       "      <td>10</td>\n",
       "      <td>2</td>\n",
       "      <td>90.6</td>\n",
       "      <td>35.4</td>\n",
       "      <td>669.1</td>\n",
       "      <td>6.7</td>\n",
       "      <td>18.0</td>\n",
       "      <td>33</td>\n",
       "      <td>0.9</td>\n",
       "      <td>0.0</td>\n",
       "      <td>0.0</td>\n",
       "    </tr>\n",
       "    <tr>\n",
       "      <th>2</th>\n",
       "      <td>7</td>\n",
       "      <td>4</td>\n",
       "      <td>10</td>\n",
       "      <td>6</td>\n",
       "      <td>90.6</td>\n",
       "      <td>43.7</td>\n",
       "      <td>686.9</td>\n",
       "      <td>6.7</td>\n",
       "      <td>14.6</td>\n",
       "      <td>33</td>\n",
       "      <td>1.3</td>\n",
       "      <td>0.0</td>\n",
       "      <td>0.0</td>\n",
       "    </tr>\n",
       "    <tr>\n",
       "      <th>3</th>\n",
       "      <td>8</td>\n",
       "      <td>6</td>\n",
       "      <td>3</td>\n",
       "      <td>5</td>\n",
       "      <td>91.7</td>\n",
       "      <td>33.3</td>\n",
       "      <td>77.5</td>\n",
       "      <td>9.0</td>\n",
       "      <td>8.3</td>\n",
       "      <td>97</td>\n",
       "      <td>4.0</td>\n",
       "      <td>0.2</td>\n",
       "      <td>0.0</td>\n",
       "    </tr>\n",
       "    <tr>\n",
       "      <th>4</th>\n",
       "      <td>8</td>\n",
       "      <td>6</td>\n",
       "      <td>3</td>\n",
       "      <td>7</td>\n",
       "      <td>89.3</td>\n",
       "      <td>51.3</td>\n",
       "      <td>102.2</td>\n",
       "      <td>9.6</td>\n",
       "      <td>11.4</td>\n",
       "      <td>99</td>\n",
       "      <td>1.8</td>\n",
       "      <td>0.0</td>\n",
       "      <td>0.0</td>\n",
       "    </tr>\n",
       "  </tbody>\n",
       "</table>\n",
       "</div>"
      ],
      "text/plain": [
       "   X  Y  month  day  FFMC   DMC     DC  ISI  temp  RH  wind  rain  area\n",
       "0  7  5      3    5  86.2  26.2   94.3  5.1   8.2  51   6.7   0.0   0.0\n",
       "1  7  4     10    2  90.6  35.4  669.1  6.7  18.0  33   0.9   0.0   0.0\n",
       "2  7  4     10    6  90.6  43.7  686.9  6.7  14.6  33   1.3   0.0   0.0\n",
       "3  8  6      3    5  91.7  33.3   77.5  9.0   8.3  97   4.0   0.2   0.0\n",
       "4  8  6      3    7  89.3  51.3  102.2  9.6  11.4  99   1.8   0.0   0.0"
      ]
     },
     "execution_count": 38,
     "metadata": {},
     "output_type": "execute_result"
    }
   ],
   "source": [
    "# Before we can train a linear regression model, we need to make sure the attributes data-types are numerical\n",
    "# The \"month\" and \"day\" features are object-types as shown above. They need to be replaced with numerical values\n",
    "forest_fire.month.replace(('jan','feb','mar','apr','may','jun','jul','aug','sep','oct','nov','dec'), (1,2,3,4,5,6,7,8,9,10,11,12), inplace=True)\n",
    "forest_fire.day.replace(('mon','tue','wed','thu','fri','sat','sun'), (1,2,3,4,5,6,7), inplace=True)\n",
    "forest_fire.head()"
   ]
  },
  {
   "cell_type": "markdown",
   "id": "e1cdf411",
   "metadata": {},
   "source": [
    "#### Observe trend between two features"
   ]
  },
  {
   "cell_type": "code",
   "execution_count": 39,
   "id": "77ec0ada",
   "metadata": {},
   "outputs": [
    {
     "data": {
      "image/png": "[encoded data removed]",
      "text/plain": [
       "<Figure size 432x288 with 2 Axes>"
      ]
     },
     "metadata": {
      "needs_background": "light"
     },
     "output_type": "display_data"
    }
   ],
   "source": [
    "corr = forest_fire.corr()\n",
    "# plotting a correlation heat map suggests to what extent two attributes are related\n",
    "# This will help with plotting graphs  such as plot, hist and scatter and observe trends pairwise\n",
    "sb.heatmap(corr, xticklabels=corr.columns, yticklabels=corr.columns)\n",
    "plt.show()"
   ]
  },
  {
   "cell_type": "code",
   "execution_count": 40,
   "id": "38201320",
   "metadata": {},
   "outputs": [
    {
     "data": {
      "text/plain": [
       "<seaborn.axisgrid.PairGrid at 0x12311d730>"
      ]
     },
     "execution_count": 40,
     "metadata": {},
     "output_type": "execute_result"
    },
    {
     "data": {
      "image/png": "[encoded data removed]",
      "text/plain": [
       "<Figure size 360x360 with 6 Axes>"
      ]
     },
     "metadata": {
      "needs_background": "light"
     },
     "output_type": "display_data"
    }
   ],
   "source": [
    "g = sb.PairGrid(data=forest_fire, vars=[\"temp\", \"DMC\"])\n",
    "g.map_upper(plt.scatter, color='blue')\n",
    "g.map_lower(plt.plot, color='red')\n",
    "g.map_diag(plt.hist, color='green')"
   ]
  },
  {
   "cell_type": "code",
   "execution_count": 41,
   "id": "6d846e1b",
   "metadata": {},
   "outputs": [
    {
     "data": {
      "text/plain": [
       "<seaborn.axisgrid.PairGrid at 0x1235a5c10>"
      ]
     },
     "execution_count": 41,
     "metadata": {},
     "output_type": "execute_result"
    },
    {
     "data": {
      "image/png": "[encoded data removed]",
      "text/plain": [
       "<Figure size 360x360 with 6 Axes>"
      ]
     },
     "metadata": {
      "needs_background": "light"
     },
     "output_type": "display_data"
    }
   ],
   "source": [
    "g = sb.PairGrid(data=forest_fire, vars=[\"temp\", \"wind\"])\n",
    "g.map_upper(plt.scatter, color='blue')\n",
    "g.map_lower(plt.plot, color='red')\n",
    "g.map_diag(plt.hist, color='green')"
   ]
  },
  {
   "cell_type": "code",
   "execution_count": 42,
   "id": "53cbebfe",
   "metadata": {},
   "outputs": [
    {
     "data": {
      "text/plain": [
       "<seaborn.axisgrid.PairGrid at 0x1230cc610>"
      ]
     },
     "execution_count": 42,
     "metadata": {},
     "output_type": "execute_result"
    },
    {
     "data": {
      "image/png": "[encoded data removed]",
      "text/plain": [
       "<Figure size 360x360 with 6 Axes>"
      ]
     },
     "metadata": {
      "needs_background": "light"
     },
     "output_type": "display_data"
    }
   ],
   "source": [
    "g = sb.PairGrid(data=forest_fire, vars=[\"temp\", \"area\"])\n",
    "g.map_upper(plt.scatter, color='blue')\n",
    "g.map_lower(plt.plot, color='red')\n",
    "g.map_diag(plt.hist, color='green')"
   ]
  },
  {
   "cell_type": "code",
   "execution_count": 43,
   "id": "c11f0912",
   "metadata": {},
   "outputs": [
    {
     "name": "stdout",
     "output_type": "stream",
     "text": [
      "X        0\n",
      "Y        0\n",
      "month    0\n",
      "day      0\n",
      "FFMC     0\n",
      "DMC      0\n",
      "DC       0\n",
      "ISI      0\n",
      "temp     0\n",
      "RH       0\n",
      "wind     0\n",
      "rain     0\n",
      "area     0\n",
      "dtype: int64\n"
     ]
    }
   ],
   "source": [
    "# We can now check if the dataset is clean\n",
    "# Check for presence of NaN or NA values\n",
    "print(forest_fire.isnull().sum())\n",
    "# None of the attributes have NaN values"
   ]
  },
  {
   "cell_type": "markdown",
   "id": "2af81c26",
   "metadata": {},
   "source": [
    "### Training a linear regresion model"
   ]
  },
  {
   "cell_type": "code",
   "execution_count": 44,
   "id": "391e2917",
   "metadata": {},
   "outputs": [
    {
     "data": {
      "text/plain": [
       "array([[ 7.  ,  5.  ,  3.  , ...,  6.7 ,  0.  ,  0.  ],\n",
       "       [ 7.  ,  4.  , 10.  , ...,  0.9 ,  0.  ,  0.  ],\n",
       "       [ 7.  ,  4.  , 10.  , ...,  1.3 ,  0.  ,  0.  ],\n",
       "       ...,\n",
       "       [ 7.  ,  4.  ,  8.  , ...,  6.7 ,  0.  , 11.16],\n",
       "       [ 1.  ,  4.  ,  8.  , ...,  4.  ,  0.  ,  0.  ],\n",
       "       [ 6.  ,  3.  , 11.  , ...,  4.5 ,  0.  ,  0.  ]])"
      ]
     },
     "execution_count": 44,
     "metadata": {},
     "output_type": "execute_result"
    }
   ],
   "source": [
    "regression = linear_model.LinearRegression()\n",
    "df = forest_fire.values\n",
    "df"
   ]
  },
  {
   "cell_type": "code",
   "execution_count": 45,
   "id": "f5fe2717",
   "metadata": {},
   "outputs": [
    {
     "name": "stdout",
     "output_type": "stream",
     "text": [
      "(517, 12)\n",
      "(517,)\n"
     ]
    }
   ],
   "source": [
    "train_x = (df[:,0:12])\n",
    "train_y = df[:,12]\n",
    "print(train_x.shape)\n",
    "print(train_y.shape)"
   ]
  },
  {
   "cell_type": "code",
   "execution_count": 46,
   "id": "3c4525e4",
   "metadata": {},
   "outputs": [
    {
     "name": "stdout",
     "output_type": "stream",
     "text": [
      "Coefficients:  [ 1.96527223  0.27823493  2.7379971   0.75506519 -0.06618619  0.09758667\n",
      " -0.02970081 -0.72959547  0.85659867 -0.21478604  1.18506895 -2.93577716]\n",
      "Intercept:  -14.539440967722241\n"
     ]
    }
   ],
   "source": [
    "regression.fit(train_x, train_y)\n",
    "print('Coefficients: ', regression.coef_)\n",
    "print('Intercept: ', regression.intercept_)"
   ]
  },
  {
   "cell_type": "code",
   "execution_count": 47,
   "id": "5d793758",
   "metadata": {},
   "outputs": [
    {
     "name": "stdout",
     "output_type": "stream",
     "text": [
      "0.0 6.9377376381298905\n",
      "0.0 11.314903031782778\n",
      "0.0 12.178050899520757\n",
      "0.0 -6.4177020992696026\n",
      "0.0 -3.9576444760195315\n",
      "0.0 26.224756860657266\n",
      "0.0 25.674894458358366\n",
      "0.0 -1.2381075055418407\n",
      "0.0 14.030127472388687\n",
      "0.0 21.996579880504783\n",
      "0.0 19.143160771387628\n",
      "0.0 6.2274965792182275\n",
      "0.0 13.722903206039787\n",
      "0.0 16.70371164463726\n",
      "0.0 28.355686971098613\n",
      "0.0 19.884845166801995\n",
      "0.0 12.290925597733372\n",
      "0.0 16.391611144225024\n",
      "0.0 9.806593480595703\n",
      "0.0 8.053224998989284\n",
      "0.0 15.737818924621328\n",
      "0.0 6.555837577999318\n",
      "0.0 -7.7995889626565456\n",
      "0.0 25.473707593108642\n",
      "0.0 22.02257208473172\n",
      "0.0 17.24575175806642\n",
      "0.0 21.24241315017732\n",
      "0.0 14.407933198069978\n",
      "0.0 31.84478842484768\n",
      "0.0 24.265918552701976\n",
      "0.0 17.27401662367656\n",
      "0.0 2.160682443810634\n",
      "0.0 14.049679471168607\n",
      "0.0 13.349059691902676\n",
      "0.0 11.330448307038187\n",
      "0.0 7.459822528001515\n",
      "0.0 18.440133497980163\n",
      "0.0 6.149313351075749\n",
      "0.0 19.129334094979242\n",
      "0.0 2.0973736819909146\n",
      "0.0 19.462347404367122\n",
      "0.0 14.002829070667607\n",
      "0.0 -0.45917162284409585\n",
      "0.0 9.822534586885753\n",
      "0.0 -1.9432666038239628\n",
      "0.0 15.535645710161157\n",
      "0.0 5.008210611932951\n",
      "0.0 13.150704714469859\n",
      "0.0 -0.22497692744954279\n",
      "0.0 2.384664336429646\n",
      "0.0 17.331048941421415\n",
      "0.0 15.473119804354491\n",
      "0.0 10.910436435183973\n",
      "0.0 10.910436435183973\n",
      "0.0 9.604890002058324\n",
      "0.0 22.526404598297447\n",
      "0.0 3.445880140993646\n",
      "0.0 2.54470527086284\n",
      "0.0 -1.3007769577055104\n",
      "0.0 -9.740039606483586\n",
      "0.0 0.8508803649106369\n",
      "0.0 -7.9918979170773\n",
      "0.0 10.981870551622217\n",
      "0.0 11.472041859260058\n",
      "0.0 10.24624333713862\n",
      "0.0 7.534057369523497\n",
      "0.0 12.101029051606035\n",
      "0.0 11.114299793296441\n",
      "0.0 12.180861848238466\n",
      "0.0 9.496200780304507\n",
      "0.0 10.096272977068546\n",
      "0.0 4.511913795825633\n",
      "0.0 12.160590364289773\n",
      "0.0 14.409811545132682\n",
      "0.0 19.815573574620956\n",
      "0.0 -4.724008290603866\n",
      "0.0 13.202385975376151\n",
      "0.0 -14.886326837621896\n",
      "0.0 -5.002035106793281\n",
      "0.0 17.775385574693452\n",
      "0.0 13.215833096630947\n",
      "0.0 4.067452603201472\n",
      "0.0 -5.6204647835042145\n",
      "0.0 -4.3328961090578115\n",
      "0.0 5.657994911308576\n",
      "0.0 11.433925951654603\n",
      "0.0 13.737817929097597\n",
      "0.0 9.664519664559068\n",
      "0.0 16.94717724675727\n",
      "0.0 16.063412362302337\n",
      "0.0 10.324268696713881\n",
      "0.0 20.32444707550212\n",
      "0.0 25.44772266894259\n",
      "0.0 24.45385948418476\n",
      "0.0 24.866842803072032\n",
      "0.0 5.82634861176936\n",
      "0.0 -2.3883425511243352\n",
      "0.0 16.059303568805113\n",
      "0.0 -1.5071359786183844\n",
      "0.0 16.89326496241192\n",
      "0.0 16.89326496241192\n",
      "0.0 4.121614131970739\n",
      "0.0 -0.043712751755220935\n",
      "0.0 18.815228187639505\n",
      "0.0 -18.232052800888926\n",
      "0.0 6.3508259804459275\n",
      "0.0 8.249845912668578\n",
      "0.0 17.225277888996985\n",
      "0.0 11.818774276329679\n",
      "0.0 6.215660715944695\n",
      "0.0 8.269729584351166\n",
      "0.0 10.341539789677954\n",
      "0.0 16.23937924599332\n",
      "0.0 3.098331496181684\n",
      "0.0 10.83173364568131\n",
      "0.0 9.31239934006872\n",
      "0.0 5.5062548152593305\n",
      "0.0 7.575271597704935\n",
      "0.0 -0.3697544027555022\n",
      "0.0 11.840981426338908\n",
      "0.0 -7.0733291320855445\n",
      "0.0 9.202129615422985\n",
      "0.0 18.624574394483453\n",
      "0.0 7.248946203907055\n",
      "0.0 3.408169450621097\n",
      "0.0 15.46666205142054\n",
      "0.0 -5.926176631815315\n",
      "0.0 11.16781017665931\n",
      "0.0 4.241541832209533\n",
      "0.0 1.629854992469907\n",
      "0.0 7.207935321115604\n",
      "0.0 2.8974554795896683\n",
      "0.0 2.5533614237044784\n",
      "0.0 0.6644914934985113\n",
      "0.0 2.169545502787029\n",
      "0.0 4.918745465301734\n",
      "0.0 6.3457120194129875\n",
      "0.0 2.1152146259766607\n",
      "0.36 22.806687408135808\n",
      "0.43 8.660930834504752\n",
      "0.47 9.526912453315104\n",
      "0.55 9.336707514891428\n",
      "0.61 26.004919618454963\n",
      "0.71 4.8155310239355895\n",
      "0.77 13.41675988373787\n",
      "0.9 28.826009439004793\n",
      "0.95 5.299182742057548\n",
      "0.96 26.437541148866664\n",
      "1.07 -0.3576709580239008\n",
      "1.12 19.061291458070663\n",
      "1.19 18.074658910855334\n",
      "1.36 32.653818291203976\n",
      "1.43 12.048794861796372\n",
      "1.46 7.647517151972297\n",
      "1.46 21.416579813236595\n",
      "1.56 5.685370865956058\n",
      "1.61 21.65448397412625\n",
      "1.63 2.803511962191683\n",
      "1.64 7.780726979383116\n",
      "1.69 21.24241315017732\n",
      "1.75 11.35085116955232\n",
      "1.9 18.384989258007813\n",
      "1.94 17.486115807806485\n",
      "1.95 16.767850646009506\n",
      "2.01 14.387876406966997\n",
      "2.14 -2.950081389471057\n",
      "2.29 6.328169834736302\n",
      "2.51 18.168574338204174\n",
      "2.53 15.346809187971994\n",
      "2.55 20.222374783550308\n",
      "2.57 16.05079511610802\n",
      "2.69 16.16246363985244\n",
      "2.74 25.011333487303204\n",
      "3.07 10.055535168477201\n",
      "3.5 -3.6601862937138883\n",
      "4.53 8.245783846786148\n",
      "4.61 4.743314090525962\n",
      "4.69 8.573542363034813\n",
      "4.88 2.0591655970477323\n",
      "5.23 14.504445146593193\n",
      "5.33 19.303483150231564\n",
      "5.44 20.88091138709543\n",
      "6.38 0.5040449019246616\n",
      "6.83 8.414173902069534\n",
      "6.96 23.438086064659288\n",
      "7.04 6.74065721450661\n",
      "7.19 13.755453469132258\n",
      "7.3 6.620370888490163\n",
      "7.4 4.207944229048392\n",
      "8.24 7.067446447255284\n",
      "8.31 4.9597984604039755\n",
      "8.68 15.394498919261176\n",
      "8.71 7.713194546525353\n",
      "9.41 21.174606682624017\n",
      "10.01 7.713194546525353\n",
      "10.02 13.843996545772983\n",
      "10.93 4.743314090525962\n",
      "11.06 18.164447432937088\n",
      "11.24 6.258281597608727\n",
      "11.32 13.727279760933131\n",
      "11.53 9.927436086952662\n",
      "12.1 5.399278339214247\n",
      "13.05 -0.557939543332914\n",
      "13.7 18.896024469311058\n",
      "13.99 3.8491389694001743\n",
      "14.57 15.664033965999318\n",
      "15.45 12.82834470501753\n",
      "17.2 20.088986522964426\n",
      "19.23 20.876655560776776\n",
      "23.41 18.057528879436738\n",
      "24.23 13.388721551137019\n",
      "26.0 -7.6564695377905965\n",
      "26.13 11.57806161448393\n",
      "27.35 8.002246101025426\n",
      "28.66 11.082421428168795\n",
      "28.66 11.082421428168795\n",
      "29.48 7.067962716497886\n",
      "30.32 -7.104419758013783\n",
      "31.72 15.066303281165832\n",
      "31.86 9.322447143823714\n",
      "32.07 15.325851691338881\n",
      "35.88 6.820364979305131\n",
      "36.85 2.106429407257968\n",
      "37.02 6.32295875031649\n",
      "37.71 9.27138182119223\n",
      "48.55 22.239858520900945\n",
      "49.37 7.715041327894523\n",
      "58.3 23.452120629279733\n",
      "64.1 28.08105556072151\n",
      "71.3 17.757096747455172\n",
      "88.49 24.1469075794153\n",
      "95.18 21.26391856668925\n",
      "103.39 15.436100277172661\n",
      "105.66 26.455885397110798\n",
      "154.88 16.74182373748132\n",
      "196.48 27.149231747803718\n",
      "200.94 6.353777388076351\n",
      "212.88 5.190752768144437\n",
      "1090.84 27.648188309052934\n",
      "0.0 6.43256786129704\n",
      "0.0 8.359637125837656\n",
      "0.0 15.413859788449747\n",
      "10.13 0.2173153082651904\n",
      "0.0 16.802474226296404\n",
      "2.87 14.421124288843354\n",
      "0.76 22.051417624256814\n",
      "0.09 23.758355460997294\n",
      "0.75 0.8520655902214553\n",
      "0.0 28.32875881610707\n",
      "2.47 6.646646097288597\n",
      "0.68 27.541372115018255\n",
      "0.24 22.78024943180595\n",
      "0.21 17.599915940451616\n",
      "1.52 20.565052680282562\n",
      "10.34 18.42095586455776\n",
      "0.0 7.107566798365065\n",
      "8.02 23.477875344798456\n",
      "0.68 12.588761327721881\n",
      "0.0 4.98814389036963\n",
      "1.38 20.652185457253474\n",
      "8.85 12.026644681251758\n",
      "3.3 0.10114387985218443\n",
      "4.25 10.561381364549215\n",
      "1.56 20.063157825996356\n",
      "6.54 11.379988968510675\n",
      "0.79 10.962866255473932\n",
      "0.17 3.6201608748355856\n",
      "0.0 10.995608249008894\n",
      "0.0 9.48624563595777\n",
      "4.4 4.83944602383327\n",
      "0.52 2.494917567825235\n",
      "9.27 15.172797393411747\n",
      "3.09 4.9587008861376045\n",
      "8.98 16.68219243261175\n",
      "11.19 21.475070360311932\n",
      "5.38 13.003886979563104\n",
      "17.85 22.091630905474375\n",
      "10.73 20.12635867421855\n",
      "22.03 22.091630905474375\n",
      "9.77 22.091630905474375\n",
      "9.27 10.17707452523865\n",
      "24.77 26.839416707762794\n",
      "0.0 -9.683184608751496\n",
      "1.1 -4.092842690748855\n",
      "24.24 1.4494508947282245\n",
      "0.0 23.29337351058323\n",
      "0.0 11.911769626593967\n",
      "0.0 19.06737891314102\n",
      "0.0 23.45103670293129\n",
      "0.0 23.966268645513523\n",
      "0.0 4.681111014001731\n",
      "8.0 25.753775377491806\n",
      "2.64 15.488976735810981\n",
      "86.45 35.61289446646839\n",
      "6.57 11.311740417338116\n",
      "0.0 23.191471211424236\n",
      "0.9 14.025267696559185\n",
      "0.0 20.14335416821754\n",
      "0.0 22.823818767617666\n",
      "0.0 8.709053293357977\n",
      "0.0 22.7910219185151\n",
      "3.52 19.005993995803273\n",
      "0.0 17.92638741834981\n",
      "0.0 17.92638741834981\n",
      "0.0 3.3267047172969217\n",
      "0.0 3.0826281483935585\n",
      "0.41 16.824158671911853\n",
      "5.18 16.435305384359374\n",
      "0.0 1.0746921312457989\n",
      "0.0 13.038596524273602\n",
      "0.0 23.800131622011165\n",
      "14.29 19.846977035548512\n",
      "0.0 1.4888911647731238\n",
      "0.0 22.005221047894977\n",
      "1.58 7.175369515051672\n",
      "0.0 9.554910885029036\n",
      "0.0 15.063262255386105\n",
      "3.78 14.232424471008416\n",
      "0.0 18.34424739412725\n",
      "4.41 20.74473689045587\n",
      "34.36 19.896803620791303\n",
      "7.21 6.046315782692643\n",
      "1.01 16.150911868143417\n",
      "2.18 4.2403918098644215\n",
      "4.42 1.9871422142743445\n",
      "0.0 11.74730451690124\n",
      "0.0 19.522733575301842\n",
      "0.0 17.14161235883102\n",
      "0.0 14.738328665577415\n",
      "3.33 17.831829270080355\n",
      "6.58 15.3996140502412\n",
      "15.64 23.51942868380312\n",
      "11.22 8.336700780049261\n",
      "2.13 -4.370293562306834\n",
      "0.0 3.787738147017821\n",
      "0.0 -11.08958600258979\n",
      "0.0 12.717194124627872\n",
      "56.04 15.790962409036931\n",
      "7.48 20.084446021215804\n",
      "1.47 4.003422035163249\n",
      "3.93 3.1690678975204616\n",
      "0.0 10.54786517628215\n",
      "0.0 12.512410363584683\n",
      "2.18 13.444327515455077\n",
      "6.1 2.7619002106671946\n",
      "5.83 1.3698849847658892\n",
      "28.19 4.467502858769743\n",
      "0.0 -3.94869524183707\n",
      "0.0 3.306641297684182\n",
      "1.64 0.7267675747525697\n",
      "3.71 -3.94869524183707\n",
      "7.31 6.550984458289799\n",
      "2.03 15.849288431407748\n",
      "1.72 13.238303291565257\n",
      "5.97 11.05915216980877\n",
      "13.06 13.38366940964014\n",
      "1.26 13.38366940964014\n",
      "0.0 7.463880888033808\n",
      "0.0 13.08897037242968\n",
      "8.12 4.14754780307184\n",
      "1.09 11.294969375771204\n",
      "3.94 7.354462518011564\n",
      "0.52 1.0313638155348759\n",
      "2.93 2.3488843124607204\n",
      "5.65 15.74889485629833\n",
      "20.03 12.790164057134733\n",
      "1.75 6.363533163549787\n",
      "0.0 7.021354804556653\n",
      "12.64 12.846842374195509\n",
      "0.0 20.18330264265545\n",
      "11.06 25.800884407251225\n",
      "0.0 4.00591115374659\n",
      "0.0 3.8630626453980508\n",
      "0.0 17.430186007733617\n",
      "18.3 15.392011816380398\n",
      "39.35 9.499743861680349\n",
      "0.0 22.739372151204996\n",
      "174.63 17.710573832496436\n",
      "0.0 2.3317943413777567\n",
      "0.0 -19.442507692859703\n",
      "7.73 15.894197071751178\n",
      "16.33 20.201064581442672\n",
      "5.86 28.399146960587707\n",
      "42.87 29.23697814586906\n",
      "12.18 33.56857902918602\n",
      "16.0 15.342525564707751\n",
      "24.59 7.467754049929352\n",
      "0.0 3.0209887761444474\n",
      "28.74 26.507188849353483\n",
      "0.0 28.4724610806093\n",
      "9.96 -4.199716121847191\n",
      "30.18 18.025413981193374\n",
      "70.76 23.705942358525213\n",
      "0.0 4.378334704853687\n",
      "0.0 -11.167424857175513\n",
      "51.78 -6.048796917873663\n",
      "3.64 8.390937143800363\n",
      "3.63 30.017706757555374\n",
      "0.0 22.386118700887195\n",
      "0.0 24.84631088691126\n",
      "8.16 24.84631088691126\n",
      "4.95 9.311976082866652\n",
      "0.0 35.88738790054716\n",
      "0.0 30.361572669695974\n",
      "6.04 9.611513963801658\n",
      "0.0 21.351193923736012\n",
      "3.95 27.977365341425525\n",
      "0.0 3.1878960575850446\n",
      "7.8 25.364507927672094\n",
      "0.0 10.079738178778038\n",
      "0.0 5.716903902887312\n",
      "4.62 7.372126984795129\n",
      "1.63 25.84401450876279\n",
      "0.0 35.818504646038505\n",
      "0.0 26.13632498838694\n",
      "746.28 35.87892521623158\n",
      "7.02 22.87199817121818\n",
      "0.0 10.105081686576037\n",
      "2.44 24.495713442044597\n",
      "3.05 24.10162393376448\n",
      "185.76 35.65241311098607\n",
      "0.0 23.6257467915227\n",
      "6.3 43.22727965841529\n",
      "0.72 5.89395593089805\n",
      "4.96 38.91988321553891\n",
      "0.0 14.118510544760733\n",
      "0.0 27.02308364898235\n",
      "2.35 20.72664663324359\n",
      "0.0 19.736796332914672\n",
      "3.2 23.899053198765046\n",
      "0.0 31.115374628740184\n",
      "6.36 17.09515067356277\n",
      "0.0 32.56564770992197\n",
      "15.34 15.129378009959632\n",
      "0.0 20.06178484922217\n",
      "0.0 13.02955922365757\n",
      "0.54 30.636357215370914\n",
      "0.0 17.902278042355185\n",
      "6.43 19.77197404470332\n",
      "0.33 1.4707112339571093\n",
      "0.0 22.024129966311726\n",
      "1.23 31.404029652122688\n",
      "3.35 2.2918385053608343\n",
      "0.0 -4.975829807349593\n",
      "9.96 16.406548201715943\n",
      "0.0 14.49196881688872\n",
      "0.0 17.860535328897043\n",
      "0.0 -0.02179812879316323\n",
      "0.0 13.862755560641167\n",
      "0.0 24.63536860207263\n",
      "6.43 16.11867696867715\n",
      "9.71 -6.748150386859059\n",
      "0.0 18.948158111423105\n",
      "0.0 18.733277115781256\n",
      "0.0 14.623059490885852\n",
      "0.0 0.9355436653061862\n",
      "0.0 11.368081832471125\n",
      "82.75 11.786457171595787\n",
      "3.32 26.519744267308916\n",
      "1.94 24.768766795156118\n",
      "0.0 14.449875950602332\n",
      "0.0 26.519744267308916\n",
      "3.71 14.823656124054773\n",
      "5.39 -6.985261296519722\n",
      "2.14 -6.827828757621183\n",
      "6.84 -14.389686002834871\n",
      "3.18 2.983793372261397\n",
      "5.55 -0.5758390061407894\n",
      "6.61 8.211346126656002\n",
      "61.13 15.778909600242057\n",
      "0.0 14.455075104552579\n",
      "38.48 13.390049454263531\n",
      "1.94 12.541661126464463\n",
      "70.32 24.752475438669364\n",
      "10.08 18.589279372313946\n",
      "3.19 14.36422810710996\n",
      "1.76 18.3495771940853\n",
      "7.36 16.42342605425069\n",
      "2.21 8.475799283714915\n",
      "278.53 19.921779773704664\n",
      "2.75 35.10255545066083\n",
      "0.0 24.725170413265246\n",
      "1.29 16.694948715164188\n",
      "0.0 35.906120506872384\n",
      "26.43 24.40558493529158\n",
      "2.07 11.31157375189557\n",
      "2.0 15.27622999314048\n",
      "16.4 15.979795102453801\n",
      "46.7 4.811524602101644\n",
      "0.0 1.920792302147726\n",
      "0.0 17.42857861290448\n",
      "0.0 27.822770396952045\n",
      "0.0 20.510141561587353\n",
      "43.32 18.608894605968864\n",
      "8.59 31.44084892721871\n",
      "0.0 14.48564052926348\n",
      "2.77 22.232408196370862\n",
      "14.68 21.303543593442875\n",
      "40.54 29.141514395556264\n",
      "10.82 1.8382890638383866\n",
      "0.0 15.209963869756711\n",
      "0.0 12.966456709329213\n",
      "0.0 6.3366330005056835\n",
      "1.95 11.339403736636667\n",
      "49.59 14.949519708088397\n",
      "5.8 10.818341144980947\n",
      "0.0 6.6337002618779\n",
      "0.0 16.560587842223157\n",
      "0.0 14.038845752623983\n",
      "2.17 12.531337568715825\n",
      "0.43 15.726719278781276\n",
      "0.0 28.51447878058068\n",
      "6.44 20.46304318198171\n",
      "54.29 7.0538597814931965\n",
      "11.16 17.561949964335412\n",
      "0.0 14.119488791888765\n",
      "0.0 29.556629545816115\n"
     ]
    }
   ],
   "source": [
    "y_predicted = regression.predict(train_x)\n",
    "for i in range(0, len(train_x)):\n",
    "    print(train_y[i], y_predicted[i])"
   ]
  },
  {
   "cell_type": "markdown",
   "id": "42ee8844",
   "metadata": {},
   "source": [
    "### Plotting"
   ]
  },
  {
   "cell_type": "code",
   "execution_count": 48,
   "id": "b02b03c9",
   "metadata": {},
   "outputs": [
    {
     "data": {
      "text/plain": [
       "Text(0.5, 0, 'area')"
      ]
     },
     "execution_count": 48,
     "metadata": {},
     "output_type": "execute_result"
    },
    {
     "data": {
      "image/png": "[encoded data removed]",
      "text/plain": [
       "<Figure size 432x288 with 1 Axes>"
      ]
     },
     "metadata": {
      "needs_background": "light"
     },
     "output_type": "display_data"
    }
   ],
   "source": [
    "from mpl_toolkits.mplot3d import Axes3D\n",
    "fig = plt.figure(1)\n",
    "ax = fig.add_subplot(111, projection='3d')\n",
    "ax.scatter(train_x[:,0], train_x[:, 1], y_predicted)\n",
    "ax.set_xlabel('X')\n",
    "ax.set_ylabel('Y')\n",
    "ax.set_zlabel('area')"
   ]
  },
  {
   "cell_type": "markdown",
   "id": "c69cf498",
   "metadata": {},
   "source": [
    "### Metrics"
   ]
  },
  {
   "cell_type": "code",
   "execution_count": 49,
   "id": "bfd3c5cd",
   "metadata": {},
   "outputs": [
    {
     "name": "stdout",
     "output_type": "stream",
     "text": [
      "Mean Absolute Error:  19.30993916466936\n",
      "Mean Squared Error:  3947.2655536056095\n"
     ]
    }
   ],
   "source": [
    "print(\"Mean Absolute Error: \", metrics.mean_absolute_error(train_y, y_predicted))\n",
    "print(\"Mean Squared Error: \", metrics.mean_squared_error(train_y, y_predicted))"
   ]
  },
  {
   "cell_type": "code",
   "execution_count": 50,
   "id": "6cbe5567",
   "metadata": {},
   "outputs": [
    {
     "name": "stdout",
     "output_type": "stream",
     "text": [
      "Root Mean Squared Error:  62.82726759620865\n"
     ]
    }
   ],
   "source": [
    "print(\"Root Mean Squared Error: \", np.sqrt(metrics.mean_squared_error(train_y, y_predicted)))"
   ]
  },
  {
   "cell_type": "markdown",
   "id": "de5fa4f9",
   "metadata": {},
   "source": [
    "# A new dataset (Part 2)"
   ]
  },
  {
   "cell_type": "code",
   "execution_count": 51,
   "id": "19bb39ad",
   "metadata": {},
   "outputs": [
    {
     "data": {
      "text/html": [
       "<div>\n",
       "<style scoped>\n",
       "    .dataframe tbody tr th:only-of-type {\n",
       "        vertical-align: middle;\n",
       "    }\n",
       "\n",
       "    .dataframe tbody tr th {\n",
       "        vertical-align: top;\n",
       "    }\n",
       "\n",
       "    .dataframe thead th {\n",
       "        text-align: right;\n",
       "    }\n",
       "</style>\n",
       "<table border=\"1\" class=\"dataframe\">\n",
       "  <thead>\n",
       "    <tr style=\"text-align: right;\">\n",
       "      <th></th>\n",
       "      <th>Id</th>\n",
       "      <th>SepalLengthCm</th>\n",
       "      <th>SepalWidthCm</th>\n",
       "      <th>PetalLengthCm</th>\n",
       "      <th>PetalWidthCm</th>\n",
       "      <th>Species</th>\n",
       "    </tr>\n",
       "  </thead>\n",
       "  <tbody>\n",
       "    <tr>\n",
       "      <th>0</th>\n",
       "      <td>1</td>\n",
       "      <td>5.1</td>\n",
       "      <td>3.5</td>\n",
       "      <td>1.4</td>\n",
       "      <td>0.2</td>\n",
       "      <td>Iris-setosa</td>\n",
       "    </tr>\n",
       "    <tr>\n",
       "      <th>1</th>\n",
       "      <td>2</td>\n",
       "      <td>4.9</td>\n",
       "      <td>3.0</td>\n",
       "      <td>1.4</td>\n",
       "      <td>0.2</td>\n",
       "      <td>Iris-setosa</td>\n",
       "    </tr>\n",
       "    <tr>\n",
       "      <th>2</th>\n",
       "      <td>3</td>\n",
       "      <td>4.7</td>\n",
       "      <td>3.2</td>\n",
       "      <td>1.3</td>\n",
       "      <td>0.2</td>\n",
       "      <td>Iris-setosa</td>\n",
       "    </tr>\n",
       "    <tr>\n",
       "      <th>3</th>\n",
       "      <td>4</td>\n",
       "      <td>4.6</td>\n",
       "      <td>3.1</td>\n",
       "      <td>1.5</td>\n",
       "      <td>0.2</td>\n",
       "      <td>Iris-setosa</td>\n",
       "    </tr>\n",
       "    <tr>\n",
       "      <th>4</th>\n",
       "      <td>5</td>\n",
       "      <td>5.0</td>\n",
       "      <td>3.6</td>\n",
       "      <td>1.4</td>\n",
       "      <td>0.2</td>\n",
       "      <td>Iris-setosa</td>\n",
       "    </tr>\n",
       "    <tr>\n",
       "      <th>...</th>\n",
       "      <td>...</td>\n",
       "      <td>...</td>\n",
       "      <td>...</td>\n",
       "      <td>...</td>\n",
       "      <td>...</td>\n",
       "      <td>...</td>\n",
       "    </tr>\n",
       "    <tr>\n",
       "      <th>145</th>\n",
       "      <td>146</td>\n",
       "      <td>6.7</td>\n",
       "      <td>3.0</td>\n",
       "      <td>5.2</td>\n",
       "      <td>2.3</td>\n",
       "      <td>Iris-virginica</td>\n",
       "    </tr>\n",
       "    <tr>\n",
       "      <th>146</th>\n",
       "      <td>147</td>\n",
       "      <td>6.3</td>\n",
       "      <td>2.5</td>\n",
       "      <td>5.0</td>\n",
       "      <td>1.9</td>\n",
       "      <td>Iris-virginica</td>\n",
       "    </tr>\n",
       "    <tr>\n",
       "      <th>147</th>\n",
       "      <td>148</td>\n",
       "      <td>6.5</td>\n",
       "      <td>3.0</td>\n",
       "      <td>5.2</td>\n",
       "      <td>2.0</td>\n",
       "      <td>Iris-virginica</td>\n",
       "    </tr>\n",
       "    <tr>\n",
       "      <th>148</th>\n",
       "      <td>149</td>\n",
       "      <td>6.2</td>\n",
       "      <td>3.4</td>\n",
       "      <td>5.4</td>\n",
       "      <td>2.3</td>\n",
       "      <td>Iris-virginica</td>\n",
       "    </tr>\n",
       "    <tr>\n",
       "      <th>149</th>\n",
       "      <td>150</td>\n",
       "      <td>5.9</td>\n",
       "      <td>3.0</td>\n",
       "      <td>5.1</td>\n",
       "      <td>1.8</td>\n",
       "      <td>Iris-virginica</td>\n",
       "    </tr>\n",
       "  </tbody>\n",
       "</table>\n",
       "<p>150 rows × 6 columns</p>\n",
       "</div>"
      ],
      "text/plain": [
       "      Id  SepalLengthCm  SepalWidthCm  PetalLengthCm  PetalWidthCm  \\\n",
       "0      1            5.1           3.5            1.4           0.2   \n",
       "1      2            4.9           3.0            1.4           0.2   \n",
       "2      3            4.7           3.2            1.3           0.2   \n",
       "3      4            4.6           3.1            1.5           0.2   \n",
       "4      5            5.0           3.6            1.4           0.2   \n",
       "..   ...            ...           ...            ...           ...   \n",
       "145  146            6.7           3.0            5.2           2.3   \n",
       "146  147            6.3           2.5            5.0           1.9   \n",
       "147  148            6.5           3.0            5.2           2.0   \n",
       "148  149            6.2           3.4            5.4           2.3   \n",
       "149  150            5.9           3.0            5.1           1.8   \n",
       "\n",
       "            Species  \n",
       "0       Iris-setosa  \n",
       "1       Iris-setosa  \n",
       "2       Iris-setosa  \n",
       "3       Iris-setosa  \n",
       "4       Iris-setosa  \n",
       "..              ...  \n",
       "145  Iris-virginica  \n",
       "146  Iris-virginica  \n",
       "147  Iris-virginica  \n",
       "148  Iris-virginica  \n",
       "149  Iris-virginica  \n",
       "\n",
       "[150 rows x 6 columns]"
      ]
     },
     "execution_count": 51,
     "metadata": {},
     "output_type": "execute_result"
    }
   ],
   "source": [
    "# Loading the IRIS dataset - it is a dataset on the iris species \n",
    "# Dataset acquired from https://www.kaggle.com/vik2012kvs/iris-dataset/tasks?taskId=2513\n",
    "df = pd.read_csv(\"Iris.csv\")\n",
    "df"
   ]
  },
  {
   "cell_type": "code",
   "execution_count": 52,
   "id": "6f46dab8",
   "metadata": {},
   "outputs": [
    {
     "data": {
      "text/plain": [
       "array(['Iris-setosa', 'Iris-versicolor', 'Iris-virginica'], dtype=object)"
      ]
     },
     "execution_count": 52,
     "metadata": {},
     "output_type": "execute_result"
    }
   ],
   "source": [
    "# The last column Species contains object data type. As mentioned above, convert Species entries to numerical\n",
    "df[\"Species\"].unique()"
   ]
  },
  {
   "cell_type": "code",
   "execution_count": 53,
   "id": "1b750084",
   "metadata": {},
   "outputs": [
    {
     "data": {
      "text/html": [
       "<div>\n",
       "<style scoped>\n",
       "    .dataframe tbody tr th:only-of-type {\n",
       "        vertical-align: middle;\n",
       "    }\n",
       "\n",
       "    .dataframe tbody tr th {\n",
       "        vertical-align: top;\n",
       "    }\n",
       "\n",
       "    .dataframe thead th {\n",
       "        text-align: right;\n",
       "    }\n",
       "</style>\n",
       "<table border=\"1\" class=\"dataframe\">\n",
       "  <thead>\n",
       "    <tr style=\"text-align: right;\">\n",
       "      <th></th>\n",
       "      <th>Id</th>\n",
       "      <th>SepalLengthCm</th>\n",
       "      <th>SepalWidthCm</th>\n",
       "      <th>PetalLengthCm</th>\n",
       "      <th>PetalWidthCm</th>\n",
       "      <th>Species</th>\n",
       "    </tr>\n",
       "  </thead>\n",
       "  <tbody>\n",
       "    <tr>\n",
       "      <th>0</th>\n",
       "      <td>1</td>\n",
       "      <td>5.1</td>\n",
       "      <td>3.5</td>\n",
       "      <td>1.4</td>\n",
       "      <td>0.2</td>\n",
       "      <td>1</td>\n",
       "    </tr>\n",
       "    <tr>\n",
       "      <th>1</th>\n",
       "      <td>2</td>\n",
       "      <td>4.9</td>\n",
       "      <td>3.0</td>\n",
       "      <td>1.4</td>\n",
       "      <td>0.2</td>\n",
       "      <td>1</td>\n",
       "    </tr>\n",
       "    <tr>\n",
       "      <th>2</th>\n",
       "      <td>3</td>\n",
       "      <td>4.7</td>\n",
       "      <td>3.2</td>\n",
       "      <td>1.3</td>\n",
       "      <td>0.2</td>\n",
       "      <td>1</td>\n",
       "    </tr>\n",
       "    <tr>\n",
       "      <th>3</th>\n",
       "      <td>4</td>\n",
       "      <td>4.6</td>\n",
       "      <td>3.1</td>\n",
       "      <td>1.5</td>\n",
       "      <td>0.2</td>\n",
       "      <td>1</td>\n",
       "    </tr>\n",
       "    <tr>\n",
       "      <th>4</th>\n",
       "      <td>5</td>\n",
       "      <td>5.0</td>\n",
       "      <td>3.6</td>\n",
       "      <td>1.4</td>\n",
       "      <td>0.2</td>\n",
       "      <td>1</td>\n",
       "    </tr>\n",
       "  </tbody>\n",
       "</table>\n",
       "</div>"
      ],
      "text/plain": [
       "   Id  SepalLengthCm  SepalWidthCm  PetalLengthCm  PetalWidthCm  Species\n",
       "0   1            5.1           3.5            1.4           0.2        1\n",
       "1   2            4.9           3.0            1.4           0.2        1\n",
       "2   3            4.7           3.2            1.3           0.2        1\n",
       "3   4            4.6           3.1            1.5           0.2        1\n",
       "4   5            5.0           3.6            1.4           0.2        1"
      ]
     },
     "execution_count": 53,
     "metadata": {},
     "output_type": "execute_result"
    }
   ],
   "source": [
    "# There are 3 unique values in the column Species to be assigned a numberical value - 1, 2, 3\n",
    "df.Species.replace(('Iris-setosa', 'Iris-versicolor', 'Iris-virginica'), (1,2,3), inplace=True)\n",
    "df.head()"
   ]
  },
  {
   "cell_type": "code",
   "execution_count": 54,
   "id": "6aac4a00",
   "metadata": {},
   "outputs": [
    {
     "name": "stdout",
     "output_type": "stream",
     "text": [
      "<class 'pandas.core.frame.DataFrame'>\n",
      "RangeIndex: 150 entries, 0 to 149\n",
      "Data columns (total 6 columns):\n",
      " #   Column         Non-Null Count  Dtype  \n",
      "---  ------         --------------  -----  \n",
      " 0   Id             150 non-null    int64  \n",
      " 1   SepalLengthCm  150 non-null    float64\n",
      " 2   SepalWidthCm   150 non-null    float64\n",
      " 3   PetalLengthCm  150 non-null    float64\n",
      " 4   PetalWidthCm   150 non-null    float64\n",
      " 5   Species        150 non-null    int64  \n",
      "dtypes: float64(4), int64(2)\n",
      "memory usage: 7.2 KB\n",
      "None\n"
     ]
    }
   ],
   "source": [
    "# The dataset is now entirely numerical\n",
    "print(df.info())"
   ]
  },
  {
   "cell_type": "code",
   "execution_count": 55,
   "id": "c394c464",
   "metadata": {},
   "outputs": [
    {
     "name": "stdout",
     "output_type": "stream",
     "text": [
      "Id               0\n",
      "SepalLengthCm    0\n",
      "SepalWidthCm     0\n",
      "PetalLengthCm    0\n",
      "PetalWidthCm     0\n",
      "Species          0\n",
      "dtype: int64\n"
     ]
    }
   ],
   "source": [
    "# Clean the dataset\n",
    "# The dataset is already fully clean as there are no NaN values\n",
    "print(df.isnull().sum())"
   ]
  },
  {
   "cell_type": "markdown",
   "id": "7db4102a",
   "metadata": {},
   "source": [
    "## Training the dataset"
   ]
  },
  {
   "cell_type": "code",
   "execution_count": 56,
   "id": "a953946f",
   "metadata": {},
   "outputs": [
    {
     "data": {
      "text/plain": [
       "array([[1.00e+00, 5.10e+00, 3.50e+00, 1.40e+00, 2.00e-01, 1.00e+00],\n",
       "       [2.00e+00, 4.90e+00, 3.00e+00, 1.40e+00, 2.00e-01, 1.00e+00],\n",
       "       [3.00e+00, 4.70e+00, 3.20e+00, 1.30e+00, 2.00e-01, 1.00e+00],\n",
       "       [4.00e+00, 4.60e+00, 3.10e+00, 1.50e+00, 2.00e-01, 1.00e+00],\n",
       "       [5.00e+00, 5.00e+00, 3.60e+00, 1.40e+00, 2.00e-01, 1.00e+00],\n",
       "       [6.00e+00, 5.40e+00, 3.90e+00, 1.70e+00, 4.00e-01, 1.00e+00],\n",
       "       [7.00e+00, 4.60e+00, 3.40e+00, 1.40e+00, 3.00e-01, 1.00e+00],\n",
       "       [8.00e+00, 5.00e+00, 3.40e+00, 1.50e+00, 2.00e-01, 1.00e+00],\n",
       "       [9.00e+00, 4.40e+00, 2.90e+00, 1.40e+00, 2.00e-01, 1.00e+00],\n",
       "       [1.00e+01, 4.90e+00, 3.10e+00, 1.50e+00, 1.00e-01, 1.00e+00],\n",
       "       [1.10e+01, 5.40e+00, 3.70e+00, 1.50e+00, 2.00e-01, 1.00e+00],\n",
       "       [1.20e+01, 4.80e+00, 3.40e+00, 1.60e+00, 2.00e-01, 1.00e+00],\n",
       "       [1.30e+01, 4.80e+00, 3.00e+00, 1.40e+00, 1.00e-01, 1.00e+00],\n",
       "       [1.40e+01, 4.30e+00, 3.00e+00, 1.10e+00, 1.00e-01, 1.00e+00],\n",
       "       [1.50e+01, 5.80e+00, 4.00e+00, 1.20e+00, 2.00e-01, 1.00e+00],\n",
       "       [1.60e+01, 5.70e+00, 4.40e+00, 1.50e+00, 4.00e-01, 1.00e+00],\n",
       "       [1.70e+01, 5.40e+00, 3.90e+00, 1.30e+00, 4.00e-01, 1.00e+00],\n",
       "       [1.80e+01, 5.10e+00, 3.50e+00, 1.40e+00, 3.00e-01, 1.00e+00],\n",
       "       [1.90e+01, 5.70e+00, 3.80e+00, 1.70e+00, 3.00e-01, 1.00e+00],\n",
       "       [2.00e+01, 5.10e+00, 3.80e+00, 1.50e+00, 3.00e-01, 1.00e+00],\n",
       "       [2.10e+01, 5.40e+00, 3.40e+00, 1.70e+00, 2.00e-01, 1.00e+00],\n",
       "       [2.20e+01, 5.10e+00, 3.70e+00, 1.50e+00, 4.00e-01, 1.00e+00],\n",
       "       [2.30e+01, 4.60e+00, 3.60e+00, 1.00e+00, 2.00e-01, 1.00e+00],\n",
       "       [2.40e+01, 5.10e+00, 3.30e+00, 1.70e+00, 5.00e-01, 1.00e+00],\n",
       "       [2.50e+01, 4.80e+00, 3.40e+00, 1.90e+00, 2.00e-01, 1.00e+00],\n",
       "       [2.60e+01, 5.00e+00, 3.00e+00, 1.60e+00, 2.00e-01, 1.00e+00],\n",
       "       [2.70e+01, 5.00e+00, 3.40e+00, 1.60e+00, 4.00e-01, 1.00e+00],\n",
       "       [2.80e+01, 5.20e+00, 3.50e+00, 1.50e+00, 2.00e-01, 1.00e+00],\n",
       "       [2.90e+01, 5.20e+00, 3.40e+00, 1.40e+00, 2.00e-01, 1.00e+00],\n",
       "       [3.00e+01, 4.70e+00, 3.20e+00, 1.60e+00, 2.00e-01, 1.00e+00],\n",
       "       [3.10e+01, 4.80e+00, 3.10e+00, 1.60e+00, 2.00e-01, 1.00e+00],\n",
       "       [3.20e+01, 5.40e+00, 3.40e+00, 1.50e+00, 4.00e-01, 1.00e+00],\n",
       "       [3.30e+01, 5.20e+00, 4.10e+00, 1.50e+00, 1.00e-01, 1.00e+00],\n",
       "       [3.40e+01, 5.50e+00, 4.20e+00, 1.40e+00, 2.00e-01, 1.00e+00],\n",
       "       [3.50e+01, 4.90e+00, 3.10e+00, 1.50e+00, 1.00e-01, 1.00e+00],\n",
       "       [3.60e+01, 5.00e+00, 3.20e+00, 1.20e+00, 2.00e-01, 1.00e+00],\n",
       "       [3.70e+01, 5.50e+00, 3.50e+00, 1.30e+00, 2.00e-01, 1.00e+00],\n",
       "       [3.80e+01, 4.90e+00, 3.10e+00, 1.50e+00, 1.00e-01, 1.00e+00],\n",
       "       [3.90e+01, 4.40e+00, 3.00e+00, 1.30e+00, 2.00e-01, 1.00e+00],\n",
       "       [4.00e+01, 5.10e+00, 3.40e+00, 1.50e+00, 2.00e-01, 1.00e+00],\n",
       "       [4.10e+01, 5.00e+00, 3.50e+00, 1.30e+00, 3.00e-01, 1.00e+00],\n",
       "       [4.20e+01, 4.50e+00, 2.30e+00, 1.30e+00, 3.00e-01, 1.00e+00],\n",
       "       [4.30e+01, 4.40e+00, 3.20e+00, 1.30e+00, 2.00e-01, 1.00e+00],\n",
       "       [4.40e+01, 5.00e+00, 3.50e+00, 1.60e+00, 6.00e-01, 1.00e+00],\n",
       "       [4.50e+01, 5.10e+00, 3.80e+00, 1.90e+00, 4.00e-01, 1.00e+00],\n",
       "       [4.60e+01, 4.80e+00, 3.00e+00, 1.40e+00, 3.00e-01, 1.00e+00],\n",
       "       [4.70e+01, 5.10e+00, 3.80e+00, 1.60e+00, 2.00e-01, 1.00e+00],\n",
       "       [4.80e+01, 4.60e+00, 3.20e+00, 1.40e+00, 2.00e-01, 1.00e+00],\n",
       "       [4.90e+01, 5.30e+00, 3.70e+00, 1.50e+00, 2.00e-01, 1.00e+00],\n",
       "       [5.00e+01, 5.00e+00, 3.30e+00, 1.40e+00, 2.00e-01, 1.00e+00],\n",
       "       [5.10e+01, 7.00e+00, 3.20e+00, 4.70e+00, 1.40e+00, 2.00e+00],\n",
       "       [5.20e+01, 6.40e+00, 3.20e+00, 4.50e+00, 1.50e+00, 2.00e+00],\n",
       "       [5.30e+01, 6.90e+00, 3.10e+00, 4.90e+00, 1.50e+00, 2.00e+00],\n",
       "       [5.40e+01, 5.50e+00, 2.30e+00, 4.00e+00, 1.30e+00, 2.00e+00],\n",
       "       [5.50e+01, 6.50e+00, 2.80e+00, 4.60e+00, 1.50e+00, 2.00e+00],\n",
       "       [5.60e+01, 5.70e+00, 2.80e+00, 4.50e+00, 1.30e+00, 2.00e+00],\n",
       "       [5.70e+01, 6.30e+00, 3.30e+00, 4.70e+00, 1.60e+00, 2.00e+00],\n",
       "       [5.80e+01, 4.90e+00, 2.40e+00, 3.30e+00, 1.00e+00, 2.00e+00],\n",
       "       [5.90e+01, 6.60e+00, 2.90e+00, 4.60e+00, 1.30e+00, 2.00e+00],\n",
       "       [6.00e+01, 5.20e+00, 2.70e+00, 3.90e+00, 1.40e+00, 2.00e+00],\n",
       "       [6.10e+01, 5.00e+00, 2.00e+00, 3.50e+00, 1.00e+00, 2.00e+00],\n",
       "       [6.20e+01, 5.90e+00, 3.00e+00, 4.20e+00, 1.50e+00, 2.00e+00],\n",
       "       [6.30e+01, 6.00e+00, 2.20e+00, 4.00e+00, 1.00e+00, 2.00e+00],\n",
       "       [6.40e+01, 6.10e+00, 2.90e+00, 4.70e+00, 1.40e+00, 2.00e+00],\n",
       "       [6.50e+01, 5.60e+00, 2.90e+00, 3.60e+00, 1.30e+00, 2.00e+00],\n",
       "       [6.60e+01, 6.70e+00, 3.10e+00, 4.40e+00, 1.40e+00, 2.00e+00],\n",
       "       [6.70e+01, 5.60e+00, 3.00e+00, 4.50e+00, 1.50e+00, 2.00e+00],\n",
       "       [6.80e+01, 5.80e+00, 2.70e+00, 4.10e+00, 1.00e+00, 2.00e+00],\n",
       "       [6.90e+01, 6.20e+00, 2.20e+00, 4.50e+00, 1.50e+00, 2.00e+00],\n",
       "       [7.00e+01, 5.60e+00, 2.50e+00, 3.90e+00, 1.10e+00, 2.00e+00],\n",
       "       [7.10e+01, 5.90e+00, 3.20e+00, 4.80e+00, 1.80e+00, 2.00e+00],\n",
       "       [7.20e+01, 6.10e+00, 2.80e+00, 4.00e+00, 1.30e+00, 2.00e+00],\n",
       "       [7.30e+01, 6.30e+00, 2.50e+00, 4.90e+00, 1.50e+00, 2.00e+00],\n",
       "       [7.40e+01, 6.10e+00, 2.80e+00, 4.70e+00, 1.20e+00, 2.00e+00],\n",
       "       [7.50e+01, 6.40e+00, 2.90e+00, 4.30e+00, 1.30e+00, 2.00e+00],\n",
       "       [7.60e+01, 6.60e+00, 3.00e+00, 4.40e+00, 1.40e+00, 2.00e+00],\n",
       "       [7.70e+01, 6.80e+00, 2.80e+00, 4.80e+00, 1.40e+00, 2.00e+00],\n",
       "       [7.80e+01, 6.70e+00, 3.00e+00, 5.00e+00, 1.70e+00, 2.00e+00],\n",
       "       [7.90e+01, 6.00e+00, 2.90e+00, 4.50e+00, 1.50e+00, 2.00e+00],\n",
       "       [8.00e+01, 5.70e+00, 2.60e+00, 3.50e+00, 1.00e+00, 2.00e+00],\n",
       "       [8.10e+01, 5.50e+00, 2.40e+00, 3.80e+00, 1.10e+00, 2.00e+00],\n",
       "       [8.20e+01, 5.50e+00, 2.40e+00, 3.70e+00, 1.00e+00, 2.00e+00],\n",
       "       [8.30e+01, 5.80e+00, 2.70e+00, 3.90e+00, 1.20e+00, 2.00e+00],\n",
       "       [8.40e+01, 6.00e+00, 2.70e+00, 5.10e+00, 1.60e+00, 2.00e+00],\n",
       "       [8.50e+01, 5.40e+00, 3.00e+00, 4.50e+00, 1.50e+00, 2.00e+00],\n",
       "       [8.60e+01, 6.00e+00, 3.40e+00, 4.50e+00, 1.60e+00, 2.00e+00],\n",
       "       [8.70e+01, 6.70e+00, 3.10e+00, 4.70e+00, 1.50e+00, 2.00e+00],\n",
       "       [8.80e+01, 6.30e+00, 2.30e+00, 4.40e+00, 1.30e+00, 2.00e+00],\n",
       "       [8.90e+01, 5.60e+00, 3.00e+00, 4.10e+00, 1.30e+00, 2.00e+00],\n",
       "       [9.00e+01, 5.50e+00, 2.50e+00, 4.00e+00, 1.30e+00, 2.00e+00],\n",
       "       [9.10e+01, 5.50e+00, 2.60e+00, 4.40e+00, 1.20e+00, 2.00e+00],\n",
       "       [9.20e+01, 6.10e+00, 3.00e+00, 4.60e+00, 1.40e+00, 2.00e+00],\n",
       "       [9.30e+01, 5.80e+00, 2.60e+00, 4.00e+00, 1.20e+00, 2.00e+00],\n",
       "       [9.40e+01, 5.00e+00, 2.30e+00, 3.30e+00, 1.00e+00, 2.00e+00],\n",
       "       [9.50e+01, 5.60e+00, 2.70e+00, 4.20e+00, 1.30e+00, 2.00e+00],\n",
       "       [9.60e+01, 5.70e+00, 3.00e+00, 4.20e+00, 1.20e+00, 2.00e+00],\n",
       "       [9.70e+01, 5.70e+00, 2.90e+00, 4.20e+00, 1.30e+00, 2.00e+00],\n",
       "       [9.80e+01, 6.20e+00, 2.90e+00, 4.30e+00, 1.30e+00, 2.00e+00],\n",
       "       [9.90e+01, 5.10e+00, 2.50e+00, 3.00e+00, 1.10e+00, 2.00e+00],\n",
       "       [1.00e+02, 5.70e+00, 2.80e+00, 4.10e+00, 1.30e+00, 2.00e+00],\n",
       "       [1.01e+02, 6.30e+00, 3.30e+00, 6.00e+00, 2.50e+00, 3.00e+00],\n",
       "       [1.02e+02, 5.80e+00, 2.70e+00, 5.10e+00, 1.90e+00, 3.00e+00],\n",
       "       [1.03e+02, 7.10e+00, 3.00e+00, 5.90e+00, 2.10e+00, 3.00e+00],\n",
       "       [1.04e+02, 6.30e+00, 2.90e+00, 5.60e+00, 1.80e+00, 3.00e+00],\n",
       "       [1.05e+02, 6.50e+00, 3.00e+00, 5.80e+00, 2.20e+00, 3.00e+00],\n",
       "       [1.06e+02, 7.60e+00, 3.00e+00, 6.60e+00, 2.10e+00, 3.00e+00],\n",
       "       [1.07e+02, 4.90e+00, 2.50e+00, 4.50e+00, 1.70e+00, 3.00e+00],\n",
       "       [1.08e+02, 7.30e+00, 2.90e+00, 6.30e+00, 1.80e+00, 3.00e+00],\n",
       "       [1.09e+02, 6.70e+00, 2.50e+00, 5.80e+00, 1.80e+00, 3.00e+00],\n",
       "       [1.10e+02, 7.20e+00, 3.60e+00, 6.10e+00, 2.50e+00, 3.00e+00],\n",
       "       [1.11e+02, 6.50e+00, 3.20e+00, 5.10e+00, 2.00e+00, 3.00e+00],\n",
       "       [1.12e+02, 6.40e+00, 2.70e+00, 5.30e+00, 1.90e+00, 3.00e+00],\n",
       "       [1.13e+02, 6.80e+00, 3.00e+00, 5.50e+00, 2.10e+00, 3.00e+00],\n",
       "       [1.14e+02, 5.70e+00, 2.50e+00, 5.00e+00, 2.00e+00, 3.00e+00],\n",
       "       [1.15e+02, 5.80e+00, 2.80e+00, 5.10e+00, 2.40e+00, 3.00e+00],\n",
       "       [1.16e+02, 6.40e+00, 3.20e+00, 5.30e+00, 2.30e+00, 3.00e+00],\n",
       "       [1.17e+02, 6.50e+00, 3.00e+00, 5.50e+00, 1.80e+00, 3.00e+00],\n",
       "       [1.18e+02, 7.70e+00, 3.80e+00, 6.70e+00, 2.20e+00, 3.00e+00],\n",
       "       [1.19e+02, 7.70e+00, 2.60e+00, 6.90e+00, 2.30e+00, 3.00e+00],\n",
       "       [1.20e+02, 6.00e+00, 2.20e+00, 5.00e+00, 1.50e+00, 3.00e+00],\n",
       "       [1.21e+02, 6.90e+00, 3.20e+00, 5.70e+00, 2.30e+00, 3.00e+00],\n",
       "       [1.22e+02, 5.60e+00, 2.80e+00, 4.90e+00, 2.00e+00, 3.00e+00],\n",
       "       [1.23e+02, 7.70e+00, 2.80e+00, 6.70e+00, 2.00e+00, 3.00e+00],\n",
       "       [1.24e+02, 6.30e+00, 2.70e+00, 4.90e+00, 1.80e+00, 3.00e+00],\n",
       "       [1.25e+02, 6.70e+00, 3.30e+00, 5.70e+00, 2.10e+00, 3.00e+00],\n",
       "       [1.26e+02, 7.20e+00, 3.20e+00, 6.00e+00, 1.80e+00, 3.00e+00],\n",
       "       [1.27e+02, 6.20e+00, 2.80e+00, 4.80e+00, 1.80e+00, 3.00e+00],\n",
       "       [1.28e+02, 6.10e+00, 3.00e+00, 4.90e+00, 1.80e+00, 3.00e+00],\n",
       "       [1.29e+02, 6.40e+00, 2.80e+00, 5.60e+00, 2.10e+00, 3.00e+00],\n",
       "       [1.30e+02, 7.20e+00, 3.00e+00, 5.80e+00, 1.60e+00, 3.00e+00],\n",
       "       [1.31e+02, 7.40e+00, 2.80e+00, 6.10e+00, 1.90e+00, 3.00e+00],\n",
       "       [1.32e+02, 7.90e+00, 3.80e+00, 6.40e+00, 2.00e+00, 3.00e+00],\n",
       "       [1.33e+02, 6.40e+00, 2.80e+00, 5.60e+00, 2.20e+00, 3.00e+00],\n",
       "       [1.34e+02, 6.30e+00, 2.80e+00, 5.10e+00, 1.50e+00, 3.00e+00],\n",
       "       [1.35e+02, 6.10e+00, 2.60e+00, 5.60e+00, 1.40e+00, 3.00e+00],\n",
       "       [1.36e+02, 7.70e+00, 3.00e+00, 6.10e+00, 2.30e+00, 3.00e+00],\n",
       "       [1.37e+02, 6.30e+00, 3.40e+00, 5.60e+00, 2.40e+00, 3.00e+00],\n",
       "       [1.38e+02, 6.40e+00, 3.10e+00, 5.50e+00, 1.80e+00, 3.00e+00],\n",
       "       [1.39e+02, 6.00e+00, 3.00e+00, 4.80e+00, 1.80e+00, 3.00e+00],\n",
       "       [1.40e+02, 6.90e+00, 3.10e+00, 5.40e+00, 2.10e+00, 3.00e+00],\n",
       "       [1.41e+02, 6.70e+00, 3.10e+00, 5.60e+00, 2.40e+00, 3.00e+00],\n",
       "       [1.42e+02, 6.90e+00, 3.10e+00, 5.10e+00, 2.30e+00, 3.00e+00],\n",
       "       [1.43e+02, 5.80e+00, 2.70e+00, 5.10e+00, 1.90e+00, 3.00e+00],\n",
       "       [1.44e+02, 6.80e+00, 3.20e+00, 5.90e+00, 2.30e+00, 3.00e+00],\n",
       "       [1.45e+02, 6.70e+00, 3.30e+00, 5.70e+00, 2.50e+00, 3.00e+00],\n",
       "       [1.46e+02, 6.70e+00, 3.00e+00, 5.20e+00, 2.30e+00, 3.00e+00],\n",
       "       [1.47e+02, 6.30e+00, 2.50e+00, 5.00e+00, 1.90e+00, 3.00e+00],\n",
       "       [1.48e+02, 6.50e+00, 3.00e+00, 5.20e+00, 2.00e+00, 3.00e+00],\n",
       "       [1.49e+02, 6.20e+00, 3.40e+00, 5.40e+00, 2.30e+00, 3.00e+00],\n",
       "       [1.50e+02, 5.90e+00, 3.00e+00, 5.10e+00, 1.80e+00, 3.00e+00]])"
      ]
     },
     "execution_count": 56,
     "metadata": {},
     "output_type": "execute_result"
    }
   ],
   "source": [
    "regression = linear_model.LinearRegression()\n",
    "d = df.values\n",
    "d"
   ]
  },
  {
   "cell_type": "code",
   "execution_count": 57,
   "id": "47ff63f0",
   "metadata": {},
   "outputs": [
    {
     "name": "stdout",
     "output_type": "stream",
     "text": [
      "(150, 5)\n",
      "(150,)\n"
     ]
    }
   ],
   "source": [
    "train_x = (d[:,0:5])\n",
    "train_y = d[:,5]\n",
    "print(train_x.shape)\n",
    "print(train_y.shape)\n",
    "# The last column Species is the label"
   ]
  },
  {
   "cell_type": "code",
   "execution_count": 58,
   "id": "8ee353a7",
   "metadata": {},
   "outputs": [
    {
     "name": "stdout",
     "output_type": "stream",
     "text": [
      "Coefficients:  [ 0.00735954 -0.0606373  -0.02095417  0.16558388  0.33077127]\n",
      "Intercept:  0.8438139692499476\n"
     ]
    }
   ],
   "source": [
    "regression.fit(train_x, train_y)\n",
    "print('Coefficients: ', regression.coef_)\n",
    "print('Intercept: ', regression.intercept_)"
   ]
  },
  {
   "cell_type": "code",
   "execution_count": 59,
   "id": "b434cbbe",
   "metadata": {},
   "outputs": [
    {
     "name": "stdout",
     "output_type": "stream",
     "text": [
      "1.0 0.7665553589981199\n",
      "1.0 0.7965194408432106\n",
      "1.0 0.7952572136170649\n",
      "1.0 0.84389267142241\n",
      "1.0 0.7999618136052327\n",
      "1.0 0.8926095939037891\n",
      "1.0 0.876203764996631\n",
      "1.0 0.842789642548912\n",
      "1.0 0.8804502558359435\n",
      "1.0 0.836781568920639\n",
      "1.0 0.8343270781226588\n",
      "1.0 0.9009136318375301\n",
      "1.0 0.8504609351182413\n",
      "1.0 0.8384639567240249\n",
      "1.0 0.7835488865359076\n",
      "1.0 0.904419898243581\n",
      "1.0 0.9073309346997591\n",
      "1.0 0.9247445899534926\n",
      "1.0 0.9391106576284696\n",
      "1.0 0.949735796558594\n",
      "1.0 0.9473254608638738\n",
      "1.0 0.9996274115798024\n",
      "1.0 0.8904548222835148\n",
      "1.0 1.0889220538146733\n",
      "1.0 1.0462627567366016\n",
      "1.0 1.0002013394982492\n",
      "1.0 1.065333458739413\n",
      "1.0 0.9757574767403399\n",
      "1.0 0.9686540420791753\n",
      "1.0 1.0436398362547101\n",
      "1.0 1.0470310594113736\n",
      "1.0 1.0613178299190795\n",
      "1.0 0.9669055238025953\n",
      "1.0 0.970497191725866\n",
      "1.0 1.0207699577395204\n",
      "1.0 1.0033723100271348\n",
      "1.0 0.9906853323131993\n",
      "1.0 1.042848564397786\n",
      "1.0 1.082582517490352\n",
      "1.0 1.0722310504838237\n",
      "1.0 1.0835192498490354\n",
      "1.0 1.146342442454047\n",
      "1.0 1.107829824987044\n",
      "1.0 1.2545043988961546\n",
      "1.0 1.2330348622203464\n",
      "1.0 1.1594798614762314\n",
      "1.0 1.1319245174955368\n",
      "1.0 1.149058430815392\n",
      "1.0 1.1200531588806149\n",
      "1.0 1.1374271655507129\n",
      "2.0 1.9689598319436936\n",
      "2.0 2.0126620974323512\n",
      "2.0 2.058031951860327\n",
      "2.0 1.9518673015591606\n",
      "2.0 2.0536170313371036\n",
      "2.0 2.026773764227758\n",
      "2.0 2.119621989292922\n",
      "2.0 1.8004523122593636\n",
      "2.0 2.0087417733206365\n",
      "2.0 2.0223527736942515\n",
      "2.0 1.8579656337352002\n",
      "2.0 2.071091773727261\n",
      "2.0 1.8906485104492405\n",
      "2.0 2.1254936139803124\n",
      "2.0 1.947952408458887\n",
      "2.0 2.0499643091387023\n",
      "2.0 2.17575580346406\n",
      "2.0 1.9456549485047911\n",
      "2.0 2.170855834907349\n",
      "2.0 1.976652665247508\n",
      "2.0 2.3317184640898363\n",
      "2.0 2.0374794762033943\n",
      "2.0 2.2541775455779574\n",
      "2.0 2.1350301337479625\n",
      "2.0 2.08894663895798\n",
      "2.0 2.1317188117766763\n",
      "2.0 2.1973752728215854\n",
      "2.0 2.338955858231037\n",
      "2.0 2.241910728441262\n",
      "2.0 1.9427781968217686\n",
      "2.0 2.049208315867152\n",
      "2.0 2.00693233729029\n",
      "2.0 2.0890854597710176\n",
      "2.0 2.415326692904407\n",
      "2.0 2.320354902920167\n",
      "2.0 2.3160275170832594\n",
      "2.0 2.2872668450183493\n",
      "2.0 2.2198152226111265\n",
      "2.0 2.2052777822232708\n",
      "2.0 2.2126197467440205\n",
      "2.0 2.2510402886654157\n",
      "2.0 2.3129068045292103\n",
      "2.0 2.1813346202268193\n",
      "2.0 2.0614272797624613\n",
      "2.0 2.2722796351823806\n",
      "2.0 2.234212062351852\n",
      "2.0 2.2767441418203056\n",
      "2.0 2.2703434161778633\n",
      "2.0 2.0713723569039324\n",
      "2.0 2.284359778264651\n",
      "3.0 2.9563947310650507\n",
      "3.0 2.6591571720361147\n",
      "3.0 2.780023322410787\n",
      "3.0 2.6890815709579035\n",
      "3.0 2.847643511023284\n",
      "3.0 2.887691993300362\n",
      "3.0 2.5892146737499537\n",
      "3.0 2.7737911286339525\n",
      "3.0 2.7431227742794815\n",
      "3.0 2.978329118760132\n",
      "3.0 2.7055469235108287\n",
      "3.0 2.7294869241862982\n",
      "3.0 2.8055763169137706\n",
      "3.0 2.774244902124212\n",
      "3.0 2.9181213496574356\n",
      "3.0 2.8807564858456303\n",
      "3.0 2.7539742687089603\n",
      "3.0 3.0028148654524696\n",
      "3.0 3.101513310991902\n",
      "3.0 2.6411115454598013\n",
      "3.0 2.9534690651274627\n",
      "3.0 2.8163402766569323\n",
      "3.0 2.994412463670825\n",
      "3.0 2.724554403729747\n",
      "3.0 2.926784996370765\n",
      "3.0 2.856365083552056\n",
      "3.0 2.7340429352130196\n",
      "3.0 2.7598337533757866\n",
      "3.0 2.9683330270562935\n",
      "3.0 2.79072303221817\n",
      "3.0 2.939052485367596\n",
      "3.0 2.977891487854211\n",
      "3.0 3.030848295825848\n",
      "3.0 2.729939737366703\n",
      "3.0 2.803332378437189\n",
      "3.0 3.085776645391408\n",
      "3.0 3.1199319167642043\n",
      "3.0 2.912492827712912\n",
      "3.0 2.8302939866382664\n",
      "3.0 2.9795662421566567\n",
      "3.0 3.131401392033694\n",
      "3.0 3.0107644036659806\n",
      "3.0 2.96089812969908\n",
      "3.0 3.1619188877362587\n",
      "3.0 3.2062842136600036\n",
      "3.0 3.0709838103117635\n",
      "3.0 2.9476500702870645\n",
      "3.0 2.9985989612481863\n",
      "3.0 3.1481161714498214\n",
      "3.0 2.9669877701850833\n"
     ]
    }
   ],
   "source": [
    "y_predicted = regression.predict(train_x)\n",
    "for i in range(0, len(train_x)):\n",
    "    print(train_y[i], y_predicted[i])"
   ]
  },
  {
   "cell_type": "markdown",
   "id": "e1fa1307",
   "metadata": {},
   "source": [
    "## Plotting"
   ]
  },
  {
   "cell_type": "code",
   "execution_count": 60,
   "id": "84a13e58",
   "metadata": {},
   "outputs": [
    {
     "data": {
      "text/plain": [
       "Text(0.5, 0, 'area')"
      ]
     },
     "execution_count": 60,
     "metadata": {},
     "output_type": "execute_result"
    },
    {
     "data": {
      "image/png": "[encoded data removed]",
      "text/plain": [
       "<Figure size 432x288 with 1 Axes>"
      ]
     },
     "metadata": {
      "needs_background": "light"
     },
     "output_type": "display_data"
    }
   ],
   "source": [
    "from mpl_toolkits.mplot3d import Axes3D\n",
    "fig = plt.figure(1)\n",
    "ax = fig.add_subplot(111, projection='3d')\n",
    "ax.scatter(train_x[:,0], train_x[:, 1], y_predicted)\n",
    "ax.set_xlabel('X')\n",
    "ax.set_ylabel('Y')\n",
    "ax.set_zlabel('area')"
   ]
  },
  {
   "cell_type": "markdown",
   "id": "cc62a6e7",
   "metadata": {},
   "source": [
    "## Metrics"
   ]
  },
  {
   "cell_type": "code",
   "execution_count": 61,
   "id": "00627a37",
   "metadata": {},
   "outputs": [
    {
     "name": "stdout",
     "output_type": "stream",
     "text": [
      "Mean Absolute Error:  0.13544335217293138\n",
      "Mean Squared Error:  0.02810990572541044\n"
     ]
    }
   ],
   "source": [
    "print(\"Mean Absolute Error: \", metrics.mean_absolute_error(train_y, y_predicted))\n",
    "print(\"Mean Squared Error: \", metrics.mean_squared_error(train_y, y_predicted))"
   ]
  },
  {
   "cell_type": "code",
   "execution_count": 62,
   "id": "e877b73f",
   "metadata": {},
   "outputs": [
    {
     "name": "stdout",
     "output_type": "stream",
     "text": [
      "Root Mean Squared Error:  0.1676600898407562\n"
     ]
    }
   ],
   "source": [
    "print(\"Root Mean Squared Error: \", np.sqrt(metrics.mean_squared_error(train_y, y_predicted)))"
   ]
  },
  {
   "cell_type": "markdown",
   "id": "6ca707fc",
   "metadata": {},
   "source": [
    "# Notepad Code"
   ]
  },
  {
   "cell_type": "code",
   "execution_count": 63,
   "id": "94b5ead0",
   "metadata": {},
   "outputs": [
    {
     "name": "stdout",
     "output_type": "stream",
     "text": [
      "    Year  Placement\n",
      "0   2000         50\n",
      "1   2001         54\n",
      "2   2002         62\n",
      "3   2003         78\n",
      "4   2004         65\n",
      "5   2005         69\n",
      "6   2006         72\n",
      "7   2007         77\n",
      "8   2008         85\n",
      "9   2009         98\n",
      "10  2010         75\n",
      "11  2011         80\n",
      "12  2012         82\n",
      "13  2013         85\n",
      "14  2014         88\n",
      "15  2015         75\n",
      "16  2016         90\n",
      "17  2017         93\n",
      "18  2018         95\n",
      "19  2019         98\n",
      "    Year  Placement\n",
      "0   2000         50\n",
      "1   2001         54\n",
      "2   2002         62\n",
      "3   2003         65\n",
      "4   2004         68\n",
      "5   2005         70\n",
      "6   2006         71\n",
      "7   2007         74\n",
      "8   2008         76\n",
      "9   2009         80\n",
      "10  2010         82\n",
      "11  2011         84\n",
      "12  2012         86\n",
      "13  2013         90\n",
      "14  2014         91\n",
      "15  2015         93\n",
      "16  2016         94\n",
      "17  2017         95\n",
      "18  2018         98\n",
      "19  2019        100\n"
     ]
    }
   ],
   "source": [
    "datafile = pd.DataFrame()\n",
    "datafile[0] = np.arange(2000,2020)\n",
    "datafile[1] = [50,54,62,78,65,69,72,77,85,98,75,80,82,85,88,75,90,93,95,98]\n",
    "datafile1 = pd.DataFrame()\n",
    "datafile1[0] = np.arange(2000,2020)\n",
    "datafile1[1] = [50,54,62,65,68,70,71,74,76,80,82,84,86,90,91,93,94,95,98,100]\n",
    "datafile.columns =[\"Year\",\"Placement\"]\n",
    "datafile1.columns =[\"Year\",\"Placement\"]\n",
    "print(datafile)\n",
    "print(datafile1)"
   ]
  },
  {
   "cell_type": "code",
   "execution_count": 64,
   "id": "da07fd3a",
   "metadata": {},
   "outputs": [
    {
     "name": "stderr",
     "output_type": "stream",
     "text": [
      "No handles with labels found to put in legend.\n"
     ]
    },
    {
     "data": {
      "image/png": "[encoded data removed]",
      "text/plain": [
       "<Figure size 432x288 with 1 Axes>"
      ]
     },
     "metadata": {
      "needs_background": "light"
     },
     "output_type": "display_data"
    }
   ],
   "source": [
    "plt.scatter(datafile['Year'],datafile['Placement'])\n",
    "plt.title(\"Placement plot\")\n",
    "plt.xlim(2000,2020)\n",
    "plt.ylim(45,100)\n",
    "plt.xticks(np.arange(2000,2020,2))\n",
    "plt.legend()\n",
    "plt.xlabel(\"Year\")\n",
    "plt.ylabel(\"Placement\")\n",
    "plt.show()"
   ]
  },
  {
   "cell_type": "code",
   "execution_count": 65,
   "id": "1978e856",
   "metadata": {},
   "outputs": [
    {
     "name": "stdout",
     "output_type": "stream",
     "text": [
      "[[2000]\n",
      " [2001]\n",
      " [2002]\n",
      " [2003]\n",
      " [2004]\n",
      " [2005]\n",
      " [2006]\n",
      " [2007]\n",
      " [2008]\n",
      " [2009]\n",
      " [2010]\n",
      " [2011]\n",
      " [2012]\n",
      " [2013]\n",
      " [2014]\n",
      " [2015]\n",
      " [2016]\n",
      " [2017]\n",
      " [2018]\n",
      " [2019]]\n",
      "[[50]\n",
      " [54]\n",
      " [62]\n",
      " [78]\n",
      " [65]\n",
      " [69]\n",
      " [72]\n",
      " [77]\n",
      " [85]\n",
      " [98]\n",
      " [75]\n",
      " [80]\n",
      " [82]\n",
      " [85]\n",
      " [88]\n",
      " [75]\n",
      " [90]\n",
      " [93]\n",
      " [95]\n",
      " [98]]\n",
      "Coefficients:  [[1.94661654]]\n",
      "Intercept:  [-3833.17593985]\n"
     ]
    },
    {
     "data": {
      "image/png": "[encoded data removed]",
      "text/plain": [
       "<Figure size 432x288 with 2 Axes>"
      ]
     },
     "metadata": {
      "needs_background": "light"
     },
     "output_type": "display_data"
    }
   ],
   "source": [
    "import seaborn as sb\n",
    "data_corr = datafile.corr()\n",
    "sb.heatmap(data_corr,annot=True)\n",
    "\n",
    "from sklearn import linear_model\n",
    "regress = linear_model.LinearRegression()\n",
    "\n",
    "train_x = np.asanyarray(datafile[['Year']])\n",
    "train_y = np.asanyarray(datafile[['Placement']])\n",
    "print(train_x)\n",
    "print(train_y)\n",
    "\n",
    "regress.fit (train_x,train_y)\n",
    "# The coefficients\n",
    "print ('Coefficients: ', regress.coef_)\n",
    "print ('Intercept: ',regress.intercept_)"
   ]
  },
  {
   "cell_type": "code",
   "execution_count": 66,
   "id": "d550753e",
   "metadata": {},
   "outputs": [
    {
     "data": {
      "image/png": "[encoded data removed]",
      "text/plain": [
       "<Figure size 432x288 with 1 Axes>"
      ]
     },
     "metadata": {
      "needs_background": "light"
     },
     "output_type": "display_data"
    }
   ],
   "source": [
    "plt.scatter(datafile.Year, datafile.Placement,  color='blue',label=\"Actual\")\n",
    "plt.plot(train_x, regress.coef_[0][0]*train_x + regress.intercept_[0], '-r',label=\"Predicted\")\n",
    "plt.title(\"Placement plot\")\n",
    "plt.xlim(2000,2020)\n",
    "plt.ylim(45,100)\n",
    "plt.xticks(np.arange(2000,2020,2))\n",
    "plt.legend()\n",
    "plt.xlabel(\"Year\")\n",
    "plt.ylabel(\"Placement\")\n",
    "plt.show()"
   ]
  },
  {
   "cell_type": "code",
   "execution_count": 67,
   "id": "a6dff470",
   "metadata": {},
   "outputs": [
    {
     "name": "stdout",
     "output_type": "stream",
     "text": [
      "[[2000]\n",
      " [2001]\n",
      " [2002]\n",
      " [2003]\n",
      " [2004]\n",
      " [2005]\n",
      " [2006]\n",
      " [2007]\n",
      " [2008]\n",
      " [2009]\n",
      " [2010]\n",
      " [2011]\n",
      " [2012]\n",
      " [2013]\n",
      " [2014]\n",
      " [2015]\n",
      " [2016]\n",
      " [2017]\n",
      " [2018]\n",
      " [2019]]\n",
      "[[50]\n",
      " [54]\n",
      " [62]\n",
      " [78]\n",
      " [65]\n",
      " [69]\n",
      " [72]\n",
      " [77]\n",
      " [85]\n",
      " [98]\n",
      " [75]\n",
      " [80]\n",
      " [82]\n",
      " [85]\n",
      " [88]\n",
      " [75]\n",
      " [90]\n",
      " [93]\n",
      " [95]\n",
      " [98]]\n",
      "Coefficients:  [[2.44586466]]\n",
      "Intercept:  [-4835.81503759]\n"
     ]
    }
   ],
   "source": [
    "from sklearn import linear_model\n",
    "regress = linear_model.LinearRegression()\n",
    "\n",
    "regress1 = linear_model.LinearRegression()\n",
    "train_x1 = np.asanyarray(datafile1[['Year']])\n",
    "train_y1 = np.asanyarray(datafile1[['Placement']])\n",
    "print(train_x)\n",
    "print(train_y)\n",
    "\n",
    "regress1.fit (train_x1,train_y1)\n",
    "# The coefficients\n",
    "print ('Coefficients: ', regress1.coef_)\n",
    "print ('Intercept: ',regress1.intercept_)"
   ]
  },
  {
   "cell_type": "code",
   "execution_count": 68,
   "id": "797e87ea",
   "metadata": {},
   "outputs": [
    {
     "data": {
      "image/png": "[encoded data removed]",
      "text/plain": [
       "<Figure size 432x288 with 1 Axes>"
      ]
     },
     "metadata": {
      "needs_background": "light"
     },
     "output_type": "display_data"
    }
   ],
   "source": [
    "plt.scatter(datafile1.Year, datafile1.Placement,  color='blue',label=\"Actual\")\n",
    "plt.plot(train_x, regress1.coef_[0][0]*train_x1 + regress1.intercept_[0], '-r',label=\"Predicted\")\n",
    "plt.title(\"Placement plot\")\n",
    "plt.xlim(2000,2020)\n",
    "plt.ylim(45,100)\n",
    "plt.xticks(np.arange(2000,2020,2))\n",
    "plt.legend()\n",
    "plt.xlabel(\"Year\")\n",
    "plt.ylabel(\"Placement\")\n",
    "plt.show()"
   ]
  },
  {
   "cell_type": "code",
   "execution_count": 69,
   "id": "6ec9328c",
   "metadata": {},
   "outputs": [
    {
     "name": "stdout",
     "output_type": "stream",
     "text": [
      "[[2000]\n",
      " [2001]\n",
      " [2002]\n",
      " [2003]\n",
      " [2004]\n",
      " [2005]\n",
      " [2006]\n",
      " [2007]\n",
      " [2008]\n",
      " [2009]\n",
      " [2010]\n",
      " [2011]\n",
      " [2012]\n",
      " [2013]\n",
      " [2014]\n",
      " [2015]\n",
      " [2016]\n",
      " [2017]\n",
      " [2018]\n",
      " [2019]]\n",
      "[[50]\n",
      " [54]\n",
      " [62]\n",
      " [78]\n",
      " [65]\n",
      " [69]\n",
      " [72]\n",
      " [77]\n",
      " [85]\n",
      " [98]\n",
      " [75]\n",
      " [80]\n",
      " [82]\n",
      " [85]\n",
      " [88]\n",
      " [75]\n",
      " [90]\n",
      " [93]\n",
      " [95]\n",
      " [98]]\n",
      "Coefficients:  [[1.94661654]]\n",
      "Intercept:  [-3833.17593985]\n",
      "[50] [60.05714286]\n",
      "[54] [62.0037594]\n",
      "[62] [63.95037594]\n",
      "[78] [65.89699248]\n",
      "[65] [67.84360902]\n",
      "[69] [69.79022556]\n",
      "[72] [71.73684211]\n",
      "[77] [73.68345865]\n",
      "[85] [75.63007519]\n",
      "[98] [77.57669173]\n",
      "[75] [79.52330827]\n",
      "[80] [81.46992481]\n",
      "[82] [83.41654135]\n",
      "[85] [85.36315789]\n",
      "[88] [87.30977444]\n",
      "[75] [89.25639098]\n",
      "[90] [91.20300752]\n",
      "[93] [93.14962406]\n",
      "[95] [95.0962406]\n",
      "[98] [97.04285714]\n",
      "[[60.05714286]\n",
      " [62.0037594 ]\n",
      " [63.95037594]\n",
      " [65.89699248]\n",
      " [67.84360902]\n",
      " [69.79022556]\n",
      " [71.73684211]\n",
      " [73.68345865]\n",
      " [75.63007519]\n",
      " [77.57669173]\n",
      " [79.52330827]\n",
      " [81.46992481]\n",
      " [83.41654135]\n",
      " [85.36315789]\n",
      " [87.30977444]\n",
      " [89.25639098]\n",
      " [91.20300752]\n",
      " [93.14962406]\n",
      " [95.0962406 ]\n",
      " [97.04285714]]\n",
      "   Year  Placement  Predicted\n",
      "0  2000         50  60.057143\n",
      "1  2001         54  62.003759\n",
      "2  2002         62  63.950376\n",
      "3  2003         78  65.896992\n",
      "4  2004         65  67.843609\n"
     ]
    }
   ],
   "source": [
    "from sklearn import linear_model\n",
    "regress = linear_model.LinearRegression()\n",
    "\n",
    "train_x = np.asanyarray(datafile[['Year']])\n",
    "train_y = np.asanyarray(datafile[['Placement']])\n",
    "print(train_x)\n",
    "print(train_y)\n",
    "\n",
    "regress.fit (train_x,train_y)\n",
    "# The coefficients\n",
    "print ('Coefficients: ', regress.coef_)\n",
    "print ('Intercept: ',regress.intercept_)\n",
    "y_predicted = regress.predict(train_x)\n",
    "for i in range(0,len(train_x)):\n",
    "    print(train_y[i],y_predicted[i])\n",
    "datafile['Predicted'] = y_predicted\n",
    "print(y_predicted)\n",
    "print(datafile.head())"
   ]
  },
  {
   "cell_type": "code",
   "execution_count": 70,
   "id": "90587b00",
   "metadata": {},
   "outputs": [
    {
     "name": "stdout",
     "output_type": "stream",
     "text": [
      "Mean Absolute Error: 4.712330827067649\n",
      "Mean Squared Error: 53.55274436090161\n",
      "Root Mean Squared Error: 7.317974061234544\n"
     ]
    }
   ],
   "source": [
    "from sklearn import metrics\n",
    "print('Mean Absolute Error:', metrics.mean_absolute_error(train_y, y_predicted))\n",
    "print('Mean Squared Error:', metrics.mean_squared_error(train_y, y_predicted))\n",
    "print('Root Mean Squared Error:', np.sqrt(metrics.mean_squared_error(train_y, y_predicted)))"
   ]
  },
  {
   "cell_type": "code",
   "execution_count": 71,
   "id": "4dbd0698",
   "metadata": {},
   "outputs": [
    {
     "name": "stdout",
     "output_type": "stream",
     "text": [
      "Mean absolute error (MAE): 4.712330827067649\n",
      "Mean square error (MSE):  53.55274436090161\n",
      "R2-score: %.2f (RMSE): 0.7017349483512629\n"
     ]
    }
   ],
   "source": [
    "from sklearn.metrics import r2_score\n",
    "\n",
    "test_x = np.asanyarray(datafile[['Year']])\n",
    "test_y = np.asanyarray(datafile[['Placement']])\n",
    "test_y_predicted = regress.predict(test_x)\n",
    "\n",
    "print(\"Mean absolute error (MAE):\" , np.mean(np.absolute(test_y_predicted - test_y)))\n",
    "print(\"Mean square error (MSE): \" , np.mean((test_y_predicted - test_y) ** 2))\n",
    "print(\"R2-score: %.2f (RMSE):\" , r2_score(test_y, test_y_predicted) )"
   ]
  },
  {
   "cell_type": "code",
   "execution_count": 72,
   "id": "3497f649",
   "metadata": {},
   "outputs": [
    {
     "name": "stdout",
     "output_type": "stream",
     "text": [
      "    Year\n",
      "11  2011\n",
      "3   2003\n",
      "18  2018\n",
      "16  2016\n",
      "13  2013\n",
      "2   2002\n",
      "9   2009\n",
      "19  2019\n",
      "4   2004\n",
      "12  2012\n",
      "7   2007\n",
      "10  2010\n",
      "14  2014\n",
      "6   2006\n",
      "Testing\n",
      "    Year\n",
      "0   2000\n",
      "17  2017\n",
      "15  2015\n",
      "1   2001\n",
      "8   2008\n",
      "5   2005\n",
      "Coefficients:  [[1.70675575]]\n",
      "Intercept:  [-3349.2809948]\n",
      "    Year\n",
      "0   2000\n",
      "17  2017\n",
      "15  2015\n",
      "1   2001\n",
      "8   2008\n",
      "5   2005\n",
      "    Placement\n",
      "0          50\n",
      "17         93\n",
      "15         75\n",
      "1          54\n",
      "8          85\n",
      "5          69\n",
      "[[64.23051225]\n",
      " [93.24536006]\n",
      " [89.83184855]\n",
      " [65.937268  ]\n",
      " [77.88455828]\n",
      " [72.76429102]]\n",
      "Mean Absolute Error: 8.687453600594003\n",
      "Mean Squared Error: 104.9748628433119\n",
      "Root Mean Squared Error: 10.245724124887996\n"
     ]
    }
   ],
   "source": [
    "from sklearn.model_selection import train_test_split\n",
    "\n",
    "train_x, test_x, train_y, test_y = train_test_split(datafile[['Year']], datafile[['Placement']], test_size=0.30, random_state=42)\n",
    "print(train_x)\n",
    "print(\"Testing\")\n",
    "print(test_x)\n",
    "\n",
    "from sklearn import linear_model\n",
    "regress = linear_model.LinearRegression()\n",
    "regress.fit (train_x,train_y)\n",
    "# The coefficients\n",
    "print ('Coefficients: ', regress.coef_)\n",
    "print ('Intercept: ',regress.intercept_)\n",
    "\n",
    "y_predicted = regress.predict(test_x)\n",
    "print(test_x)\n",
    "print(test_y)\n",
    "print(y_predicted)\n",
    "\n",
    "from sklearn import metrics\n",
    "print('Mean Absolute Error:', metrics.mean_absolute_error(test_y, y_predicted))\n",
    "print('Mean Squared Error:', metrics.mean_squared_error(test_y, y_predicted))\n",
    "print('Root Mean Squared Error:', np.sqrt(metrics.mean_squared_error(test_y, y_predicted)))\n"
   ]
  },
  {
   "cell_type": "code",
   "execution_count": null,
   "id": "e3e6595d",
   "metadata": {},
   "outputs": [],
   "source": []
  }
 ],
 "metadata": {
  "kernelspec": {
   "display_name": "Python 3",
   "language": "python",
   "name": "python3"
  },
  "language_info": {
   "codemirror_mode": {
    "name": "ipython",
    "version": 3
   },
   "file_extension": ".py",
   "mimetype": "text/x-python",
   "name": "python",
   "nbconvert_exporter": "python",
   "pygments_lexer": "ipython3",
   "version": "3.8.12"
  }
 },
 "nbformat": 4,
 "nbformat_minor": 5
}
